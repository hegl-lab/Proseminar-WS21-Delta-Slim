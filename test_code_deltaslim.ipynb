{
 "cells": [
  {
   "cell_type": "code",
   "execution_count": 2,
   "metadata": {},
   "outputs": [],
   "source": [
    "import drawSvg as draw\n",
    "import math\n",
    "from constructions import deltaLines_of_Line,isPointOnSegment\n",
    "from hyperbolic import util\n",
    "from hyperbolic.euclid import intersection\n",
    "from hyperbolic.euclid.shapes import  Arc, Line as ELine, OriginLine, Circle\n",
    "from hyperbolic.poincare.shapes import *"
   ]
  },
  {
   "cell_type": "code",
   "execution_count": 3,
   "metadata": {},
   "outputs": [],
   "source": [
    "def deltaLines_of_Line(Line, offset):\n",
    "    hc1=Hypercycle.fromHypercycleOffset(Line,offset)\n",
    "    hc2=Hypercycle.fromHypercycleOffset(Line,-offset)\n",
    "    return [hc1,hc2]"
   ]
  },
  {
   "cell_type": "code",
   "execution_count": 5,
   "metadata": {},
   "outputs": [],
   "source": [
    "def ips_with_deltaneigbourhood(sideLine,deltaLines,delta):\n",
    "    PL=[]\n",
    "    for l in deltaLines:\n",
    "        for h in deltaLines_of_Line(l,delta):\n",
    "            px1,py1,px2,py2=intersection.circleCircle(h.projShape,sideLine.projShape)\n",
    "            if isPointOnSegment(px1,py1,sideLine):\n",
    "                PL.append(Point.fromEuclid(px1,py1))\n",
    "            elif isPointOnSegment(px2,py1,sideLine):\n",
    "                PL.append(Point.fromEuclid(px2,py2))\n",
    "    return PL\n"
   ]
  }
 ],
 "metadata": {
  "interpreter": {
   "hash": "b3ba2566441a7c06988d0923437866b63cedc61552a5af99d1f4fb67d367b25f"
  },
  "kernelspec": {
   "display_name": "Python 3.9.7 64-bit ('base': conda)",
   "language": "python",
   "name": "python3"
  },
  "language_info": {
   "codemirror_mode": {
    "name": "ipython",
    "version": 3
   },
   "file_extension": ".py",
   "mimetype": "text/x-python",
   "name": "python",
   "nbconvert_exporter": "python",
   "pygments_lexer": "ipython3",
   "version": "3.9.7"
  },
  "orig_nbformat": 4
 },
 "nbformat": 4,
 "nbformat_minor": 2
}
