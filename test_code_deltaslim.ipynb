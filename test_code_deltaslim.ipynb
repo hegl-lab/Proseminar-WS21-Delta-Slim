{
 "cells": [
  {
   "cell_type": "code",
   "execution_count": 4,
   "metadata": {},
   "outputs": [
    {
     "name": "stderr",
     "output_type": "stream",
     "text": [
      "C:\\ProgramData\\Anaconda3\\lib\\site-packages\\drawSvg\\raster.py:18: RuntimeWarning: Failed to import CairoSVG. drawSvg will be unable to output PNG or other raster image formats. See https://github.com/cduck/drawSvg#prerequisites for more details.\n",
      "Original OSError: no library called \"cairo-2\" was found\n",
      "no library called \"cairo\" was found\n",
      "no library called \"libcairo-2\" was found\n",
      "cannot load library 'libcairo.so.2': error 0x7e\n",
      "cannot load library 'libcairo.2.dylib': error 0x7e\n",
      "cannot load library 'libcairo-2.dll': error 0x7e\n",
      "  warnings.warn(msg, RuntimeWarning)\n"
     ]
    }
   ],
   "source": [
    "import drawSvg as draw\n",
    "import math\n",
    "from constructions import deltaLines_of_Line,is_on_Linesegment,ips_with_deltaneigbourhood\n",
    "from hyperbolic import util\n",
    "from hyperbolic.euclid import intersection\n",
    "from hyperbolic.euclid.shapes import  Arc, Line as ELine, OriginLine, Circle\n",
    "from hyperbolic.poincare.shapes import *"
   ]
  },
  {
   "cell_type": "code",
   "execution_count": 73,
   "metadata": {},
   "outputs": [],
   "source": [
    "def deltaLines_of_Line(Line, offset):\n",
    "    hc1=Hypercycle.fromHypercycleOffset(Line,offset)\n",
    "    hc2=Hypercycle.fromHypercycleOffset(Line,-offset)\n",
    "    return [hc1,hc2]"
   ]
  },
  {
   "cell_type": "code",
   "execution_count": 8,
   "metadata": {},
   "outputs": [],
   "source": [
    "def is_on_Linesegment(px,py, Line):\n",
    "    ''' Assumes that the given point is on the line '''\n",
    "    assert Line.segment\n",
    "    assert isinstance(Line.projShape, ( Arc, ELine))    #check wheter Line has segment\n",
    "    if isinstance(Line.projShape, ELine): \n",
    "        K1=(Line.projShape.x1-px)*(Line.projShape.x1-Line.projShape.x2)+(Line.projShape.y1-py)*(Line.projShape.y1-Line.projShape.y2)\n",
    "        K2=(Line.projShape.x2-px)*(Line.projShape.x2-Line.projShape.x1)+(Line.projShape.y2-py)*(Line.projShape.y2-Line.projShape.y1)\n",
    "        if K1>=0 and K2>=0:     #do we need > ?\n",
    "            return True\n",
    "        else:\n",
    "            return False\n",
    "    elif isinstance(Line.projShape,Arc):\n",
    "        px = px-Line.projShape.cx\n",
    "        py = py-Line.projShape.cy\n",
    "        pDeg = math.degrees(math.atan2(py, px))\n",
    "        if not Line.projShape.cw:\n",
    "            return Line.projShape.startDeg<=pDeg and pDeg<=Line.projShape.endDeg    #do we need < ?\n",
    "        else:\n",
    "            return Line.projShape.startDeg>=pDeg and pDeg>=Line.projShape.endDeg    #do we need > ?"
   ]
  },
  {
   "cell_type": "code",
   "execution_count": 77,
   "metadata": {},
   "outputs": [],
   "source": [
    "def ips_with_deltaneigbourhood(sideLine,deltaLines,delta):\n",
    "    PL=[]\n",
    "    for l in deltaLines:\n",
    "        for h in deltaLines_of_Line(l,delta):\n",
    "            px1,py1,px2,py2=intersection.circleCircle(h.projShape,sideLine.projShape)\n",
    "            if is_on_Linesegment(px1,py1,sideLine):\n",
    "                PL.append(Point.fromEuclid(px1,py1))\n",
    "            elif is_on_Linesegment(px2,py1,sideLine):\n",
    "                PL.append(Point.fromEuclid(px2,py2))\n",
    "    return PL\n"
   ]
  }
 ],
 "metadata": {
  "interpreter": {
   "hash": "b3ba2566441a7c06988d0923437866b63cedc61552a5af99d1f4fb67d367b25f"
  },
  "kernelspec": {
   "display_name": "Python 3.9.7 64-bit ('base': conda)",
   "language": "python",
   "name": "python3"
  },
  "language_info": {
   "codemirror_mode": {
    "name": "ipython",
    "version": 3
   },
   "file_extension": ".py",
   "mimetype": "text/x-python",
   "name": "python",
   "nbconvert_exporter": "python",
   "pygments_lexer": "ipython3",
   "version": "3.9.7"
  },
  "orig_nbformat": 4
 },
 "nbformat": 4,
 "nbformat_minor": 2
}
