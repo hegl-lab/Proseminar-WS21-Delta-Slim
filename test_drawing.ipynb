{
 "cells": [
  {
   "cell_type": "code",
   "execution_count": 71,
   "metadata": {},
   "outputs": [],
   "source": [
    "import drawSvg as draw\n",
    "import math\n",
    "from hyperbolic import util\n",
    "from hyperbolic.euclid import intersection\n",
    "from hyperbolic.euclid.shapes import  Arc, Line as ELine, OriginLine, Circle\n",
    "from hyperbolic.poincare.shapes import *"
   ]
  },
  {
   "cell_type": "code",
   "execution_count": 73,
   "metadata": {},
   "outputs": [],
   "source": [
    "def deltaLines_of_Line(Line, offset):\n",
    "    hc1=Hypercycle.fromHypercycleOffset(Line,offset)\n",
    "    hc2=Hypercycle.fromHypercycleOffset(Line,-offset)\n",
    "    return [hc1,hc2]"
   ]
  },
  {
   "cell_type": "code",
   "execution_count": 68,
   "metadata": {},
   "outputs": [],
   "source": [
    "def is_on_Linesegment(px,py, Line):\n",
    "    ''' Assumes that the given point is on the line '''\n",
    "    assert Line.segment\n",
    "    assert isinstance(Line.projShape, ( Arc, ELine))    #check wheter Line has segment\n",
    "    if isinstance(Line.projShape, ELine): \n",
    "        K1=(Line.projShape.x1-px)*(Line.projShape.x1-Line.projShape.x2)+(Line.projShape.y1-py)*(Line.projShape.y1-Line.projShape.y2)\n",
    "        K2=(Line.projShape.x2-px)*(Line.projShape.x2-Line.projShape.x1)+(Line.projShape.y2-py)*(Line.projShape.y2-Line.projShape.y1)\n",
    "        if K1>=0 and K2>=0:     #do we need > ?\n",
    "            return True\n",
    "        else:\n",
    "            return False\n",
    "    elif isinstance(Line.projShape,Arc):\n",
    "        px = px-Line.projShape.cx\n",
    "        py = py-Line.projShape.cy\n",
    "        pDeg = math.degrees(math.atan2(py, px))\n",
    "        if not Line.projShape.cw:\n",
    "            return Line.projShape.startDeg<=pDeg and pDeg<=Line.projShape.endDeg    #do we need < ?\n",
    "        else:\n",
    "            return Line.projShape.startDeg>=pDeg and pDeg>=Line.projShape.endDeg    #do we need > ?"
   ]
  },
  {
   "cell_type": "code",
   "execution_count": 77,
   "metadata": {},
   "outputs": [],
   "source": [
    "def ips_with_deltaneigbourhood(sideLine,deltaLines,delta):\n",
    "    PL=[]\n",
    "    for l in deltaLines:\n",
    "        for h in deltaLines_of_Line(l,delta):\n",
    "            px1,py1,px2,py2=intersection.circleCircle(h.projShape,sideLine.projShape)\n",
    "            if is_on_Linesegment(px1,py1,sideLine):\n",
    "                PL.append(Point.fromEuclid(px1,py1))\n",
    "            elif is_on_Linesegment(px2,py1,sideLine):\n",
    "                PL.append(Point.fromEuclid(px2,py2))\n",
    "    return PL"
   ]
  },
  {
   "cell_type": "code",
   "execution_count": 76,
   "metadata": {},
   "outputs": [
    {
     "data": {
      "image/svg+xml": "<?xml version=\"1.0\" encoding=\"UTF-8\"?>\n<svg xmlns=\"http://www.w3.org/2000/svg\" xmlns:xlink=\"http://www.w3.org/1999/xlink\"\n     width=\"500\" height=\"500.0\" viewBox=\"-1.1 -1.1 2.2 2.2\">\n<defs>\n</defs>\n<circle cx=\"0\" cy=\"0\" r=\"1\" fill=\"orange\" stroke-width=\"0.01\" stroke=\"black\" />\n<path d=\"M0.6009973691583826,0.195609803543082 A4.312111854240222,4.312111854240222,0,0,0,-0.7002639362333452,0.09625789329545853 A0.35459786374203334,0.35459786374203334,0,0,1,-0.6997758332307551,0.10374164367054825 A4.952770864177918,4.952770864177918,0,0,1,0.5990450341772835,0.20439511988857095 A0.47687298917032217,0.47687298917032217,0,0,1,0.6009973691583845,0.1956098035430825 Z\" />\n<path d=\"M-0.9917271673994733,0.12836364532770417 A1.954749045237092,1.954749045237092,0,0,1,0.9557721112196977,0.294108264784654 A2.0578869123737045,2.0578869123737045,0,0,0,-0.9917271673994739,0.12836364532770417 Z\" fill=\"red\" />\n<path d=\"M-0.9917271673994461,0.12836364532770972 A14.46814746665004,14.46814746665004,0,0,0,0.9557721112196682,0.294108264784656 A10.164334027527913,10.164334027527913,0,0,1,-0.991727167399471,0.12836364532770617 Z\" fill=\"green\" />\n<path d=\"M-0.3048676590874735,-0.5008180167182423 A0.8865086924508808,0.8865086924508808,0,0,1,-0.7019965024932674,0.09683526685720989 A0.38652953810685253,0.38652953810685253,0,0,1,-0.6980258493049274,0.10319763070823362 A0.8635442307533152,0.8635442307533152,0,0,0,-0.2950993419155361,-0.4992100074711978 A0.7421994784487469,0.7421994784487469,0,0,1,-0.30486765908747343,-0.5008180167182422 Z\" />\n<path d=\"M-0.9771257680515575,0.21266225196224697 A1.2759846814283635,1.2759846814283635,0,0,0,-0.3407243692571911,-0.9401632327390226 A1.2184474932562943,1.2184474932562943,0,0,1,-0.9771257680515574,0.21266225196224664 Z\" fill=\"red\" />\n<path d=\"M-0.9771257680515575,0.21266225196224697 A0.7268660884088808,0.7268660884088808,0,0,0,-0.3407243692571914,-0.9401632327390224 A0.7175318710764992,0.7175318710764992,0,0,1,-0.9771257680515575,0.21266225196224708 Z\" fill=\"green\" />\n<path d=\"M-0.30372397908814674,-0.49673314229349375 A2.9566031000289517,2.9566031000289517,0,0,0,0.5979565566901814,0.20401280722407167 A0.4800183929294103,0.4800183929294103,0,0,1,0.6020779458017005,0.19601232966572352 A3.2443490973685396,3.2443490973685396,0,0,1,-0.2963101574591267,-0.5032934834445308 A0.5756611554303839,0.5756611554303839,0,0,1,-0.30372397908814935,-0.4967331422934967 Z\" />\n<path d=\"M0.9371324080342707,0.34897399589638334 A1.6317423848240304,1.6317423848240304,0,0,1,-0.5555292542891992,-0.8314969919542032 A1.7004159619969281,1.7004159619969281,0,0,0,0.9371324080342714,0.34897399589638334 Z\" fill=\"red\" />\n<path d=\"M0.9371324080342696,0.3489739958963831 A30.26753726395255,30.26753726395255,0,0,1,-0.5555292542891976,-0.8314969919542037 A346.7420993694446,346.7420993694446,0,0,0,0.9371324080371437,0.3489739958985183 Z\" fill=\"green\" />\n<circle cx=\"-0.5575178954979794\" cy=\"-0.010887671209080185\" r=\"0.015\" fill=\"blue\" />\n<circle cx=\"0.26037816807662884\" cy=\"-0.0034542701603030856\" r=\"0.015\" fill=\"blue\" />\n<circle cx=\"-0.5147882897919018\" cy=\"0.09165716894601506\" r=\"0.015\" fill=\"blue\" />\n<circle cx=\"-0.20480232167109413\" cy=\"-0.3972064710478964\" r=\"0.015\" fill=\"blue\" />\n<circle cx=\"0.20868082127820675\" cy=\"0.13059000988004055\" r=\"0.015\" fill=\"blue\" />\n<circle cx=\"-0.33245780462498065\" cy=\"-0.36792864608077\" r=\"0.015\" fill=\"blue\" />\n</svg>",
      "text/plain": [
       "<drawSvg.drawing.Drawing at 0x1ab608e6d90>"
      ]
     },
     "execution_count": 76,
     "metadata": {},
     "output_type": "execute_result"
    }
   ],
   "source": [
    "\n",
    "\n",
    "delta=0.3\n",
    "\n",
    "d = draw.Drawing(2.2, 2.2, origin='center')\n",
    "\n",
    "\n",
    "d.setRenderSize(500)\n",
    "d.append(draw.Circle(0, 0, 1, fill='orange',stroke_width=0.01, stroke='black'))\n",
    "\n",
    "p2=(0.6,-0.2)\n",
    "p1=(-0.7,-0.1)\n",
    "p3=(-0.3,0.5)\n",
    "PList=[p1,p2,p3]\n",
    "\n",
    "def triangle_sides_from_Points(Points):\n",
    "    L=[]\n",
    "    for i,x in enumerate(Points):\n",
    "        for y in Points[i+1:]:\n",
    "            L.append(Line.fromPoints(x[0],x[1],y[0],y[1],segment=True))\n",
    "    return L\n",
    "\n",
    "\n",
    "SList=triangle_sides_from_Points(PList)\n",
    "\n",
    "for l in SList:\n",
    "    d.draw(l, hwidth=0.03)\n",
    "    hcl=deltaLines_of_Line(l,delta)\n",
    "    d.draw(hcl[0],hwidth=0.03, fill='red')\n",
    "    d.draw(hcl[1],hwidth=0.03, fill='green')\n",
    "\n",
    "\n",
    "for i,x in enumerate(SList):\n",
    "    RestList=SList[:i]+SList[i+1:]\n",
    "    for y in RestList:\n",
    "        for h in deltaLines_of_Line(x,delta):\n",
    "            ip=intersection.circleCircle(y.projShape,h.projShape)\n",
    "            if is_on_Linesegment(ip[0],ip[1],x):\n",
    "                ip1=Point.fromEuclid(ip[0],ip[1])\n",
    "                d.draw(ip1, radius=0.015, fill='blue')\n",
    "            elif is_on_Linesegment(ip[2],ip[3],x):\n",
    "                ip2=Point.fromEuclid(ip[2],ip[3])\n",
    "                d.draw(ip2, radius=0.015, fill='blue')      \n",
    "        #perpl1=l.makePerpendicular(ip[0],ip[1])\n",
    "        #perpl2=l.makePerpendicular(ip[2],ip[3])\n",
    "        #d.draw(perpl1, hwidth=0.03, fill='red')\n",
    "        #d.draw(perpl2, hwidth=0.03, fill='green')\n",
    "\n",
    "d"
   ]
  }
 ],
 "metadata": {
  "interpreter": {
   "hash": "b3ba2566441a7c06988d0923437866b63cedc61552a5af99d1f4fb67d367b25f"
  },
  "kernelspec": {
   "display_name": "Python 3.9.7 64-bit ('base': conda)",
   "language": "python",
   "name": "python3"
  },
  "language_info": {
   "codemirror_mode": {
    "name": "ipython",
    "version": 3
   },
   "file_extension": ".py",
   "mimetype": "text/x-python",
   "name": "python",
   "nbconvert_exporter": "python",
   "pygments_lexer": "ipython3",
   "version": "3.9.7"
  },
  "orig_nbformat": 4
 },
 "nbformat": 4,
 "nbformat_minor": 2
}
