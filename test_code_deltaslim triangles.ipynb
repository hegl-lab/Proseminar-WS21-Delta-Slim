{
 "cells": [
  {
   "cell_type": "markdown",
   "id": "2a565975",
   "metadata": {},
   "source": [
    "not my own code but something to work with...\n",
    "\n",
    "found on https://pypi.org/project/drawSvg/\n"
   ]
  },
  {
   "cell_type": "code",
   "execution_count": 4,
   "id": "2446bddb",
   "metadata": {},
   "outputs": [
    {
     "data": {
      "application/vnd.jupyter.widget-view+json": {
       "model_id": "e3ab12045a6a48f29705a19e149641b2",
       "version_major": 2,
       "version_minor": 0
      },
      "text/plain": [
       "DrawingWidget()"
      ]
     },
     "metadata": {},
     "output_type": "display_data"
    }
   ],
   "source": [
    "import drawSvg as draw\n",
    "from drawSvg.widgets import DrawingWidget\n",
    "import hyperbolic.poincare.shapes as hyper  # pip3 install hyperbolic\n",
    "\n",
    "# Create drawing\n",
    "d = draw.Drawing(2, 2, origin='center')\n",
    "d.setRenderSize(500)\n",
    "d.append(draw.Circle(0, 0, 1, fill='orange'))\n",
    "group = draw.Group()\n",
    "d.append(group)\n",
    "\n",
    "# Update the drawing based on user input\n",
    "click_list = []\n",
    "def redraw(points):\n",
    "    group.children.clear()\n",
    "    for x1, y1 in points:\n",
    "        for x2, y2 in points:\n",
    "            if (x1, y1) == (x2, y2): continue\n",
    "            p1 = hyper.Point.fromEuclid(x1, y1)\n",
    "            p2 = hyper.Point.fromEuclid(x2, y2)\n",
    "            if p1.distanceTo(p2) <= 1e9:\n",
    "                line = hyper.Line.fromPoints(*p1, *p2, segment=True)\n",
    "                group.draw(line, hwidth=0.1, fill='white')\n",
    "    for x, y in points:\n",
    "        p = hyper.Point.fromEuclid(x, y)\n",
    "        group.draw(hyper.Circle.fromCenterRadius(p, 0.05), fill='green')\n",
    "redraw(click_list)\n",
    "\n",
    "# Create interactive widget and register mouse events\n",
    "widget = DrawingWidget(d)\n",
    "@widget.mousedown\n",
    "def mousedown(widget, x, y, info):\n",
    "        if (x**2 + y**2) ** 0.5 + 1e-5 < 1:\n",
    "            if len(click_list)<3:\n",
    "                click_list.append((x, y))\n",
    "        redraw(click_list)\n",
    "        widget.refresh()\n",
    "        \n",
    "        \n",
    "@widget.mousemove\n",
    "def mousemove(widget, x, y, info):\n",
    "    if (x**2 + y**2) ** 0.5 + 1e-5 < 1:\n",
    "        if len(click_list)<3:\n",
    "            redraw(click_list + [(x, y)])\n",
    "    widget.refresh()\n",
    "widget"
   ]
  },
  {
   "cell_type": "markdown",
   "id": "2e77d643",
   "metadata": {},
   "source": [
    "new code specific for our usecase"
   ]
  },
  {
   "cell_type": "code",
   "execution_count": 6,
   "id": "388d6c6d",
   "metadata": {},
   "outputs": [
    {
     "data": {
      "application/vnd.jupyter.widget-view+json": {
       "model_id": "82b40eefdc39497eb66b389216e7d291",
       "version_major": 2,
       "version_minor": 0
      },
      "text/plain": [
       "DrawingWidget()"
      ]
     },
     "metadata": {},
     "output_type": "display_data"
    }
   ],
   "source": [
    "import drawSvg as draw\n",
    "from drawSvg.widgets import DrawingWidget\n",
    "from hyperbolic import euclid, util\n",
    "from hyperbolic.poincare.shapes import *\n",
    "from hyperbolic.poincare import Transform\n",
    "import hyperbolic.poincare.shapes as hyper  # pip3 install hyperbolic\n",
    "\n",
    "delta=0.3\n",
    "click_list=[]\n",
    "lineStyle2 = dict(stroke_width=0.01, stroke='white', fill='none' #,stroke_dasharray='.02,.02'\n",
    "                 )\n",
    "\n",
    "# Create drawing\n",
    "d = draw.Drawing(2.2, 2.2, origin='center')\n",
    "d.setRenderSize(500)\n",
    "d.append(draw.Circle(0, 0, 1, fill='blue',stroke_width=0.02, stroke='black'))\n",
    "g=draw.Group()\n",
    "d.append(g)\n",
    "\n",
    "\n",
    "def draw_delta_neigbourhood_twosides(points,delta):\n",
    "    for i,x in enumerate(points):\n",
    "        p1=hyper.Point.fromEuclid(x[0],x[1])\n",
    "        g.draw(hyper.Circle.fromCenterRadius(p1, delta), fill='red',fill_opacity=1)\n",
    "        for y in points[i+1:]:\n",
    "            if i==0:\n",
    "                p2=hyper.Point.fromEuclid(y[0],y[1])\n",
    "                line = hyper.Line.fromPoints(*p1, *p2, segment=True)\n",
    "                g.draw(line, hwidth=2*delta, fill='red',fill_opacity=1)\n",
    "                \n",
    "def redraw(points):\n",
    "    for i,x in enumerate(points):\n",
    "        p1=hyper.Point.fromEuclid(x[0],x[1])\n",
    "        for y in points[i+1:]:\n",
    "            p2=hyper.Point.fromEuclid(y[0],y[1])\n",
    "            line=Line.fromPoints(*p1,*p2,segment=True)\n",
    "            g.draw(line, **lineStyle2)\n",
    "        g.draw(hyper.Circle.fromCenterRadius(p1, 0.01), fill='white')\n",
    "        \n",
    "def shift(seq, shift=1):\n",
    "    perm=shift%3 \n",
    "    return seq[-perm:] + seq[:-perm]\n",
    "\n",
    "clicks=0\n",
    "        \n",
    "widget = DrawingWidget(d)\n",
    "@widget.mousedown\n",
    "def mousedown(widget, x, y, info):\n",
    "        global clicks\n",
    "        clicks+=1\n",
    "        if (x**2 + y**2) ** 0.5 + 1e-5 < 1:\n",
    "            if clicks<3:\n",
    "                click_list.append((x, y))\n",
    "            elif clicks==3:\n",
    "                click_list.append((x,y))\n",
    "                g.children.clear()\n",
    "                draw_delta_neigbourhood_twosides(click_list,delta)\n",
    "                redraw(click_list)\n",
    "            else:\n",
    "                g.children.clear()\n",
    "                draw_delta_neigbourhood_twosides(shift(click_list,clicks),delta)\n",
    "                redraw(shift(click_list,clicks))\n",
    "        widget.refresh()\n",
    "        \n",
    "        \n",
    "@widget.mousemove\n",
    "def mousemove(widget, x, y, info):\n",
    "    if (x**2 + y**2) ** 0.5 + 1e-5 < 1:\n",
    "        if len(click_list)<3:\n",
    "            g.children.clear()\n",
    "            redraw(click_list + [(x, y)])\n",
    "    widget.refresh()\n",
    "widget"
   ]
  },
  {
   "cell_type": "code",
   "execution_count": 7,
   "id": "99594151",
   "metadata": {},
   "outputs": [
    {
     "name": "stdout",
     "output_type": "stream",
     "text": [
      "C:\\ProgramData\\Anaconda3\\python.exe\n"
     ]
    }
   ],
   "source": [
    "import sys\n",
    "path = sys.executable\n",
    "print(path)\n"
   ]
  },
  {
   "cell_type": "code",
   "execution_count": null,
   "id": "bb11218f",
   "metadata": {},
   "outputs": [],
   "source": []
  }
 ],
 "metadata": {
  "kernelspec": {
   "display_name": "Python 3 (ipykernel)",
   "language": "python",
   "name": "python3"
  },
  "language_info": {
   "codemirror_mode": {
    "name": "ipython",
    "version": 3
   },
   "file_extension": ".py",
   "mimetype": "text/x-python",
   "name": "python",
   "nbconvert_exporter": "python",
   "pygments_lexer": "ipython3",
   "version": "3.8.3"
  }
 },
 "nbformat": 4,
 "nbformat_minor": 5
}
