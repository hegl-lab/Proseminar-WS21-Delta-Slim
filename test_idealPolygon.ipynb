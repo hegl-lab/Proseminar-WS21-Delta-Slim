{
 "cells": [
  {
   "cell_type": "code",
   "execution_count": 12,
   "metadata": {},
   "outputs": [
    {
     "name": "stdout",
     "output_type": "stream",
     "text": [
      "Point(-0.104, 0.069) Point(-0.182, 0.212)\n"
     ]
    },
    {
     "data": {
      "image/svg+xml": "<?xml version=\"1.0\" encoding=\"UTF-8\"?>\n<svg xmlns=\"http://www.w3.org/2000/svg\" xmlns:xlink=\"http://www.w3.org/1999/xlink\"\n     width=\"500\" height=\"500.0\" viewBox=\"-1.05 -1.05 2.1 2.1\">\n<defs>\n</defs>\n<circle cx=\"0\" cy=\"0\" r=\"1\" fill=\"silver\" />\n<path d=\"M-0.6513806620718376,-0.758751100874888 A0.1386856608094052,0.1386856608094052,0,0,1,-0.8332809039593931,-0.5528498305115203 A0.7853205048547229,0.7853205048547229,0,0,0,-0.6513806620718376,-0.7587511008748882 A0.5831251170918785,0.5831251170918785,0,0,1,-0.8915421200195266,0.4529377973089551 Z\" stroke=\"black\" stroke-width=\"0.01\" fill=\"green\" />\n<path d=\"M-0.8332809039593931,-0.5528498305115204 A0.1386856608094052,0.1386856608094052,0,0,0,-0.6513806620718376,-0.758751100874888 A0.7853205048547229,0.7853205048547229,0,0,1,-0.8915421200195264,0.4529377973089556 A0.5831251170918785,0.5831251170918785,0,0,0,-0.8332809039593929,-0.5528498305115205 Z\" stroke=\"red\" stroke-width=\"0.01\" fill=\"white\" fill-opacity=\"0.5\" />\n<path d=\"M-0.18804165841483922,-0.20864340748576105 A9.474347789013432,9.474347789013432,0,0,1,-0.11051588761869624,-0.06553533879336815 A4.482880768056713,4.482880768056713,0,0,0,-0.09748403000284744,-0.07247848260473555 A7.377573990059428,7.377573990059428,0,0,0,-0.17596715209474567,-0.21538419876644976 A1.6834400069554254,1.6834400069554254,0,0,1,-0.18804165841484022,-0.20864340748576282 Z\" fill=\"red\" />\n</svg>",
      "text/plain": [
       "<drawSvg.drawing.Drawing at 0x245f8b70a30>"
      ]
     },
     "execution_count": 12,
     "metadata": {},
     "output_type": "execute_result"
    }
   ],
   "source": [
    "import drawSvg as draw\n",
    "from hyperbolic.poincare.shapes import *\n",
    "\n",
    "d = draw.Drawing(2.1, 2.1, origin='center')\n",
    "d.setRenderSize(500)\n",
    "d.append(draw.Circle(0, 0, 1, fill='silver'))\n",
    "\n",
    "p1=Point.fromEuclid(-0.104, 0.069)\n",
    "p2=Point.fromEuclid(-0.182, 0.212)\n",
    "p3=Point.fromEuclid(-0.622, -0.316)\n",
    "\n",
    "\n",
    "PList=[p1,p2,p3]\n",
    "PList=[Ideal(p.theta) for p in PList]\n",
    "\n",
    "poly=Polygon.fromVertices(PList)\n",
    "\n",
    "d.draw(poly,stroke='black', stroke_width=0.01, fill='green')\n",
    "d.draw(Polygon.fromEdges(poly.edges),stroke='red', stroke_width=0.01, fill='white', fill_opacity=0.5)\n",
    "\n",
    "c1,c2 = Ideal(2.4), Ideal(-0.2)\n",
    "l=Line.fromPoints(*p1,*p2, segment=True)\n",
    "d.draw(l, hwidth=0.03, fill='red')\n",
    "print(l.startPoint(), l.endPoint())\n",
    "\n",
    "d"
   ]
  }
 ],
 "metadata": {
  "interpreter": {
   "hash": "b3ba2566441a7c06988d0923437866b63cedc61552a5af99d1f4fb67d367b25f"
  },
  "kernelspec": {
   "display_name": "Python 3.9.7 64-bit ('base': conda)",
   "language": "python",
   "name": "python3"
  },
  "language_info": {
   "codemirror_mode": {
    "name": "ipython",
    "version": 3
   },
   "file_extension": ".py",
   "mimetype": "text/x-python",
   "name": "python",
   "nbconvert_exporter": "python",
   "pygments_lexer": "ipython3",
   "version": "3.9.7"
  },
  "orig_nbformat": 4
 },
 "nbformat": 4,
 "nbformat_minor": 2
}
