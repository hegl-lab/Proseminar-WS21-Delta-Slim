{
 "cells": [
  {
   "cell_type": "markdown",
   "id": "ca08a0c6",
   "metadata": {},
   "source": [
    "original code found on https://pypi.org/project/drawSvg/"
   ]
  },
  {
   "cell_type": "markdown",
   "id": "2e77d643",
   "metadata": {},
   "source": [
    "new code specific for our usecase"
   ]
  },
  {
   "cell_type": "code",
   "execution_count": 30,
   "id": "388d6c6d",
   "metadata": {},
   "outputs": [
    {
     "data": {
      "application/vnd.jupyter.widget-view+json": {
       "model_id": "7ea46eac4eb9474f856b6722a852ec3c",
       "version_major": 2,
       "version_minor": 0
      },
      "text/plain": [
       "DrawingWidget()"
      ]
     },
     "metadata": {},
     "output_type": "display_data"
    }
   ],
   "source": [
    "import drawSvg as draw\n",
    "from drawSvg.widgets import DrawingWidget\n",
    "from hyperbolic.poincare.shapes import *\n",
    "from constructions import shift\n",
    "\n",
    "delta=0.3\n",
    "click_list=[]\n",
    "lineStyle2 = dict(stroke_width=0.01, stroke='white', fill='none' #,stroke_dasharray='.02,.02'\n",
    "                 )\n",
    "\n",
    "# Create drawing\n",
    "d = draw.Drawing(2.2, 2.2, origin='center')\n",
    "d.setRenderSize(500)\n",
    "d.append(draw.Circle(0, 0, 1, fill='orange',stroke_width=0.01, stroke='black'))\n",
    "g=draw.Group()\n",
    "d.append(g)\n",
    "\n",
    "\n",
    "def draw_delta_neigbourhood_twosides(points,delta):\n",
    "    for i,x in enumerate(points):\n",
    "        p1=Point.fromEuclid(x[0],x[1])\n",
    "        g.draw(Circle.fromCenterRadius(p1, delta), fill='green',fill_opacity=1)\n",
    "        for y in points[i+1:]:\n",
    "            if i==0:\n",
    "                p2=Point.fromEuclid(y[0],y[1])\n",
    "                line = Line.fromPoints(*p1, *p2, segment=True)\n",
    "                g.draw(line, hwidth=2*delta, fill='green',fill_opacity=1)\n",
    "                \n",
    "def draw_thin_triangle(points):\n",
    "    for i,x in enumerate(points):\n",
    "        for y in points[i+1:]:\n",
    "            p1=Point.fromEuclid(x[0],x[1])\n",
    "            p2=Point.fromEuclid(y[0],y[1])\n",
    "            line=Line.fromPoints(*p1,*p2,segment=True)\n",
    "            g.draw(line, **lineStyle2)\n",
    "\n",
    "def draw_thick_line(points):\n",
    "    for i,x in enumerate(points):\n",
    "        for y in points[i+1:]:\n",
    "            p1=Point.fromEuclid(x[0],x[1])\n",
    "            p2=Point.fromEuclid(y[0],y[1])\n",
    "            line=Line.fromPoints(*p1,*p2,segment=True)\n",
    "            g.draw(line, hwidth=0.4,fill='red')\n",
    "    \n",
    "def redraw_Mousepoint(points):\n",
    "    for i,x in enumerate(points):\n",
    "        p=Point.fromEuclid(x[0],x[1])\n",
    "        g.draw(Circle.fromCenterRadius(p,0.02),fill='white')\n",
    "        \n",
    "\n",
    "\n",
    "clicks=0\n",
    "        \n",
    "widget = DrawingWidget(d)\n",
    "@widget.mousedown\n",
    "def mousedown(widget, x, y, info):\n",
    "        global clicks\n",
    "        clicks+=1\n",
    "        if (x**2 + y**2) ** 0.5 + 2e-10 < 1:\n",
    "            if clicks<3:\n",
    "                click_list.append((x, y))\n",
    "            elif clicks==3:\n",
    "                click_list.append((x,y))\n",
    "                g.children.clear()\n",
    "                draw_delta_neigbourhood_twosides(click_list,delta)\n",
    "                draw_thin_triangle(click_list)\n",
    "            else:\n",
    "                g.children.clear()\n",
    "                draw_delta_neigbourhood_twosides(shift(click_list,clicks),delta)\n",
    "                draw_thin_triangle(shift(click_list,clicks))\n",
    "        widget.refresh()\n",
    "        \n",
    "        \n",
    "@widget.mousemove\n",
    "def mousemove(widget, x, y, info):\n",
    "    if (x**2 + y**2) ** 0.5 + 2e-10 < 1:\n",
    "        if len(click_list)<3:\n",
    "            g.children.clear()\n",
    "            draw_thin_triangle(click_list + [(x, y)])\n",
    "            redraw_Mousepoint([(x,y)])\n",
    "    widget.refresh()\n",
    "    \n",
    "draw_thick_line([(0.5,0.4),(-0.2,-0.3)])\n",
    "widget\n"
   ]
  },
  {
   "cell_type": "code",
   "execution_count": 19,
   "id": "a719b7da",
   "metadata": {},
   "outputs": [
    {
     "name": "stdout",
     "output_type": "stream",
     "text": [
      "True\n"
     ]
    },
    {
     "data": {
      "image/svg+xml": "<?xml version=\"1.0\" encoding=\"UTF-8\"?>\n<svg xmlns=\"http://www.w3.org/2000/svg\" xmlns:xlink=\"http://www.w3.org/1999/xlink\"\n     width=\"500\" height=\"500.0\" viewBox=\"-1.1 -1.1 2.2 2.2\">\n<defs>\n</defs>\n<circle cx=\"0\" cy=\"0\" r=\"1\" fill=\"orange\" stroke-width=\"0.01\" stroke=\"black\" />\n<path d=\"M0.7341852441224357,0.35869103685299386 A0.19337111540717475,0.19337111540717475,0,0,0,0.75686931754433,0.0251068688654541\" fill=\"red\" fill-opacity=\"1\" />\n<path d=\"M-0.19732323342403824,0.7587836722206607 A0.2234904370999207,0.2234904370999207,0,0,1,-0.49045746214962205,0.49141970958821174\" fill=\"red\" fill-opacity=\"1\" />\n<path d=\"M-0.19732323342403824,0.7587836722206607 A9.57247842467539,9.57247842467539,0,0,0,0.7341852441224357,0.35869103685299386 A0.3326499550582841,0.3326499550582841,0,0,1,0.7568693175443297,0.025106868865454213 A0.8172556087463357,0.8172556087463357,0,0,0,-0.49045746214962194,0.4914197095882123 A0.43071743979580474,0.43071743979580474,0,0,1,-0.19732323342404634,0.7587836722206637 Z\" fill=\"red\" fill-opacity=\"1\" />\n<path d=\"M-0.481409076717358,0.6335919383781068 A0.22349043709992022,0.22349043709992022,0,0,0,-0.08144923407600638,0.6616100146886936\" fill=\"red\" fill-opacity=\"1\" />\n<path d=\"M-0.8199788469971985,-0.09579900294186713 A0.19337111540717414,0.19337111540717414,0,0,1,-0.6365091517068133,-0.3783003793270563\" fill=\"red\" fill-opacity=\"1\" />\n<path d=\"M-0.8199788469971985,-0.09579900294186716 A8.621615284170861,8.621615284170861,0,0,1,-0.481409076717358,0.6335919383781063 A0.45351214255770883,0.45351214255770883,0,0,1,-0.08144923407600643,0.6616100146886936 A0.6924914806396194,0.6924914806396194,0,0,0,-0.6365091517068132,-0.3783003793270565 A0.3428203565665093,0.3428203565665093,0,0,1,-0.8199788469972131,-0.0957990029418952 Z\" fill=\"red\" fill-opacity=\"1\" />\n<path d=\"M0.7009868499539209,0.19661607981442586 A66.67166659166799,66.67166659166799,0,0,0,-0.6990501600515309,-0.20339449447284608 A0.3227973252794192,0.3227973252794192,0,0,1,-0.7009868499555721,-0.19661607981492824 A66.67166659166844,66.67166659166844,0,0,0,0.6990501600544761,0.20339449447364188 A0.32279732527941946,0.32279732527941946,0,0,1,0.7009868499555763,0.19661607981491402 Z\" />\n<path d=\"M-0.2970728330249425,0.6028972207349452 A1.3636867515134792,1.3636867515134792,0,0,1,0.6998978686466617,0.2035187594653738 A0.3326499550582841,0.3326499550582841,0,0,1,0.7001397795094448,0.1964732291070985 A1.3100940345618932,1.3100940345618932,0,0,0,-0.30296391389812527,0.5971220742302216 A0.43071743979580474,0.43071743979580474,0,0,1,-0.2970728330249428,0.6028972207349456 Z\" />\n<path d=\"M-0.7020640259836729,-0.19715060283853703 A0.9726533151707375,0.9726533151707375,0,0,1,-0.30411541537668874,0.599929217141803 A0.45351214255770883,0.45351214255770883,0,0,1,-0.2958676546761853,0.6001086777708993 A0.9450783748290328,0.9450783748290328,0,0,0,-0.6979578848677398,-0.2028810435031706 A0.3428203565665093,0.3428203565665093,0,0,1,-0.7020640259836728,-0.19715060283853697 Z\" />\n<circle cx=\"-0.7\" cy=\"-0.2\" r=\"0.025\" fill=\"#eee\" />\n<text x=\"-0.7\" y=\"-0.2\" font-size=\"0.05\" text-anchor=\"middle\" dy=\"0.35em\">0</text>\n<circle cx=\"0.7\" cy=\"0.2\" r=\"0.025\" fill=\"#eee\" />\n<text x=\"0.7\" y=\"0.2\" font-size=\"0.05\" text-anchor=\"middle\" dy=\"0.35em\">1</text>\n<circle cx=\"-0.3\" cy=\"0.6\" r=\"0.025\" fill=\"#eee\" />\n<text x=\"-0.3\" y=\"0.6\" font-size=\"0.05\" text-anchor=\"middle\" dy=\"0.35em\">2</text>\n</svg>",
      "text/plain": [
       "<drawSvg.drawing.Drawing at 0x194d2907790>"
      ]
     },
     "execution_count": 19,
     "metadata": {},
     "output_type": "execute_result"
    }
   ],
   "source": [
    "import drawSvg as draw\n",
    "from constructions import deltaLines_of_Line, shift\n",
    "from deltaNeigbourhood import makeRoundCap\n",
    "from hyperbolic.poincare.shapes import *\n",
    "from Triangle import Triangle\n",
    "\n",
    "delta=0.8\n",
    "\n",
    "d = draw.Drawing(2.2, 2.2, origin='center')\n",
    "d.setRenderSize(500)\n",
    "d.append(draw.Circle(0, 0, 1, fill='orange',stroke_width=0.01, stroke='black'))\n",
    "\n",
    "p1=Point.fromEuclid(-0.7,0.2)\n",
    "p2=Point.fromEuclid(0.7,-0.2)\n",
    "p3=Point.fromEuclid(-0.3,-0.6)\n",
    "PList=[p1,p2,p3]\n",
    "#print(PList)\n",
    "\n",
    "IdealPoints=[Ideal.fromDegree(i/3*360) for i in range(2)]\n",
    "\n",
    "lineStyle1 = dict(fill='red', fill_opacity=1)\n",
    "\n",
    "def deltaNeigbourhood(triangle, delta, edgenumber=0):\n",
    "    for i,l in enumerate(triangle.edges):\n",
    "        if i==edgenumber:\n",
    "            continue\n",
    "        else:\n",
    "            d.draw(makeRoundCap(l, triangle.vertices[i], delta), **lineStyle1)\n",
    "            d.draw(makeRoundCap(l, triangle.vertices[(i+1)%len(triangle.vertices)], delta), **lineStyle1)\n",
    "            d.draw(l, hwidth=2*delta, **lineStyle1)\n",
    "\n",
    "Tri=Triangle.fromVertices(PList)\n",
    "PList=Tri.vertices\n",
    "SList=Tri.edges\n",
    "\n",
    "\"\"\"\n",
    "for p,l in zip(PList, SList):\n",
    "    d.draw(l.makePerpendicular(*p), hwidth=0.03)\n",
    "    cap = makeRoundCap(l, p,delta)\n",
    "    d.draw(l, hwidth=2*delta, fill='blue')\n",
    "    d.draw(cap, hwidth=0.03, fill='blue')\n",
    "\n",
    "d.draw(deltaTri, stroke_width=0.02, stroke='black', fill='none')\n",
    "\n",
    "for l in SList:\n",
    "    d.draw(l, hwidth=0.03)\n",
    "    d.draw(l.makeOffset(delta),hwidth=0.03, fill='green')\n",
    "    d.draw(l.makeOffset(-delta),hwidth=0.03, fill='red')\n",
    "\n",
    "\n",
    "for i,l in enumerate(SList):\n",
    "    RestList = SList[:i] + SList[i+1:]\n",
    "    for j,y in enumerate(RestList):\n",
    "        for h in deltaLines_of_Line(l,delta):\n",
    "            ips = y.intersectionsWithHcycle(h)\n",
    "            for p in ips:\n",
    "                d.draw(p, hradius=0.15, hwidth=0.02, fill='white', opacity=0.6)\n",
    "                if is_on_Linesegment(*p, y):\n",
    "                    d.draw(p, radius=0.01, fill='yellow')\n",
    "\n",
    "for i,v in enumerate(PList):\n",
    "    d.draw(v, radius=0.025, fill='#eee')\n",
    "    d.draw(draw.Text(str(i), 0.05, *v, center=0.7))\n",
    "\"\"\"\n",
    "deltaNeigbourhood(Tri, delta, 0)\n",
    "\n",
    "for l in Tri.edges:\n",
    "    d.draw(l, hwidth=0.03)\n",
    "\n",
    "for i,v in enumerate(Tri.vertices):\n",
    "    d.draw(v, radius=0.025, fill='#eee')\n",
    "    d.draw(draw.Text(str(i), 0.05, *v, center=0.7))\n",
    "\n",
    "\n",
    "\n",
    "print(Tri.isCovered(delta))\n",
    "d"
   ]
  },
  {
   "cell_type": "code",
   "execution_count": 9,
   "id": "e4804a6c",
   "metadata": {},
   "outputs": [
    {
     "name": "stdout",
     "output_type": "stream",
     "text": [
      "[Ideal(1.0, 0.0), Ideal(-0.5, 0.866), Ideal(-0.5, -0.866)]\n"
     ]
    },
    {
     "data": {
      "image/svg+xml": "<?xml version=\"1.0\" encoding=\"UTF-8\"?>\n<svg xmlns=\"http://www.w3.org/2000/svg\" xmlns:xlink=\"http://www.w3.org/1999/xlink\"\n     width=\"500\" height=\"500.0\" viewBox=\"-1.1 -1.1 2.2 2.2\">\n<defs>\n</defs>\n<circle cx=\"0\" cy=\"0\" r=\"1\" fill=\"orange\" stroke-width=\"0.01\" stroke=\"black\" />\n<circle cx=\"-0.4999999999999998\" cy=\"-0.8660254037844387\" r=\"0\" fill=\"red\" fill-opacity=\"1\" />\n<circle cx=\"-0.5000000000000004\" cy=\"0.8660254037844385\" r=\"0\" fill=\"red\" fill-opacity=\"1\" />\n<path d=\"M-0.5000000000000009,0.8660254037844377 A3.8314650407604995,3.8314650407604995,0,0,0,-0.5000000000000004,-0.8660254037844386 A1.1853650166111989,1.1853650166111989,0,0,1,-0.5000000000000006,0.8660254037844383 Z\" fill=\"red\" fill-opacity=\"1\" />\n<circle cx=\"-0.5000000000000004\" cy=\"0.8660254037844385\" r=\"0\" fill=\"red\" fill-opacity=\"1\" />\n<circle cx=\"1.0\" cy=\"-0.0\" r=\"0\" fill=\"red\" fill-opacity=\"1\" />\n<path d=\"M0.9999999999999964,8.881784197001252e-16 A3.831465040760519,3.831465040760519,0,0,0,-0.49999999999999867,0.8660254037844366 A1.1853650166112002,1.1853650166112002,0,0,1,1.0000000000000004,2.220446049250313e-16 Z\" fill=\"red\" fill-opacity=\"1\" />\n<path d=\"M-0.5000000000000002,-0.8660254037844393 A1.7784529630289838,1.7784529630289838,0,0,0,1.0000000000000002,2.220446049250313e-16 A1.6883786577052287,1.6883786577052287,0,0,1,-0.4999999999999998,-0.8660254037844388 Z\" />\n<path d=\"M-0.5000000000000004,0.8660254037844383 A1.778452963028983,1.778452963028983,0,0,0,-0.49999999999999956,-0.8660254037844385 A1.6883786577052282,1.6883786577052282,0,0,1,-0.5000000000000007,0.8660254037844385 Z\" />\n<path d=\"M0.9999999999999999,-2.220446049250313e-16 A1.7784529630289878,1.7784529630289878,0,0,0,-0.5000000000000007,0.8660254037844378 A1.6883786577052322,1.6883786577052322,0,0,1,1.0,-0.0 Z\" />\n<circle cx=\"1.0\" cy=\"-0.0\" r=\"0.025\" fill=\"#eee\" />\n<text x=\"1.0\" y=\"-0.0\" font-size=\"0.05\" text-anchor=\"middle\" dy=\"0.35em\">0</text>\n<circle cx=\"-0.4999999999999998\" cy=\"-0.8660254037844387\" r=\"0.025\" fill=\"#eee\" />\n<text x=\"-0.4999999999999998\" y=\"-0.8660254037844387\" font-size=\"0.05\" text-anchor=\"middle\" dy=\"0.35em\">1</text>\n<circle cx=\"-0.5000000000000004\" cy=\"0.8660254037844385\" r=\"0.025\" fill=\"#eee\" />\n<text x=\"-0.5000000000000004\" y=\"0.8660254037844385\" font-size=\"0.05\" text-anchor=\"middle\" dy=\"0.35em\">2</text>\n</svg>",
      "text/plain": [
       "<drawSvg.drawing.Drawing at 0x194c86953d0>"
      ]
     },
     "execution_count": 9,
     "metadata": {},
     "output_type": "execute_result"
    }
   ],
   "source": [
    "import drawSvg as draw\n",
    "from constructions import deltaLines_of_Line, shift\n",
    "from deltaNeigbourhood import makeRoundCap\n",
    "from hyperbolic.poincare.shapes import *\n",
    "from Triangle import Triangle\n",
    "\n",
    "delta=0.3\n",
    "\n",
    "d = draw.Drawing(2.2, 2.2, origin='center')\n",
    "d.setRenderSize(500)\n",
    "d.append(draw.Circle(0, 0, 1, fill='orange',stroke_width=0.01, stroke='black'))\n",
    "\n",
    "IdealPoints=[Ideal.fromDegree(i/3*360) for i in range(3)]\n",
    "print(IdealPoints)\n",
    "lineStyle1 = dict(fill='red', fill_opacity=1)\n",
    "\n",
    "def deltaNeigbourhood(triangle, delta, edgenumber=0):\n",
    "    for i,l in enumerate(triangle.edges):\n",
    "        if i==edgenumber:\n",
    "            continue\n",
    "        else:\n",
    "            d.draw(makeRoundCap(l, triangle.vertices[i], delta), **lineStyle1)\n",
    "            d.draw(makeRoundCap(l, triangle.vertices[(i+1)%len(triangle.vertices)], delta), **lineStyle1)\n",
    "            d.draw(l, hwidth=2*delta, **lineStyle1)\n",
    "\n",
    "Tri2=Triangle.fromVertices(IdealPoints)\n",
    "\n",
    "deltaNeigbourhood(Tri2, delta)\n",
    "\n",
    "for l in Tri2.edges:\n",
    "    d.draw(l, hwidth=0.03)\n",
    "\n",
    "for i,v in enumerate(Tri2.vertices):\n",
    "    d.draw(v, radius=0.025, fill='#eee')\n",
    "    d.draw(draw.Text(str(i), 0.05, *v, center=0.7))\n",
    "\n",
    "\n",
    "\n",
    "#print(Tri2.isCovered(delta))\n",
    "d"
   ]
  },
  {
   "cell_type": "code",
   "execution_count": null,
   "id": "0a4eaf39",
   "metadata": {},
   "outputs": [],
   "source": []
  }
 ],
 "metadata": {
  "kernelspec": {
   "display_name": "Python 3 (ipykernel)",
   "language": "python",
   "name": "python3"
  },
  "language_info": {
   "codemirror_mode": {
    "name": "ipython",
    "version": 3
   },
   "file_extension": ".py",
   "mimetype": "text/x-python",
   "name": "python",
   "nbconvert_exporter": "python",
   "pygments_lexer": "ipython3",
   "version": "3.9.7"
  }
 },
 "nbformat": 4,
 "nbformat_minor": 5
}
