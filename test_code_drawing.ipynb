{
 "cells": [
  {
   "cell_type": "markdown",
   "id": "b9fc48f8",
   "metadata": {},
   "source": [
    "\n",
    "triangle doesn't work, deltaNbh does for k=2:\n",
    "[Ideal(0.993, 0.119), Ideal(1.0, 0.019), Point(0.856, -0.508)]\n",
    "[Ideal(0.998, -0.069), Ideal(0.731, -0.682), Point(0.082, -0.913)]\n",
    "[Ideal(0.852, 0.524), Ideal(0.995, -0.099), Point(0.77, 0.618)]\n",
    "[Ideal(0.525, 0.851), Ideal(0.513, -0.859), Point(0.269, 0.616)]\n",
    "\n",
    "triangle worked, deltaNbh didn't for k=0:\n",
    "[Ideal(0.26, -0.966), Point(0.269, 0.397), Point(0.823, -0.156)]\n",
    "\n",
    "v7 makes problems:\n",
    "[Ideal(0.997, -0.071), Ideal(0.799, 0.602), Point(0.039, -0.737)]\n",
    "[Ideal(0.995, 0.097), Ideal(-0.584, -0.812), Point(-0.437, -0.069)]\n",
    "2\n",
    "\n",
    "in approx the isCovered fails, multiple intersections with the edge that are not ideal:\n",
    "[Ideal(0.782, 0.623), Ideal(0.785, -0.62), Ideal(-0.781, -0.624)]"
   ]
  },
  {
   "cell_type": "code",
   "execution_count": 160,
   "id": "a719b7da",
   "metadata": {},
   "outputs": [
    {
     "name": "stdout",
     "output_type": "stream",
     "text": [
      "[Point(0.17, 0.441), Point(-0.302, 0.753), Point(0.039, -0.513)]\n",
      "0\n",
      "Tri is CCW\n",
      "Tri is delta-slim for delta = 0.6146116534845305\n"
     ]
    },
    {
     "data": {
      "image/svg+xml": "<?xml version=\"1.0\" encoding=\"UTF-8\"?>\n<svg xmlns=\"http://www.w3.org/2000/svg\" xmlns:xlink=\"http://www.w3.org/1999/xlink\"\n     width=\"800\" height=\"800.0\" viewBox=\"-1.05 -1.05 2.1 2.1\">\n<defs>\n</defs>\n<circle cx=\"0\" cy=\"0\" r=\"1\" fill=\"orange\" stroke-width=\"0.01\" stroke=\"black\" />\n<path d=\"M-0.011365993676493547,-0.5746048231851035 A0.23623025829322705,0.23623025829322705,0,0,1,0.3936349359484179,-0.42135809588409634 A2.5044096191467555,2.5044096191467555,0,0,1,0.2474367899017258,0.5549307177502972 A0.22441182109877614,0.22441182109877614,0,0,1,-0.1634786232211006,0.580626628511044 A2.3082672404477558,2.3082672404477558,0,0,1,-0.3995750452209712,-0.7418878477252562 A0.10799608034955575,0.10799608034955575,0,0,1,-0.21947457796606873,-0.8088205786809739 A1.5117043184736625,1.5117043184736625,0,0,1,-0.01136599367649338,-0.5746048231851033 Z\" fill=\"red\" fill-opacity=\"1\" />\n<path d=\"M0.1696381802831519,-0.44062962538178074 A0.8298970943933367,0.8298970943933367,0,0,1,-0.30205837333768343,-0.7533516385270731 A7.332181877791993,7.332181877791993,0,0,1,0.039011617768125006,0.51290532294978 A5.652033717245365,5.652033717245365,0,0,1,0.1696381802831528,-0.4406296253817835 Z\" stroke=\"none\" fill=\"white\" fill-opacity=\"0.5\" />\n<path d=\"M-0.011365993676493547,-0.5746048231851035 A0.23623025829322705,0.23623025829322705,0,0,1,0.3936349359484179,-0.42135809588409634\" stroke-width=\"0.005\" stroke=\"black\" fill=\"none\" />\n<path d=\"M0.3936349359484179,-0.42135809588409634 A2.5044096191467555,2.5044096191467555,0,0,1,0.2474367899017258,0.5549307177502972\" stroke-width=\"0.005\" stroke=\"black\" fill=\"none\" />\n<path d=\"M0.24743678990172718,0.5549307177502978 A0.22441182109877614,0.22441182109877614,0,0,1,-0.1634786232211006,0.580626628511044\" stroke-width=\"0.005\" stroke=\"black\" fill=\"none\" />\n<path d=\"M-0.16347862322109896,0.5806266285110442 A2.3082672404477558,2.3082672404477558,0,0,1,-0.3995750452209712,-0.7418878477252562\" stroke-width=\"0.005\" stroke=\"black\" fill=\"none\" />\n<path d=\"M-0.3995750452209712,-0.7418878477252551 A0.10799608034955575,0.10799608034955575,0,0,1,-0.21947457796606873,-0.8088205786809739\" stroke-width=\"0.005\" stroke=\"black\" fill=\"none\" />\n<path d=\"M-0.21947457796606873,-0.8088205786809739 A1.5117043184736625,1.5117043184736625,0,0,1,-0.01136599367649338,-0.5746048231851033\" stroke-width=\"0.005\" stroke=\"black\" fill=\"none\" />\n<path d=\"M-0.30412709071952176,-0.7518385279727129 A0.8197850187961586,0.8197850187961586,0,0,0,0.1682648740326492,-0.4349447100829881 A6.347295935154893,6.347295935154893,0,0,1,0.17100705900244684,-0.4462735038865506 A0.8404531969006055,0.8404531969006055,0,0,1,-0.3000139334445218,-0.7548842745093328 A0.2172878618712328,0.2172878618712328,0,0,1,-0.30412709071952215,-0.7518385279727133 Z\" fill=\"yellow\" />\n<path d=\"M0.044449819725540074,0.5119733785361098 A6.606390649376076,6.606390649376076,0,0,0,-0.2996617963439894,-0.7542502731649008 A0.21028878119066818,0.21028878119066818,0,0,1,-0.3044648683949868,-0.7524825379660545 A8.239211729464989,8.239211729464989,0,0,1,0.03358481599267904,0.5138782665582464 A0.7182594216428224,0.7182594216428224,0,0,1,0.04444981972554153,0.5119733785361175 Z\" fill=\"yellow\" />\n<path d=\"M0.16395414047449464,-0.44192992759094885 A5.210872601416859,5.210872601416859,0,0,0,0.03349963471421802,0.5126456741035677 A0.7206244823142284,0.7206244823142284,0,0,1,0.04451607815551201,0.5132068562598341 A6.176320822419586,6.176320822419586,0,0,1,0.17532532428742797,-0.4393704802286994 A0.8317558338320711,0.8317558338320711,0,0,1,0.1639541404744952,-0.4419299275909515 Z\" fill=\"yellow\" />\n<circle cx=\"0.1696381802831528\" cy=\"-0.4406296253817835\" r=\"0.02\" fill=\"lightgray\" />\n<text x=\"0.1696381802831528\" y=\"-0.4406296253817835\" font-size=\"0.04\" text-anchor=\"middle\" dy=\"0.35em\">0</text>\n<circle cx=\"-0.30205837333767516\" cy=\"-0.7533516385270786\" r=\"0.02\" fill=\"lightgray\" />\n<text x=\"-0.30205837333767516\" y=\"-0.7533516385270786\" font-size=\"0.04\" text-anchor=\"middle\" dy=\"0.35em\">1</text>\n<circle cx=\"0.039011617768125006\" cy=\"0.5129053229497798\" r=\"0.02\" fill=\"lightgray\" />\n<text x=\"0.039011617768125006\" y=\"0.5129053229497798\" font-size=\"0.04\" text-anchor=\"middle\" dy=\"0.35em\">2</text>\n</svg>",
      "text/plain": [
       "<drawSvg.drawing.Drawing at 0x13610c33a60>"
      ]
     },
     "execution_count": 160,
     "metadata": {},
     "output_type": "execute_result"
    }
   ],
   "source": [
    "import random\n",
    "import drawSvg as draw\n",
    "from constructions import *\n",
    "from deltaNeigbourhood import *\n",
    "from hyperbolic.poincare.shapes import *\n",
    "from Triangle import *\n",
    "\n",
    "d = draw.Drawing(2.1, 2.1, origin='center')\n",
    "d.setRenderSize(800)\n",
    "d.append(draw.Circle(0, 0, 1, fill='orange',stroke_width=0.01, stroke='black'))\n",
    "\n",
    "\n",
    "\n",
    "p1=Point.fromEuclid(-0.104, 0.069)\n",
    "p2=Point.fromEuclid(-0.182, 0.212)\n",
    "p3=Point.fromEuclid(-0.622, -0.316)\n",
    "\n",
    "PList=[p1,p2, p3]\n",
    "PList=randomPoints(3)\n",
    "#PList=[Ideal.fromDegree(i/3*360) for i in range(2)]\n",
    "\n",
    "#PList=[Point(0.259, -0.965), Point(0.269, 0.397), Point(0.823, -0.156)]\n",
    "\n",
    "numOfIdealPts=0\n",
    "PList=[Ideal(p.theta)if i<numOfIdealPts else p for i,p in enumerate(PList)]\n",
    "\n",
    "k=random.randint(0,2)\n",
    "#k=2\n",
    "print(PList)\n",
    "print(k)\n",
    "\n",
    "\n",
    "Tri=Triangle.fromVertices(PList)\n",
    "\n",
    "\n",
    "delta = Tri.approx()\n",
    "#delta=0.3\n",
    "\n",
    "d.draw(deltaNbh(Tri,delta,k), fill='red', fill_opacity=1)\n",
    "d.draw(Tri, stroke='none',  fill='white', fill_opacity=0.5)\n",
    "\n",
    "for l in deltaNbh(Tri,delta,k).edges:\n",
    "    d.draw(l, stroke_width=0.005, stroke='black', fill='none')\n",
    "\n",
    "for i,l in enumerate(Tri.edges):\n",
    "    #outer=Tri.offsetEdge(i,delta, inner=False).trimmed(*Tri.offsetVertice(i,i,delta,inner=False), *Tri.offsetVertice(i+1,i,delta,inner=False))\n",
    "    #d.draw(outer, fill='none', stroke='lightblue', stroke_width=0.005)\n",
    "    #inner=Tri.offsetEdge(i,delta).trimmed(*Tri.offsetVertice(i,i,delta, inner=True), *Tri.offsetVertice(i+1,i,delta, inner=True))\n",
    "    #d.draw(inner, fill='none', stroke='lightyellow', stroke_width=0.005)\n",
    "    #d.draw(Tri.offsetEdge(i,delta, inner=True), hwidth=0.01, fill='darkorange')\n",
    "    #d.draw(Tri.offsetEdge(i,delta, inner=False), hwidth=0.01, fill='blue')\n",
    "    #d.draw(Hypercycle.fromHypercycleOffset(l,delta), hwidth=0.03,fill='yellow')\n",
    "    d.draw(l, hwidth=0.03, fill='yellow')#, stroke='yellow', stroke_width=0.01)\n",
    "\n",
    "\n",
    "for i,v in enumerate(Tri.vertices):\n",
    "    d.draw(v, radius=0.02, fill='lightgray')\n",
    "    d.draw(draw.Text(str(i), 0.04, *v, center=0.7))\n",
    "    #d.draw(Tri.endCap(i,i-1,delta), fill='none', stroke='lightblue', stroke_width=0.005)\n",
    "    #d.draw(Tri.offsetVertice(i,i,delta,onEdge=True), radius=0.01, fill='orange')\n",
    "\n",
    "\n",
    "#d.draw(Tri.offsetPolygon(delta), fill='black')\n",
    "\n",
    "#d.draw(Tri, fill='white')\n",
    "#d.draw(deltaNbh(Tri,delta,0), stroke='none', fill='red')\n",
    "\n",
    "\n",
    "if Tri.isCCW():\n",
    "    print('Tri is CCW')\n",
    "else:\n",
    "    print('Tri is CW')\n",
    "\n",
    "if Tri.isCovered(delta):\n",
    "    print('Tri is delta-slim for delta =',delta)\n",
    "else:\n",
    "    print('Tri is not covered for delta =',delta)\n",
    "\n",
    "\n",
    "#print(delta)\n",
    "#print(np.log(1+2**0.5))\n",
    "\n",
    "d"
   ]
  }
 ],
 "metadata": {
  "kernelspec": {
   "display_name": "Python 3 (ipykernel)",
   "language": "python",
   "name": "python3"
  },
  "language_info": {
   "codemirror_mode": {
    "name": "ipython",
    "version": 3
   },
   "file_extension": ".py",
   "mimetype": "text/x-python",
   "name": "python",
   "nbconvert_exporter": "python",
   "pygments_lexer": "ipython3",
   "version": "3.9.7"
  }
 },
 "nbformat": 4,
 "nbformat_minor": 5
}
