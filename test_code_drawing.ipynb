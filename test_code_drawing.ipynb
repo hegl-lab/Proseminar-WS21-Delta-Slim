{
 "cells": [
  {
   "cell_type": "code",
   "execution_count": 4,
   "id": "e4804a6c",
   "metadata": {},
   "outputs": [
    {
     "name": "stdout",
     "output_type": "stream",
     "text": [
      "Tri is CCW: False\n",
      "Tri is covered: False\n"
     ]
    },
    {
     "data": {
      "image/svg+xml": "<?xml version=\"1.0\" encoding=\"UTF-8\"?>\n<svg xmlns=\"http://www.w3.org/2000/svg\" xmlns:xlink=\"http://www.w3.org/1999/xlink\"\n     width=\"500\" height=\"500.0\" viewBox=\"-1.1 -1.1 2.2 2.2\">\n<defs>\n</defs>\n<circle cx=\"0\" cy=\"0\" r=\"1\" fill=\"orange\" stroke-width=\"0.01\" stroke=\"black\" />\n<circle cx=\"0.6707651527218658\" cy=\"-0.19164718649196166\" r=\"0.1433651196517688\" fill=\"red\" fill-opacity=\"1\" />\n<circle cx=\"-0.2887537083953793\" cy=\"0.6737586529225514\" r=\"0.12868525796595487\" fill=\"red\" fill-opacity=\"1\" />\n<path d=\"M-0.48056590571667,-0.47778214084463233 A6.630673612671323,6.630673612671323,0,0,0,-0.4161162152300131,0.6921621164705338 A0.2779678321361654,0.2779678321361654,0,0,1,-0.19231676776183487,0.7589631838995283 A1.0830893110503634,1.0830893110503634,0,0,0,-0.12136257414254936,-0.5859084216758081 A0.585960064259164,0.585960064259164,0,0,1,-0.48056590571667096,-0.4777821408446289 Z\" fill=\"red\" fill-opacity=\"1\" />\n<circle cx=\"-0.28269789326458766\" cy=\"-0.4711631554409797\" r=\"0.1979786890539271\" fill=\"red\" fill-opacity=\"1\" />\n<path d=\"M0.717067473344601,-0.3273293615840345 A43.74733884491081,43.74733884491081,0,0,1,-0.2145411499057559,-0.6570400492557553 A0.6106690329984922,0.6106690329984922,0,0,1,-0.4469496897128386,-0.36063302976008704 A0.9116122069704619,0.9116122069704619,0,0,0,0.7382074595901635,-0.06513595071802603 A0.33047178182853515,0.33047178182853515,0,0,1,0.7170674733454598,-0.3273293615837414 Z\" fill=\"red\" fill-opacity=\"1\" />\n<path d=\"M-0.29729263128772354,0.7016055774139129 A2.292934067001646,2.292934067001646,0,0,1,0.7014677857577595,-0.19679833390226054 A0.3262760564823772,0.3262760564823772,0,0,1,0.6985646073138075,-0.2032224566961148 A2.1453694156042245,2.1453694156042245,0,0,0,-0.30272926882724027,0.698422972406405 A0.27790248444101634,0.27790248444101634,0,0,1,-0.29729263128772276,0.7016055774139119 Z\" fill=\"black\" />\n<path d=\"M-0.3047597129118911,-0.49866177626976155 A2.258263270919917,2.258263270919917,0,0,1,-0.30303135998030717,0.6991524316162492 A0.2779678321361654,0.2779678321361654,0,0,1,-0.29697407814222054,0.7008831371084571 A2.1149880232613136,2.1149880232613136,0,0,0,-0.2952409879363098,-0.501381510534525 A0.585960064259164,0.585960064259164,0,0,1,-0.3047597129118912,-0.49866177626976227 Z\" fill=\"black\" />\n<path d=\"M0.6997992794614322,-0.20351503891906342 A1.5415968188290954,1.5415968188290954,0,0,1,-0.2970439144321314,-0.5039601057129908 A0.6106690329984922,0.6106690329984922,0,0,1,-0.3029979208725279,-0.4960510323524498 A1.4734576026078614,1.4734576026078614,0,0,0,0.7002387587577867,-0.19647907395024422 A0.33047178182853515,0.33047178182853515,0,0,1,0.6997992794614325,-0.2035150389190636 Z\" fill=\"black\" />\n<circle cx=\"-0.07403683080225287\" cy=\"-0.042512188220157454\" r=\"0.03\" fill=\"yellow\" />\n<text x=\"-0.07403683080225287\" y=\"-0.042512188220157454\" font-size=\"0.05\" text-anchor=\"middle\" dy=\"0.35em\">0</text>\n<circle cx=\"0.7\" cy=\"-0.2\" r=\"0.025\" fill=\"#eee\" />\n<text x=\"0.7\" y=\"-0.2\" font-size=\"0.05\" text-anchor=\"middle\" dy=\"0.35em\">0</text>\n<circle cx=\"0.06192142077361251\" cy=\"-0.15032493570306982\" r=\"0.03\" fill=\"yellow\" />\n<text x=\"0.06192142077361251\" y=\"-0.15032493570306982\" font-size=\"0.05\" text-anchor=\"middle\" dy=\"0.35em\">1</text>\n<circle cx=\"-0.3\" cy=\"0.7\" r=\"0.025\" fill=\"#eee\" />\n<text x=\"-0.3\" y=\"0.7\" font-size=\"0.05\" text-anchor=\"middle\" dy=\"0.35em\">1</text>\n<circle cx=\"0.07870280861979895\" cy=\"0.012368254227041013\" r=\"0.03\" fill=\"yellow\" />\n<text x=\"0.07870280861979895\" y=\"0.012368254227041013\" font-size=\"0.05\" text-anchor=\"middle\" dy=\"0.35em\">2</text>\n<circle cx=\"-0.3\" cy=\"-0.5\" r=\"0.025\" fill=\"#eee\" />\n<text x=\"-0.3\" y=\"-0.5\" font-size=\"0.05\" text-anchor=\"middle\" dy=\"0.35em\">2</text>\n</svg>",
      "text/plain": [
       "<drawSvg.drawing.Drawing at 0x244406f3a00>"
      ]
     },
     "execution_count": 4,
     "metadata": {},
     "output_type": "execute_result"
    }
   ],
   "source": [
    "import drawSvg as draw\n",
    "from constructions import deltaLines_of_Line, shift, isPointOnSegment\n",
    "from deltaNeigbourhood import *\n",
    "from hyperbolic.poincare.shapes import *\n",
    "from Triangle import Triangle\n",
    "\n",
    "delta=0.6\n",
    "\n",
    "d = draw.Drawing(2.2, 2.2, origin='center')\n",
    "d.setRenderSize(500)\n",
    "d.append(draw.Circle(0, 0, 1, fill='orange',stroke_width=0.01, stroke='black'))\n",
    "\n",
    "p1=Point.fromEuclid(0.7,0.2)\n",
    "p2=Point.fromEuclid(-0.3,-0.7)\n",
    "p3=Point.fromEuclid(-0.3,0.5)\n",
    "Points=[p1,p2,p3]\n",
    "#Points=[Point.fromPolarEuclid(0.75,deg=i/3*360) for i in range(3)]\n",
    "IdealPoints=[Ideal(Points[i].theta) for i in range(3)]\n",
    "'''\n",
    "C1= Circle.fromCenterRadius(p1,delta)\n",
    "print(p1, C1.projShape.cx,C1.projShape.cy)\n",
    "d.draw(C1, fill='blue')\n",
    "'''\n",
    "\n",
    "Tri=Triangle.fromVertices(Points)\n",
    "#OffTri=Tri.offsetTriangle(delta)       #for ideal this doesn't work\n",
    "\n",
    "deltaNeigbourhood(Tri, d, delta, 0)\n",
    "\n",
    "for e in Tri.edges:\n",
    "    d.draw(e, hwidth=0.03, fill='black')\n",
    "\n",
    "for i,v in enumerate(Tri.vertices):\n",
    "    #d.draw(makeMidCap(Tri, i, delta), fill='red')\n",
    "    p = innerInterPoint(Tri,i,delta)\n",
    "    d.draw(p, radius=0.03,fill='yellow')\n",
    "    d.draw(draw.Text(str(i),0.05,*p, center=0.7))\n",
    "    d.draw(v, radius=0.025, fill='#eee')\n",
    "    d.draw(draw.Text(str(i), 0.05, *v, center=0.7))\n",
    "\n",
    "\n",
    "\n",
    "\n",
    "print('Tri is CCW:',Tri.isCCW())\n",
    "print('Tri is covered:',Tri.isCovered(delta))\n",
    "d"
   ]
  },
  {
   "cell_type": "code",
   "execution_count": 4,
   "id": "a719b7da",
   "metadata": {},
   "outputs": [
    {
     "name": "stdout",
     "output_type": "stream",
     "text": [
      "delta 0.4728240966796875\n",
      "Point(0.332, -0.754) 0 False\n",
      "Point(-0.784, -0.366) 1 False\n",
      "Point(-0.417, -0.506) 2 False\n",
      "Tri is not Ideal\n",
      "Tri is CCW\n",
      "Tri is covered\n"
     ]
    },
    {
     "data": {
      "image/svg+xml": "<?xml version=\"1.0\" encoding=\"UTF-8\"?>\n<svg xmlns=\"http://www.w3.org/2000/svg\" xmlns:xlink=\"http://www.w3.org/1999/xlink\"\n     width=\"500\" height=\"500.0\" viewBox=\"-1.1 -1.1 2.2 2.2\">\n<defs>\n</defs>\n<circle cx=\"0\" cy=\"0\" r=\"1\" fill=\"orange\" stroke-width=\"0.01\" stroke=\"black\" />\n<path d=\"M0.28671474029099764,0.8068774360049068 A0.0772949462807706,0.0772949462807706,0,0,0,0.4017945738589592,0.7233483380935953\" stroke-width=\"0.0015\" stroke=\"black\" fill=\"red\" />\n<path d=\"M0.42049260781729925,0.9072959642646969 A2.2474591560693806,2.2474591560693806,0,0,0,-0.9102564338865368,0.41404495476719116 A2.188504181666642,2.188504181666642,0,0,1,0.4204926078172987,0.9072959642646963 Z\" fill=\"darkorange\" />\n<path d=\"M0.4204926078172996,0.9072959642646972 A0.7519858815035306,0.7519858815035306,0,0,0,-0.9102564338865365,0.4140449547671906 A0.749655798075365,0.749655798075365,0,0,1,0.42049260781729975,0.9072959642646972 Z\" fill=\"blue\" />\n<path d=\"M-0.7830739185498592,0.36823079736341435 A1.0226834922065888,1.0226834922065888,0,0,1,0.3304451202812866,0.7554910917529348 A0.19839460271848888,0.19839460271848888,0,0,1,0.3343904037779576,0.7527356415961273 A0.9922432513869993,0.9922432513869993,0,0,0,-0.784162322872818,0.3646158645274691 A0.14702398190592295,0.14702398190592295,0,0,1,-0.7830739185498594,0.36823079736341435 Z\" />\n<path d=\"M-0.8115679015336226,0.3145323693406044 A0.06087382808974634,0.06087382808974634,0,0,0,-0.7877054064271776,0.42019740213940693\" stroke-width=\"0.0015\" stroke=\"black\" fill=\"red\" />\n<path d=\"M-0.9160284710505999,0.4011132511208025 A0.4024964464134186,0.4024964464134186,0,1,1,-0.3245584655325511,0.9458656365737979 A0.40234329292132676,0.40234329292132676,0,1,0,-0.9160284710506,0.40111325112080265 Z\" fill=\"darkorange\" />\n<path d=\"M-0.9160284710506,0.40111325112080254 A0.6201317271941259,0.6201317271941259,0,0,1,-0.32455846553255097,0.9458656365737979 A0.6267645919012627,0.6267645919012627,0,0,0,-0.9160284710506001,0.40111325112080265 Z\" fill=\"blue\" />\n<path d=\"M-0.41379484395559163,0.5029038986701446 A0.43628424445889963,0.43628424445889963,0,0,0,-0.7838058567621564,0.36454039542184796 A0.1541904159268589,0.1541904159268589,0,0,1,-0.7834299605788146,0.3682968936244826 A0.44206985391104847,0.44206985391104847,0,0,1,-0.42008622014959524,0.5087003008206776 A3.1870791167991395,3.1870791167991395,0,0,1,-0.4137948439555914,0.5029038986701444 Z\" />\n<path d=\"M-0.5001223114428978,0.5852583799938142 A0.13550528328517092,0.13550528328517092,0,0,0,-0.400659129730602,0.6253734402640205\" stroke-width=\"0.0015\" stroke=\"black\" fill=\"red\" />\n<path d=\"M-0.7350232226594319,0.6780419324432254 A0.6008796868199302,0.6008796868199302,0,0,1,0.42702077582702513,0.9042418133508788 A0.6018471807465033,0.6018471807465033,0,0,0,-0.7350232226594319,0.6780419324432254 Z\" fill=\"darkorange\" />\n<path d=\"M-0.7350232226594314,0.678041932443225 A1.2679538196528677,1.2679538196528677,0,0,1,0.42702077582702513,0.9042418133508788 A1.2899430083639642,1.2899430083639642,0,0,0,-0.7350232226594314,0.678041932443225 Z\" fill=\"blue\" />\n<path d=\"M0.33428493550998106,0.7525923517038462 A0.7264885856001612,0.7264885856001612,0,0,0,-0.418025059660059,0.5016593786137038 A0.5398963229119564,0.5398963229119564,0,0,1,-0.41592948858387613,0.5099529793519701 A0.74267369050482,0.74267369050482,0,0,1,0.33055338837378034,0.7556310092692575 A0.2018736636283259,0.2018736636283259,0,0,1,0.33428493550998134,0.7525923517038465 Z\" />\n<circle cx=\"0.3324070507053903\" cy=\"0.7541030500012837\" r=\"0.025\" fill=\"lightgray\" />\n<text x=\"0.3324070507053903\" y=\"0.7541030500012837\" font-size=\"0.05\" text-anchor=\"middle\" dy=\"0.35em\">0</text>\n<circle cx=\"-0.78360600735968\" cy=\"0.36642153125490173\" r=\"0.025\" fill=\"lightgray\" />\n<text x=\"-0.78360600735968\" y=\"0.36642153125490173\" font-size=\"0.05\" text-anchor=\"middle\" dy=\"0.35em\">1</text>\n<circle cx=\"-0.41695779714754294\" cy=\"0.5058141039697354\" r=\"0.025\" fill=\"lightgray\" />\n<text x=\"-0.41695779714754294\" y=\"0.5058141039697354\" font-size=\"0.05\" text-anchor=\"middle\" dy=\"0.35em\">2</text>\n</svg>",
      "text/plain": [
       "<drawSvg.drawing.Drawing at 0x27216a834c0>"
      ]
     },
     "execution_count": 4,
     "metadata": {},
     "output_type": "execute_result"
    }
   ],
   "source": [
    "import math\n",
    "import drawSvg as draw\n",
    "from constructions import *\n",
    "from deltaNeigbourhood import *\n",
    "from hyperbolic.poincare.shapes import *\n",
    "from Triangle import *\n",
    "\n",
    "d = draw.Drawing(2.2, 2.2, origin='center')\n",
    "d.setRenderSize(500)\n",
    "d.append(draw.Circle(0, 0, 1, fill='orange',stroke_width=0.01, stroke='black'))\n",
    "\n",
    "p1=Point.fromEuclid(0.155, -0.872)\n",
    "p2=Point.fromEuclid(-0.884, -0.271)\n",
    "p3=Point.fromEuclid(-0.2, -0.6)\n",
    "\n",
    "PList=[p1,p2, p3]\n",
    "PList=randomPoints(3)\n",
    "\n",
    "#p1=Ideal(PList[0].theta)\n",
    "#p2=Ideal(PList[1].theta)\n",
    "#p3=Ideal(PList[2].theta)\n",
    "#PList=[p1,p2, p3]\n",
    "\n",
    "#PList=[Ideal.fromDegree(i/3*360) for i in range(2)]\n",
    "#PList=[Ideal(p.theta) for p in PList]\n",
    "\n",
    "#print(PList)\n",
    "\n",
    "Tri=Triangle.fromVertices(PList)\n",
    "\n",
    "#d.draw(Tri, stroke_width=0.003, stroke='blue')\n",
    "\n",
    "delta = Tri.approx()\n",
    "#delta=0.3\n",
    "print('delta',delta)\n",
    "#d.draw(Tri.offsetPolygon(delta), fill='black')\n",
    "\n",
    "#deltaNeigbourhood(Tri, d, delta, 0)\n",
    "\n",
    "for i,l in enumerate(Tri.edges):\n",
    "    d.draw(Tri.midCap(i,delta),stroke_width=0.0015, stroke='black',fill='red')\n",
    "    d.draw(Tri.offsetEdge(i,delta, inner=True), hwidth=0.01, fill='darkorange')\n",
    "    d.draw(Tri.offsetEdge(i,delta, inner=False), hwidth=0.01, fill='blue')\n",
    "    #d.draw(Hypercycle.fromHypercycleOffset(l,delta), hwidth=0.03,fill='yellow')\n",
    "    d.draw(l, hwidth=0.03)\n",
    "\n",
    "for i,v in enumerate(Tri.vertices):\n",
    "    print(v,i, v.isIdeal())\n",
    "    d.draw(v, radius=0.025, fill='lightgray')\n",
    "    d.draw(draw.Text(str(i), 0.05, *v, center=0.7))\n",
    "\n",
    "'''\n",
    "    d.draw(Tri.offsetVertice(i, i, delta, inner=False), radius=0.01, fill='lightblue')\n",
    "    d.draw(Tri.offsetVertice(i, i-1, delta, inner=False), radius=0.01, fill='lightblue')\n",
    "    d.draw(Tri.offsetVertice(i, i, delta, inner=True), radius=0.01, fill='orange')\n",
    "    d.draw(Tri.offsetVertice(i, i-1, delta, inner=True), radius=0.01, fill='orange')\n",
    "    d.draw(Tri.offsetVertice(i, i, delta, onEdge=True), radius=0.01, fill='lightgreen')\n",
    "    d.draw(Tri.offsetVertice(i, i-1, delta, onEdge=True), radius=0.01, fill='lightgreen')\n",
    "'''\n",
    "\n",
    "\n",
    "if Tri.isIdeal():\n",
    "    print('Tri is Ideal')\n",
    "else:\n",
    "    print('Tri is not Ideal')\n",
    "\n",
    "if Tri.isCCW():\n",
    "    print('Tri is CCW')\n",
    "else:\n",
    "    print('Tri is CW')\n",
    "\n",
    "if Tri.isCovered(delta):\n",
    "    print('Tri is covered')\n",
    "else:\n",
    "    print('Tri is not covered')\n",
    "\n",
    "d"
   ]
  },
  {
   "cell_type": "markdown",
   "id": "5f3b2137",
   "metadata": {},
   "source": [
    "look into these to optimise code:\n",
    "\n",
    "0.37420654296875\n",
    "Point(0.466, 0.378)\n",
    "Point(-0.045, 0.616)\n",
    "Point(-0.436, 0.781)"
   ]
  }
 ],
 "metadata": {
  "kernelspec": {
   "display_name": "Python 3 (ipykernel)",
   "language": "python",
   "name": "python3"
  },
  "language_info": {
   "codemirror_mode": {
    "name": "ipython",
    "version": 3
   },
   "file_extension": ".py",
   "mimetype": "text/x-python",
   "name": "python",
   "nbconvert_exporter": "python",
   "pygments_lexer": "ipython3",
   "version": "3.9.7"
  }
 },
 "nbformat": 4,
 "nbformat_minor": 5
}
