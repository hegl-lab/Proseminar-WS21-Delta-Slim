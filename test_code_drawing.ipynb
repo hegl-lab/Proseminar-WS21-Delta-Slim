{
 "cells": [
  {
   "cell_type": "markdown",
   "id": "b9fc48f8",
   "metadata": {},
   "source": [
    "\n",
    "triangle doesn't work, deltaNbh does for k=2:\n",
    "[Ideal(0.993, 0.119), Ideal(1.0, 0.019), Point(0.856, -0.508)]\n",
    "[Ideal(0.998, -0.069), Ideal(0.731, -0.682), Point(0.082, -0.913)]\n",
    "[Ideal(0.852, 0.524), Ideal(0.995, -0.099), Point(0.77, 0.618)]\n",
    "[Ideal(0.525, 0.851), Ideal(0.513, -0.859), Point(0.269, 0.616)]\n",
    "\n",
    "triangle worked, deltaNbh didn't for k=0:\n",
    "[Ideal(0.26, -0.966), Point(0.269, 0.397), Point(0.823, -0.156)]\n",
    "\n",
    "v7 makes problems:\n",
    "[Ideal(0.997, -0.071), Ideal(0.799, 0.602), Point(0.039, -0.737)]\n",
    "[Ideal(0.995, 0.097), Ideal(-0.584, -0.812), Point(-0.437, -0.069)]\n",
    "2\n",
    "\n",
    "in approx the isCovered fails, multiple intersections with the edge that are not ideal:\n",
    "[Ideal(0.782, 0.623), Ideal(0.785, -0.62), Ideal(-0.781, -0.624)]"
   ]
  },
  {
   "cell_type": "markdown",
   "id": "1a1e436e",
   "metadata": {},
   "source": [
    "eCap failed:\n",
    "[Point(-0.381, -0.06), Point(-0.13, 0.123), Point(-0.182, 0.23)]\n",
    "0"
   ]
  },
  {
   "cell_type": "code",
   "execution_count": 132,
   "id": "a719b7da",
   "metadata": {},
   "outputs": [
    {
     "name": "stdout",
     "output_type": "stream",
     "text": [
      "[Ideal(0.312, -0.95), Ideal(-0.899, -0.438), Ideal(0.642, 0.767)]\n",
      "0\n",
      "Tri is CW\n",
      "Tri is not covered for delta = 0.3\n"
     ]
    },
    {
     "data": {
      "image/svg+xml": "<?xml version=\"1.0\" encoding=\"UTF-8\"?>\n<svg xmlns=\"http://www.w3.org/2000/svg\" xmlns:xlink=\"http://www.w3.org/1999/xlink\"\n     width=\"750\" height=\"750.0\" viewBox=\"-1.05 -1.05 2.1 2.1\">\n<defs>\n</defs>\n<circle cx=\"0\" cy=\"0\" r=\"1\" fill=\"#ff7f00\" stroke-width=\"0.01\" stroke=\"#001a30\" />\n<path d=\"M0.3119044639809766,0.950113469722822 A0.872679044973597,0.872679044973597,0,0,0,-0.8991533709711248,0.43763365440887103 A4.681158784845276,4.681158784845276,0,0,0,0.64185365926655,-0.7668271513751583 A1.8001845323758126,1.8001845323758126,0,0,0,0.3119044639809767,0.9501134697228217 Z\" stroke=\"black\" stroke-width=\"0.005\" fill=\"#53565b\" fill-opacity=\"1\" />\n<path d=\"M0.3119044639809765,0.950113469722822 A4.1650551376762985,4.1650551376762985,0,0,1,0.6418536592665491,-0.7668271513751589 A11.500130032767977,11.500130032767977,0,0,0,-0.8991533709711232,0.43763365440887014 A2.017472577934238,2.017472577934238,0,0,0,0.12868159767653853,-0.05030505957435638 A1.2154831872158105,1.2154831872158105,0,0,0,0.3119044639809768,0.9501134697228217 Z\" stroke=\"black\" stroke-width=\"0.005\" fill=\"#ff9e1b\" fill-opacity=\"0.5\" />\n</svg>",
      "text/plain": [
       "<drawSvg.drawing.Drawing at 0x1feacc7e490>"
      ]
     },
     "execution_count": 132,
     "metadata": {},
     "output_type": "execute_result"
    }
   ],
   "source": [
    "import random\n",
    "import drawSvg as draw\n",
    "from constructions import *\n",
    "from deltaNeigbourhood import *\n",
    "from hyperbolic.poincare.shapes import *\n",
    "from Triangle import *\n",
    "\n",
    "d = draw.Drawing(2.1, 2.1, origin='center')\n",
    "d.setRenderSize(750)\n",
    "d.append(draw.Circle(0, 0, 1, fill='#ff7f00', stroke_width=0.01, stroke='#001a30'))\n",
    "\n",
    "PList=randomPoints(3,3)\n",
    "#PList=[Ideal.fromDegree(i/3*360) for i in range(2)]\n",
    "\n",
    "#PList=[Point(-0.381, -0.06), Point(-0.13, 0.123), Point(-0.182, 0.23)]\n",
    "\n",
    "k=random.randint(0,2)\n",
    "#k=0\n",
    "print(PList)\n",
    "print(k)\n",
    "\n",
    "Tri=Triangle.fromVertices(PList)\n",
    "\n",
    "delta = Tri.approx()\n",
    "delta=0.3\n",
    "d.draw(Tri, stroke='black', stroke_width=0.005,  fill='#53565b', fill_opacity=1)\n",
    "d.draw(deltaNbh(Tri,delta,k), stroke='black',stroke_width=0.005, fill='#ff9e1b', fill_opacity=0.5)\n",
    "\n",
    "\n",
    "if Tri.isCCW():\n",
    "    print('Tri is CCW')\n",
    "else:\n",
    "    print('Tri is CW')\n",
    "\n",
    "if Tri.isDeltaslim(delta):\n",
    "    print('Tri is delta-slim for delta =',delta)\n",
    "else:\n",
    "    print('Tri is not covered for delta =',delta)\n",
    "\n",
    "#print(delta)\n",
    "#print(np.log(1+2**0.5))\n",
    "\n",
    "d"
   ]
  }
 ],
 "metadata": {
  "kernelspec": {
   "display_name": "Python 3 (ipykernel)",
   "language": "python",
   "name": "python3"
  },
  "language_info": {
   "codemirror_mode": {
    "name": "ipython",
    "version": 3
   },
   "file_extension": ".py",
   "mimetype": "text/x-python",
   "name": "python",
   "nbconvert_exporter": "python",
   "pygments_lexer": "ipython3",
   "version": "3.9.7"
  }
 },
 "nbformat": 4,
 "nbformat_minor": 5
}
