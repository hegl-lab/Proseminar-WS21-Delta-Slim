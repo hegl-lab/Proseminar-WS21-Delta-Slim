{
 "cells": [
  {
   "cell_type": "markdown",
   "id": "b9fc48f8",
   "metadata": {},
   "source": [
    "v7 makes problems:\n",
    "[Ideal(0.997, -0.071), Ideal(0.799, 0.602), Point(0.039, -0.737)]\n",
    "[Ideal(0.995, 0.097), Ideal(-0.584, -0.812), Point(-0.437, -0.069)]\n",
    "k=2\n",
    "\n",
    "in approx the isCovered fails, multiple intersections with the edge that are not ideal:\n",
    "[Ideal(0.782, 0.623), Ideal(0.785, -0.62), Ideal(-0.781, -0.624)]"
   ]
  },
  {
   "cell_type": "markdown",
   "id": "d08fc52e",
   "metadata": {},
   "source": [
    "Nice looking triangles:\n",
    "PList = [Point(0.8, 0.516), Point(-0.215, -0.557), Point(-0.611, 0.639)]\n",
    "k = 2"
   ]
  },
  {
   "cell_type": "code",
   "execution_count": 5,
   "id": "a719b7da",
   "metadata": {},
   "outputs": [
    {
     "name": "stdout",
     "output_type": "stream",
     "text": [
      "PList = [Point(-0.326, 0.072), Point(0.524, -0.72), Point(-0.834, -0.331)]\n",
      "k = 1\n",
      "Tri is CW\n",
      "Tri is delta-slim for delta = 0.6229795318728293\n"
     ]
    },
    {
     "data": {
      "image/svg+xml": "<?xml version=\"1.0\" encoding=\"UTF-8\"?>\n<svg xmlns=\"http://www.w3.org/2000/svg\" xmlns:xlink=\"http://www.w3.org/1999/xlink\"\n     width=\"750\" height=\"750.0\" viewBox=\"-1.05 -1.05 2.1 2.1\">\n<defs>\n</defs>\n<circle cx=\"0\" cy=\"0\" r=\"1\" fill=\"#ff7f00\" stroke-width=\"0.01\" stroke=\"#001a30\" />\n<path d=\"M-0.3262730007840182,-0.07166419612333641 A3.6431064733312564,3.6431064733312564,0,0,1,0.5237033644643732,0.7201084088122451 A1.3014335811264282,1.3014335811264282,0,0,0,-0.8335474569040628,0.3310661917705022 A1.4869853241498912,1.4869853241498912,0,0,0,-0.3262730007840191,-0.07166419612333697 Z\" stroke=\"black\" stroke-width=\"0.005\" fill=\"#53565b\" fill-opacity=\"1\" />\n<path d=\"M0.48745832813370127,0.7678046312631737 A0.0673910464119823,0.0673910464119823,0,0,0,0.5798604444611699,0.6966186737582752 A1.2789954296413986,1.2789954296413986,0,0,0,-0.1952254620374737,-0.31575596598792943 A0.27086783313731594,0.27086783313731594,0,0,0,-0.5235398367410871,-0.2181904863916822 A142.2947843892688,142.2947843892688,0,0,1,-0.870028914187472,0.28864178465521206 A0.06369516465536329,0.06369516465536329,0,0,0,-0.8229973718838955,0.38816181485112544 A0.8981288766936923,0.8981288766936923,0,0,0,-0.31718828110126207,0.28259749440547244 A3.081334928847375,3.081334928847375,0,0,0,0.48745832813370127,0.7678046312631737 Z\" stroke=\"black\" stroke-width=\"0.005\" fill=\"#ff9e1b\" fill-opacity=\"0.5\" />\n<path d=\"M-0.9193492420103146,-0.3934424623945174 A3.1615942626792126,3.1615942626792126,0,0,0,0.5896596441285868,0.8076518458383859 A3.0056629402617006,3.0056629402617006,0,0,1,-0.9193492420103142,-0.39344246239451675 Z\" fill=\"yellow\" />\n<path d=\"M0.5923547675953357,0.8056772488453896 A0.8404416638060663,0.8404416638060663,0,0,0,-0.9310529793350352,0.36488402221987465 A0.8356674493814887,0.8356674493814887,0,0,1,0.5923547675953356,0.8056772488453897 Z\" fill=\"yellow\" />\n<path d=\"M-0.9278977394640965,0.3728347959853263 A0.9012776391822587,0.9012776391822587,0,0,0,0.004671489532265816,-0.999989088533245 A0.895080957077493,0.895080957077493,0,0,1,-0.9278977394640963,0.37283479598532643 Z\" fill=\"yellow\" />\n</svg>",
      "text/plain": [
       "<drawSvg.drawing.Drawing at 0x2e9ff8aa610>"
      ]
     },
     "execution_count": 5,
     "metadata": {},
     "output_type": "execute_result"
    }
   ],
   "source": [
    "import random\n",
    "import drawSvg as draw\n",
    "from constructions import *\n",
    "from deltaNeigbourhood import *\n",
    "from hyperbolic.poincare.shapes import *\n",
    "from Triangle import *\n",
    "\n",
    "d = draw.Drawing(2.1, 2.1, origin='center')\n",
    "d.setRenderSize(750)\n",
    "d.append(draw.Circle(0, 0, 1, fill='#ff7f00', stroke_width=0.01, stroke='#001a30'))\n",
    "\n",
    "PList=randomPoints(3)\n",
    "#PList=[Ideal.fromDegree(i/3*360) for i in range(2)]\n",
    "\n",
    "#PList=[Point(-0.381, -0.06), Point(-0.13, 0.123), Point(-0.182, 0.23)]\n",
    "\n",
    "k=random.randint(0,2)\n",
    "#k=0\n",
    "print('PList =', PList)\n",
    "print('k =', k)\n",
    "\n",
    "Tri=Triangle.fromVertices(PList)\n",
    "\n",
    "delta = Tri.approx()\n",
    "#delta=0.3\n",
    "d.draw(Tri, stroke='black', stroke_width=0.005,  fill='#53565b', fill_opacity=1)\n",
    "d.draw(deltaNbh(Tri,delta,k), stroke='black',stroke_width=0.005, fill='#ff9e1b', fill_opacity=0.5)\n",
    "\n",
    "for i,e in enumerate(Tri.edges):\n",
    "    d.draw(Tri.offsetEdge(i, delta, inner=True), hwidth=0.02, fill='yellow')\n",
    "\n",
    "\n",
    "if Tri.isCCW():\n",
    "    print('Tri is CCW')\n",
    "else:\n",
    "    print('Tri is CW')\n",
    "\n",
    "if Tri.isDeltaslim(delta):\n",
    "    print('Tri is delta-slim for delta =',delta)\n",
    "else:\n",
    "    print('Tri is not covered for delta =',delta)\n",
    "\n",
    "#print(delta)\n",
    "#print(np.log(1+2**0.5))\n",
    "#d.savePng('triangleDeltaNbh.png')\n",
    "d"
   ]
  }
 ],
 "metadata": {
  "kernelspec": {
   "display_name": "Python 3 (ipykernel)",
   "language": "python",
   "name": "python3"
  },
  "language_info": {
   "codemirror_mode": {
    "name": "ipython",
    "version": 3
   },
   "file_extension": ".py",
   "mimetype": "text/x-python",
   "name": "python",
   "nbconvert_exporter": "python",
   "pygments_lexer": "ipython3",
   "version": "3.9.7"
  }
 },
 "nbformat": 4,
 "nbformat_minor": 5
}
