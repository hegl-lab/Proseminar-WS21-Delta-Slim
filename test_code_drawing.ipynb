{
 "cells": [
  {
   "cell_type": "markdown",
   "id": "2e77d643",
   "metadata": {},
   "source": [
    "new code specific for our usecase"
   ]
  },
  {
   "cell_type": "code",
   "execution_count": 5,
   "id": "388d6c6d",
   "metadata": {},
   "outputs": [
    {
     "data": {
      "application/vnd.jupyter.widget-view+json": {
       "model_id": "d3e125a60a3143e5a94302453427729e",
       "version_major": 2,
       "version_minor": 0
      },
      "text/plain": [
       "DrawingWidget()"
      ]
     },
     "metadata": {},
     "output_type": "display_data"
    }
   ],
   "source": [
    "import drawSvg as draw\n",
    "from drawSvg.widgets import DrawingWidget\n",
    "from hyperbolic import euclid, util\n",
    "from hyperbolic.poincare.shapes import *\n",
    "from hyperbolic.poincare import Transform\n",
    "import hyperbolic.poincare.shapes as hyper  # pip3 install hyperbolic\n",
    "\n",
    "delta=0.3\n",
    "click_list=[]\n",
    "lineStyle2 = dict(stroke_width=0.01, stroke='white', fill='none' #,stroke_dasharray='.02,.02'\n",
    "                 )\n",
    "\n",
    "# Create drawing\n",
    "d = draw.Drawing(2.2, 2.2, origin='center')\n",
    "d.setRenderSize(500)\n",
    "d.append(draw.Circle(0, 0, 1, fill='orange',stroke_width=0.01, stroke='black'))\n",
    "g=draw.Group()\n",
    "d.append(g)\n",
    "\n",
    "\n",
    "def draw_delta_neigbourhood_twosides(points,delta):\n",
    "    for i,x in enumerate(points):\n",
    "        p1=hyper.Point.fromEuclid(x[0],x[1])\n",
    "        g.draw(hyper.Circle.fromCenterRadius(p1, delta), fill='green',fill_opacity=1)\n",
    "        for y in points[i+1:]:\n",
    "            if i==0:\n",
    "                p2=hyper.Point.fromEuclid(y[0],y[1])\n",
    "                line = hyper.Line.fromPoints(*p1, *p2, segment=True)\n",
    "                g.draw(line, hwidth=2*delta, fill='green',fill_opacity=1)\n",
    "                \n",
    "def draw_thin_triangle(points):\n",
    "    for i,x in enumerate(points):\n",
    "        for y in points[i+1:]:\n",
    "            p1=hyper.Point.fromEuclid(x[0],x[1])\n",
    "            p2=hyper.Point.fromEuclid(y[0],y[1])\n",
    "            line=Line.fromPoints(*p1,*p2,segment=True)\n",
    "            g.draw(line, **lineStyle2)\n",
    "def draw_thick_line(points):\n",
    "    for i,x in enumerate(points):\n",
    "        for y in points[i+1:]:\n",
    "            p1=hyper.Point.fromEuclid(x[0],x[1])\n",
    "            p2=hyper.Point.fromEuclid(y[0],y[1])\n",
    "            line=hyper.Line.fromPoints(*p1,*p2,segment=True)\n",
    "            g.draw(line, hwidth=0.4,fill='red')\n",
    "    \n",
    "def redraw_Mousepoint(points):\n",
    "    for i,x in enumerate(points):\n",
    "        p=hyper.Point.fromEuclid(x[0],x[1])\n",
    "        g.draw(hyper.Circle.fromCenterRadius(p,0.02),fill='white')\n",
    "        \n",
    "def shift(seq, shift=1):\n",
    "    perm=shift%3 \n",
    "    return seq[-perm:] + seq[:-perm]\n",
    "\n",
    "clicks=0\n",
    "        \n",
    "widget = DrawingWidget(d)\n",
    "@widget.mousedown\n",
    "def mousedown(widget, x, y, info):\n",
    "        global clicks\n",
    "        clicks+=1\n",
    "        if (x**2 + y**2) ** 0.5 + 2e-10 < 1:\n",
    "            if clicks<3:\n",
    "                click_list.append((x, y))\n",
    "            elif clicks==3:\n",
    "                click_list.append((x,y))\n",
    "                g.children.clear()\n",
    "                draw_delta_neigbourhood_twosides(click_list,delta)\n",
    "                draw_thin_triangle(click_list)\n",
    "            else:\n",
    "                g.children.clear()\n",
    "                draw_delta_neigbourhood_twosides(shift(click_list,clicks),delta)\n",
    "                draw_thin_triangle(shift(click_list,clicks))\n",
    "        widget.refresh()\n",
    "        \n",
    "        \n",
    "@widget.mousemove\n",
    "def mousemove(widget, x, y, info):\n",
    "    if (x**2 + y**2) ** 0.5 + 2e-10 < 1:\n",
    "        if len(click_list)<3:\n",
    "            g.children.clear()\n",
    "            draw_thin_triangle(click_list + [(x, y)])\n",
    "            redraw_Mousepoint([(x,y)])\n",
    "    widget.refresh()\n",
    "    \n",
    "draw_thick_line([(0.5,0.4),(-0.2,-0.3)])\n",
    "widget"
   ]
  },
  {
   "cell_type": "code",
   "execution_count": 82,
   "id": "a719b7da",
   "metadata": {},
   "outputs": [
    {
     "data": {
      "image/svg+xml": "<?xml version=\"1.0\" encoding=\"UTF-8\"?>\n<svg xmlns=\"http://www.w3.org/2000/svg\" xmlns:xlink=\"http://www.w3.org/1999/xlink\"\n     width=\"500\" height=\"500.0\" viewBox=\"-1.1 -1.1 2.2 2.2\">\n<defs>\n</defs>\n<circle cx=\"0\" cy=\"0\" r=\"1\" fill=\"orange\" stroke-width=\"0.01\" stroke=\"black\" />\n<circle cx=\"-0.699125364795622\" cy=\"0.09987505211366045\" r=\"0.025010398445719784\" fill=\"#eee\" />\n<text x=\"-0.7\" y=\"0.1\" font-size=\"0.05\" text-anchor=\"middle\" dy=\"0.35em\">0</text>\n<circle cx=\"0.6991253647956222\" cy=\"-0.09987505211366031\" r=\"0.025010398445719784\" fill=\"#eee\" />\n<text x=\"0.7\" y=\"-0.1\" font-size=\"0.05\" text-anchor=\"middle\" dy=\"0.35em\">1</text>\n<circle cx=\"-0.29958772348815765\" cy=\"0.5991754469763153\" r=\"0.027508001223681466\" fill=\"#eee\" />\n<text x=\"-0.3\" y=\"0.6\" font-size=\"0.05\" text-anchor=\"middle\" dy=\"0.35em\">2</text>\n<path d=\"M-0.8713588377162472,0.08866261891555993 A3.432738430321737,3.432738430321737,0,0,1,0.9422096240630586,-0.1484741289016025 A5.923872287482241,5.923872287482241,0,0,0,-0.3412004698379856,0.7434973697839382 A0.895511537424987,0.895511537424987,0,0,0,-0.8713588377162476,0.08866261891555893 Z\" stroke-width=\"0.02\" stroke=\"black\" fill=\"none\" />\n<path d=\"M0.6994893809782088,-0.10371494891224131 A66.67166659166647,66.67166659166647,0,0,0,-0.7005499914345155,0.09629067571815142 A0.3535533905932737,0.3535533905932737,0,0,1,-0.6994893809799372,0.10371494891250033 A66.6716665916699,66.6716665916699,0,0,0,0.7005499914345048,-0.096290675718123 A0.3535533905932739,0.3535533905932739,0,0,1,0.6994893809799412,-0.10371494891247027 Z\" />\n<path d=\"M-0.9899494936611669,0.14142135623731056 A3.2789150988545566,3.2789150988545566,0,0,1,0.989949493661165,-0.14142135623730967 A3.6032614522093858,3.6032614522093858,0,0,0,-0.9899494936611666,0.14142135623730967 Z\" fill=\"green\" />\n<path d=\"M-0.989949493661169,0.14142135623730923 A3.6032614522093867,3.6032614522093867,0,0,0,0.9899494936611679,-0.14142135623731011 A3.2789150988545592,3.2789150988545592,0,0,1,-0.9899494936611662,0.14142135623730878 Z\" fill=\"red\" />\n<circle cx=\"0.2521860805610254\" cy=\"0.10626098289588715\" r=\"0.015\" fill=\"blue\" />\n<circle cx=\"-0.5606636397387026\" cy=\"0.18053960234248034\" r=\"0.015\" fill=\"blue\" />\n<path d=\"M-0.29676251040456636,0.6025494171783814 A2.146248182740717,2.146248182740717,0,0,1,0.701171414447489,-0.09644134159985374 A0.35877903238541003,0.35877903238541003,0,0,1,0.6988637959499029,-0.10357715317479634 A2.016425436442721,2.016425436442721,0,0,0,-0.30326895949457966,0.5974776432696638 A0.418155027899733,0.418155027899733,0,0,1,-0.29676251040456464,0.6025494171783792 Z\" />\n<path d=\"M0.9853664777733977,-0.17044912578375548 A6.532149419915895,6.532149419915895,0,0,0,-0.4819464206437738,0.8762006891281526 A5.418232399470248,5.418232399470248,0,0,1,0.9853664777733977,-0.17044912578375548 Z\" fill=\"green\" />\n<path d=\"M0.9853664777733977,-0.17044912578375593 A1.3520552678461166,1.3520552678461166,0,0,0,-0.48194642064377646,0.8762006891281541 A1.3105355801673981,1.3105355801673981,0,0,1,0.9853664777733988,-0.17044912578375548 Z\" fill=\"red\" />\n<circle cx=\"0.20337605767401667\" cy=\"-0.02905372252485905\" r=\"0.015\" fill=\"blue\" />\n<circle cx=\"-0.33217802900641424\" cy=\"0.4847420396594827\" r=\"0.015\" fill=\"blue\" />\n<path d=\"M-0.7014902970024646,0.1034297829034041 A0.6864997963793993,0.6864997963793993,0,0,1,-0.30403988947716165,0.600768880204682 A0.5140635898574856,0.5140635898574856,0,0,1,-0.29592943305228686,0.5992590764030181 A0.6726476608085789,0.6726476608085789,0,0,0,-0.6985327524280831,0.09653780420465263 A0.4140256469448782,0.4140256469448782,0,0,1,-0.7014902970024646,0.10342978290340407 Z\" />\n<path d=\"M-0.32552898749447745,0.9455320609587072 A0.9118006782008422,0.9118006782008422,0,0,0,-0.9989579396913535,0.045640275279695386 A0.8799049361700505,0.8799049361700505,0,0,1,-0.32552898749447734,0.9455320609587071 Z\" fill=\"green\" />\n<path d=\"M-0.325528987494478,0.945532060958707 A0.5911775820689146,0.5911775820689146,0,0,0,-0.9989579396913534,0.04564027527969616 A0.5859299106852999,0.5859299106852999,0,0,1,-0.3255289874944779,0.945532060958707 Z\" fill=\"red\" />\n<circle cx=\"-0.5339917626413109\" cy=\"0.07628453752018727\" r=\"0.015\" fill=\"blue\" />\n<circle cx=\"-0.2212888149333927\" cy=\"0.5049807396132704\" r=\"0.015\" fill=\"blue\" />\n</svg>",
      "text/plain": [
       "<drawSvg.drawing.Drawing at 0x2792d441c40>"
      ]
     },
     "execution_count": 82,
     "metadata": {},
     "output_type": "execute_result"
    }
   ],
   "source": [
    "import drawSvg as draw\n",
    "import math\n",
    "from constructions import deltaLines_of_Line,is_on_Linesegment,ips_with_deltaneigbourhood\n",
    "from hyperbolic import util\n",
    "from hyperbolic.euclid import intersection\n",
    "from hyperbolic.euclid.shapes import  Arc, Line as ELine, OriginLine, Circle\n",
    "from hyperbolic.poincare.shapes import *\n",
    "from Triangle import Triangle\n",
    "\n",
    "delta=0.3\n",
    "\n",
    "d = draw.Drawing(2.2, 2.2, origin='center')\n",
    "\n",
    "\n",
    "d.setRenderSize(500)\n",
    "d.append(draw.Circle(0, 0, 1, fill='orange',stroke_width=0.01, stroke='black'))\n",
    "\n",
    "p1=Point.fromEuclid(-0.7,-0.1)\n",
    "p2=Point.fromEuclid(0.7,0.1)\n",
    "p3=Point.fromEuclid(-0.3,-0.6)\n",
    "PList=[p1,p2,p3]\n",
    "#print(PList)\n",
    "\n",
    "Tri=Polygon.fromVertices(PList)\n",
    "deltaTri=Tri.offsetPolygon(delta)\n",
    "SList=Tri.edges\n",
    "\n",
    "\n",
    "for i,v in enumerate(PList):\n",
    "    d.draw(v, hradius=0.1, fill='#eee')\n",
    "    d.draw(draw.Text(str(i), 0.05, *v, center=0.7))\n",
    "'''\n",
    "for l in SList:\n",
    "    d.draw(l, hwidth=0.03)\n",
    "    d.draw(Hypercycle.fromHypercycleOffset(l,delta),hwidth=0.03, fill='green')\n",
    "    d.draw(Hypercycle.fromHypercycleOffset(l,-delta),hwidth=0.03, fill='red')\n",
    "'''\n",
    "d.draw(deltaTri, stroke_width=0.02, stroke='black', fill='none')\n",
    "\n",
    "for i,l in enumerate(SList):\n",
    "    d.draw(l, hwidth=0.03)\n",
    "    d.draw(Hypercycle.fromHypercycleOffset(l,delta),hwidth=0.03, fill='green')\n",
    "    d.draw(Hypercycle.fromHypercycleOffset(l,-delta),hwidth=0.03, fill='red')\n",
    "    RestList = SList[:i] + SList[i+1:]\n",
    "    for y in RestList:\n",
    "        for h in deltaLines_of_Line(l,delta):\n",
    "            ip=y.intersectionsWithHcycle(h)\n",
    "            for p in ip:\n",
    "                if is_on_Linesegment(*p,y):\n",
    "                    d.draw(p, radius=0.015, fill='blue')\n",
    "\n",
    "d"
   ]
  },
  {
   "cell_type": "markdown",
   "id": "ca08a0c6",
   "metadata": {},
   "source": [
    "not our own code but something to work with...\n",
    "\n",
    "found on https://pypi.org/project/drawSvg/\n"
   ]
  },
  {
   "cell_type": "code",
   "execution_count": 6,
   "id": "a5675005",
   "metadata": {},
   "outputs": [
    {
     "data": {
      "application/vnd.jupyter.widget-view+json": {
       "model_id": "ed81110ec60e4d44825dedb96e1901c7",
       "version_major": 2,
       "version_minor": 0
      },
      "text/plain": [
       "DrawingWidget()"
      ]
     },
     "metadata": {},
     "output_type": "display_data"
    }
   ],
   "source": [
    "import drawSvg as draw\n",
    "from drawSvg.widgets import DrawingWidget\n",
    "import hyperbolic.poincare.shapes as hyper  # pip3 install hyperbolic\n",
    "\n",
    "# Create drawing\n",
    "d = draw.Drawing(2, 2, origin='center')\n",
    "d.setRenderSize(500)\n",
    "d.append(draw.Circle(0, 0, 1, fill='orange'))\n",
    "group = draw.Group()\n",
    "d.append(group)\n",
    "\n",
    "# Update the drawing based on user input\n",
    "click_list = []\n",
    "def redraw(points):\n",
    "    group.children.clear()\n",
    "    for x1, y1 in points:\n",
    "        for x2, y2 in points:\n",
    "            if (x1, y1) == (x2, y2): continue\n",
    "            p1 = hyper.Point.fromEuclid(x1, y1)\n",
    "            p2 = hyper.Point.fromEuclid(x2, y2)\n",
    "            if p1.distanceTo(p2) <= 1e9:\n",
    "                line = hyper.Line.fromPoints(*p1, *p2, segment=True)\n",
    "                group.draw(line, hwidth=0.1, fill='white')\n",
    "    for x, y in points:\n",
    "        p = hyper.Point.fromEuclid(x, y)\n",
    "        group.draw(hyper.Circle.fromCenterRadius(p, 0.05), fill='green')\n",
    "redraw(click_list)\n",
    "\n",
    "# Create interactive widget and register mouse events\n",
    "widget = DrawingWidget(d)\n",
    "@widget.mousedown\n",
    "def mousedown(widget, x, y, info):\n",
    "        if (x**2 + y**2) ** 0.5 + 1e-5 < 1:\n",
    "            if len(click_list)<3:\n",
    "                click_list.append((x, y))\n",
    "        redraw(click_list)\n",
    "        widget.refresh()\n",
    "        \n",
    "        \n",
    "@widget.mousemove\n",
    "def mousemove(widget, x, y, info):\n",
    "    if (x**2 + y**2) ** 0.5 + 1e-5 < 1:\n",
    "        if len(click_list)<3:\n",
    "            redraw(click_list + [(x, y)])\n",
    "    widget.refresh()\n",
    "widget"
   ]
  },
  {
   "cell_type": "code",
   "execution_count": null,
   "id": "f6110ef6",
   "metadata": {},
   "outputs": [],
   "source": []
  }
 ],
 "metadata": {
  "kernelspec": {
   "display_name": "Python 3 (ipykernel)",
   "language": "python",
   "name": "python3"
  },
  "language_info": {
   "codemirror_mode": {
    "name": "ipython",
    "version": 3
   },
   "file_extension": ".py",
   "mimetype": "text/x-python",
   "name": "python",
   "nbconvert_exporter": "python",
   "pygments_lexer": "ipython3",
   "version": "3.9.7"
  }
 },
 "nbformat": 4,
 "nbformat_minor": 5
}
