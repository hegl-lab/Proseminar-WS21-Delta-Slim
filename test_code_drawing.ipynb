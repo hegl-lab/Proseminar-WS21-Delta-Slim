{
 "cells": [
  {
   "cell_type": "markdown",
   "id": "b9fc48f8",
   "metadata": {},
   "source": [
    "v7 makes problems:\n",
    "[Ideal(0.997, -0.071), Ideal(0.799, 0.602), Point(0.039, -0.737)]\n",
    "[Ideal(0.995, 0.097), Ideal(-0.584, -0.812), Point(-0.437, -0.069)]\n",
    "k=2\n",
    "\n",
    "in approx the isCovered fails, multiple intersections with the edge that are not ideal:\n",
    "[Ideal(0.782, 0.623), Ideal(0.785, -0.62), Ideal(-0.781, -0.624)]"
   ]
  },
  {
   "cell_type": "markdown",
   "id": "d08fc52e",
   "metadata": {},
   "source": [
    "Nice looking triangles:\n",
    "PList = [Point(0.8, 0.516), Point(-0.215, -0.557), Point(-0.611, 0.639)]\n",
    "k = 2"
   ]
  },
  {
   "cell_type": "code",
   "execution_count": 54,
   "id": "a719b7da",
   "metadata": {},
   "outputs": [
    {
     "name": "stdout",
     "output_type": "stream",
     "text": [
      "PList = [Point(-0.142, 0.127), Ideal(0.667, -0.745), Point(0.407, -0.813)]\n",
      "k = 2\n",
      "Tri is CW\n",
      "Tri is not covered for delta = 0.3\n"
     ]
    },
    {
     "data": {
      "image/svg+xml": "<?xml version=\"1.0\" encoding=\"UTF-8\"?>\n<svg xmlns=\"http://www.w3.org/2000/svg\" xmlns:xlink=\"http://www.w3.org/1999/xlink\"\n     width=\"500\" height=\"500.0\" viewBox=\"-1.05 -1.05 2.1 2.1\">\n<defs>\n</defs>\n<circle cx=\"0\" cy=\"0\" r=\"1\" stroke=\"#cc6500\" stroke-width=\"0.01\" fill=\"#ff7f00\" />\n<path d=\"M-0.1421871590719057,-0.12663930833092607 A33.069930281735836,33.069930281735836,0,0,1,0.667316310938542,0.7447744230002584 A0.15135747663591229,0.15135747663591229,0,0,0,0.40685817166811866,0.8128437319757725 A9.875128347748236,9.875128347748236,0,0,0,-0.14218715907190216,-0.12663930833093495 Z\" stroke=\"#793e82\" stroke-width=\"0.005\" fill=\"#377eb8\" fill-opacity=\"1\" />\n<path d=\"M0.3789113874123121,0.8098956807672033 A0.026351633931458555,0.026351633931458555,0,0,0,0.42940740841348124,0.820209457274931 A0.16586474173420673,0.16586474173420673,0,0,1,0.6673163109385438,0.7447744230002608 A3.1226576460449356,3.1226576460449356,0,0,0,-0.04151554156223858,-0.22923979944333484 A0.14360265714331985,0.14360265714331985,0,0,0,-0.2480336736298461,-0.03030774376008738 A3.8111907454030725,3.8111907454030725,0,0,0,0.529581998616123,0.6572647962251215 A0.15124853929572882,0.15124853929572882,0,0,0,0.3789113874123121,0.8098956807672033 Z\" stroke=\"#e94749\" stroke-width=\"0.005\" fill=\"#e41a1c\" fill-opacity=\"0.75\" />\n<path d=\"M-0.7110982911880546,-0.7030926114456275 A3.036937746459401,3.036937746459401,0,0,1,0.6673163109384892,0.7447744230003126 A3.2139325336806235,3.2139325336806235,0,0,0,-0.7110982911880499,-0.7030926114456255 Z\" fill=\"#984ea3\" />\n<path d=\"M0.6673163109385449,0.7447744230002606 A0.1666330206177096,0.1666330206177096,0,0,0,0.4170207847917698,0.9088969496327163 A0.16511636658748957,0.16511636658748957,0,0,1,0.667316310938545,0.7447744230002608 Z\" fill=\"#984ea3\" />\n<path d=\"M0.44801015661926247,0.8940284668655614 A4.9055474705448985,4.9055474705448985,0,0,1,-0.6181439818966261,-0.7860648940418269 A5.405867095290933,5.405867095290933,0,0,0,0.44801015661926336,0.8940284668655614 Z\" fill=\"#984ea3\" />\n<path d=\"M-0.7110982911879513,-0.7030926114457305 A3.9506278021408288,3.9506278021408288,0,0,0,0.6673163109385962,0.7447744230002149 A3.681951058492849,3.681951058492849,0,0,1,-0.7110982911879522,-0.7030926114457308 Z\" fill=\"#4daf4a\" />\n<path d=\"M0.6673163109385443,0.7447744230002613 A0.15104361067708183,0.15104361067708183,0,1,0,0.4170207847917702,0.9088969496327161 A0.15146728563523948,0.15146728563523948,0,1,1,0.6673163109385443,0.7447744230002613 Z\" fill=\"#4daf4a\" />\n<path d=\"M0.4480101566192545,0.8940284668655645 A2.636536848575819,2.636536848575819,0,0,0,-0.6181439818966306,-0.7860648940418202 A2.518743553207572,2.518743553207572,0,0,1,0.4480101566192549,0.8940284668655636 Z\" fill=\"#4daf4a\" />\n</svg>",
      "text/plain": [
       "<drawSvg.drawing.Drawing at 0x1af6fd3b970>"
      ]
     },
     "execution_count": 54,
     "metadata": {},
     "output_type": "execute_result"
    }
   ],
   "source": [
    "import random\n",
    "import drawSvg as draw\n",
    "from constructions import *\n",
    "from deltaNeigbourhood import *\n",
    "from hyperbolic.poincare.shapes import *\n",
    "from Triangle import *\n",
    "\n",
    "backgroundStyle = dict(stroke='#cc6500', stroke_width=0.01, fill='#ff7f00')\n",
    "polyStyle1 = dict(stroke='#793e82', stroke_width=0.005,  fill='#377eb8', fill_opacity=1)\n",
    "polyStyle2 = dict(stroke='#e94749', stroke_width=0.005, fill='#e41a1c', fill_opacity=0.75)\n",
    "lineStyle1 = dict(hwidth=0.02, fill='#984ea3')\n",
    "lineStyle2 = dict(hwidth=0.02, fill='#4daf4a')\n",
    "\n",
    "d = draw.Drawing(2.1, 2.1, origin='center')\n",
    "d.setRenderSize(500)\n",
    "d.append(draw.Circle(0, 0, 1, **backgroundStyle))\n",
    "\n",
    "PList=randomPoints(3,1)\n",
    "\n",
    "#PList=[Point(-0.381, -0.06), Point(-0.13, 0.123), Point(-0.182, 0.23)]\n",
    "\n",
    "k=random.randint(0,2)\n",
    "#k=0\n",
    "print('PList =', PList)\n",
    "print('k =', k)\n",
    "\n",
    "Tri=Triangle.fromVertices(PList)\n",
    "\n",
    "delta = Tri.approx()\n",
    "delta=0.3\n",
    "d.draw(Tri, **polyStyle1)\n",
    "d.draw(deltaNbh(Tri,delta,k),**polyStyle2)\n",
    "\n",
    "\n",
    "for i,e in enumerate(Tri.edges):\n",
    "    d.draw(Tri.offsetEdge(i, delta, False), **lineStyle1)\n",
    "\n",
    "for i,e in enumerate(Tri.edges):\n",
    "    d.draw(Tri.offsetEdge(i, delta, inner=True), **lineStyle2)\n",
    "\n",
    "\n",
    "if Tri.isCCW():\n",
    "    print('Tri is CCW')\n",
    "else:\n",
    "    print('Tri is CW')\n",
    "\n",
    "if Tri.isDeltaslim(delta):\n",
    "    print('Tri is delta-slim for delta =',delta)\n",
    "else:\n",
    "    print('Tri is not covered for delta =',delta)\n",
    "\n",
    "#print(delta)\n",
    "#print(np.log(1+2**0.5))\n",
    "#d.savePng('triangleDeltaNbh.png')\n",
    "d"
   ]
  }
 ],
 "metadata": {
  "kernelspec": {
   "display_name": "Python 3 (ipykernel)",
   "language": "python",
   "name": "python3"
  },
  "language_info": {
   "codemirror_mode": {
    "name": "ipython",
    "version": 3
   },
   "file_extension": ".py",
   "mimetype": "text/x-python",
   "name": "python",
   "nbconvert_exporter": "python",
   "pygments_lexer": "ipython3",
   "version": "3.9.7"
  }
 },
 "nbformat": 4,
 "nbformat_minor": 5
}
