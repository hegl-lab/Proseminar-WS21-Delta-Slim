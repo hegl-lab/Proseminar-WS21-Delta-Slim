{
 "cells": [
  {
   "cell_type": "markdown",
   "id": "d08fc52e",
   "metadata": {},
   "source": [
    "Nice looking triangles:\n",
    "PList = [Point(0.8, 0.516), Point(-0.215, -0.557), Point(-0.611, 0.639)]\n",
    "k = 2\n",
    "\n",
    "triangle 2:\n",
    "[Point(-0.239, -0.96), Point(0.419, 0.652), Point(-0.36, -0.071)]"
   ]
  },
  {
   "cell_type": "code",
   "execution_count": 25,
   "id": "a719b7da",
   "metadata": {},
   "outputs": [
    {
     "name": "stdout",
     "output_type": "stream",
     "text": [
      "PList = [Point(-0.128, 0.24), Point(0.386, 0.188), Point(-0.476, 0.056)]\n",
      "k = 2\n",
      "0.28727077530505185\n",
      "0.8813735870195429\n"
     ]
    },
    {
     "data": {
      "image/svg+xml": "<?xml version=\"1.0\" encoding=\"UTF-8\"?>\n<svg xmlns=\"http://www.w3.org/2000/svg\" xmlns:xlink=\"http://www.w3.org/1999/xlink\"\n     width=\"500\" height=\"500.0\" viewBox=\"-1.05 -1.05 2.1 2.1\">\n<defs>\n<radialGradient cx=\"0\" cy=\"0\" r=\"1\" gradientUnits=\"userSpaceOnUse\" id=\"d0\">\n<stop offset=\"0\" stop-color=\"#ff9832\" stop-opacity=\"1\" />\n<stop offset=\"1\" stop-color=\"#ff7f00\" stop-opacity=\"1\" />\n</radialGradient>\n<radialGradient cx=\"0\" cy=\"0\" r=\"1\" gradientUnits=\"userSpaceOnUse\" id=\"d1\">\n<stop offset=\"0\" stop-color=\"#377eb8\" stop-opacity=\"1\" />\n<stop offset=\"1\" stop-color=\"#5e97c6\" stop-opacity=\"1\" />\n</radialGradient>\n<radialGradient cx=\"0\" cy=\"0\" r=\"1\" gradientUnits=\"userSpaceOnUse\" id=\"d2\">\n<stop offset=\"0\" stop-color=\"#e41a1c\" stop-opacity=\"0.7\" />\n<stop offset=\"1\" stop-color=\"#e94749\" stop-opacity=\"0.4\" />\n</radialGradient>\n</defs>\n<circle cx=\"0\" cy=\"0\" r=\"1\" stroke=\"#cc6500\" stroke-width=\"0.01\" fill=\"url(#d0)\" />\n<path d=\"M-0.12820064760776978,-0.2398264453883865 A2.2409890948467064,2.2409890948467064,0,0,0,0.3860250395737041,-0.1875403457494338 A4.63305889376171,4.63305889376171,0,0,1,-0.4756444020268486,-0.05605770422520617 A1.7131228369773364,1.7131228369773364,0,0,0,-0.1282006476077696,-0.23982644538838693 Z\" stroke=\"black\" stroke-opacity=\"0.5\" stroke-width=\"0.005\" fill=\"url(#d1)\" />\n<path d=\"M-0.4890106561719634,-0.16363547619228666 A0.11044889413398218,0.11044889413398218,0,0,0,-0.4768400822817655,0.05493205273822733 A2.054015385517285,2.054015385517285,0,0,0,0.4214918080940707,-0.07536954511528138 A0.11681827567469938,0.11681827567469938,0,0,0,0.39052507426271343,-0.30072056103737316 A6.719948221666313,6.719948221666313,0,0,1,-0.10366861069355005,-0.36574412664427136 A0.13230510918588873,0.13230510918588873,0,0,0,-0.2549289521138136,-0.20656942045458354 A13.813959791779265,13.813959791779265,0,0,0,-0.4890106561719634,-0.1636354761922867 Z\" stroke=\"black\" stroke-opacity=\"0.5\" stroke-width=\"0.005\" fill=\"url(#d2)\" />\n</svg>",
      "text/plain": [
       "<drawSvg.drawing.Drawing at 0x1c83ea615e0>"
      ]
     },
     "execution_count": 25,
     "metadata": {},
     "output_type": "execute_result"
    }
   ],
   "source": [
    "import drawSvg \n",
    "from constructions import *\n",
    "from deltaNeigbourhood import *\n",
    "from hyperbolic.euclid.shapes import Circle as ECircle\n",
    "from hyperbolic.poincare.shapes import *\n",
    "from Triangle import *\n",
    "\n",
    "\n",
    "backcolor = drawSvg.RadialGradient(0,0,1)\n",
    "backcolor.addStop(0, '#ff9832', opacity=1)\n",
    "backcolor.addStop(1, '#ff7f00', opacity=1)\n",
    "\n",
    "polycolor1 = drawSvg.RadialGradient(0,0,1)\n",
    "polycolor1.addStop(0, '#377eb8', opacity=1)\n",
    "polycolor1.addStop(1, '#5e97c6', opacity=1)\n",
    "\n",
    "polycolor2 = drawSvg.RadialGradient(0,0,1)\n",
    "polycolor2.addStop(0, '#e41a1c', opacity=0.7)\n",
    "polycolor2.addStop(1, '#e94749', opacity=0.4)\n",
    "\n",
    "backgroundStyle = dict(stroke='#cc6500', stroke_width=0.01, fill=backcolor)\n",
    "polyStyle1 = dict(stroke='black', stroke_opacity=0.5, stroke_width=0.005,  fill=polycolor1)\n",
    "polyStyle2 = dict(stroke='black', stroke_opacity=0.5, stroke_width=0.005, fill=polycolor2)\n",
    "lineStyle1 = dict(hwidth=0.02, fill='#984ea3')\n",
    "lineStyle2 = dict(hwidth=0.02, fill='yellow')\n",
    "pointStyle1 = dict(radius=0.01, fill='#984ea3')\n",
    "pointStyle2 = dict(radius=0.01, fill='yellow')\n",
    "\n",
    "\n",
    "d = drawSvg.Drawing(2.1, 2.1, origin='center')\n",
    "d.setRenderSize(500)\n",
    "d.append(drawSvg.Circle(0, 0, 1, **backgroundStyle))\n",
    "\n",
    "#pl=randomPoints(3000)\n",
    "\n",
    "PList=randomPoints(3)\n",
    "#PList = [Point(-0.239, -0.96), Point(0.419, 0.652), Point(-0.36, -0.071)]\n",
    "k = 2\n",
    "#k=random.randint(0,2)\n",
    "\n",
    "print('PList =', PList)\n",
    "print('k =', k)\n",
    "\n",
    "Tri=Triangle.fromVertices(PList)\n",
    "\n",
    "IdealTri=Tri.surroundingIdealTriangle()\n",
    "\n",
    "delta = Tri.approx(64)\n",
    "print(delta)\n",
    "#delta=0.2\n",
    "d.draw(Tri, **polyStyle1)\n",
    "d.draw(Tri.neigbourhood(delta, k),**polyStyle2)\n",
    "#d.draw(IdealTri, **polyStyle2)\n",
    "#d.draw(Tri, **polyStyle1)\n",
    "\n",
    "#for p in pl:\n",
    "    #d.draw(p,  **pointStyle1,  fill_opacity=0.5)\n",
    "\n",
    "'''\n",
    "for i,v in enumerate(Tri.vertices):\n",
    "    d.draw(v, radius=0.03, fill='yellow')\n",
    "    d.draw(drawSvg.Text(str(i),0.05, *v, center=0.7))\n",
    "\n",
    "\n",
    "for i,v in enumerate(IdealTri.vertices):\n",
    "    d.draw(v, radius=0.03, fill='lightblue')\n",
    "    d.draw(drawSvg.Text(str(i),0.05, *v, center=0.7))\n",
    "\n",
    "for i,e in enumerate(Tri.edges):\n",
    "    d.draw(Tri.offsetEdge(i, delta, False), **lineStyle1)\n",
    "\n",
    "for i,e in enumerate(Tri.edges):\n",
    "    d.draw(Tri.offsetEdge(i, delta, inner=True), **lineStyle2)\n",
    "    #d.draw(drawSvg.Text(str(i), 0.05, *e.projShape.midpoint(), center=0.7))\n",
    "'''\n",
    "'''\n",
    "if Tri.isCCW():\n",
    "    print('Tri is CCW')\n",
    "else:\n",
    "    print('Tri is CW')\n",
    "\n",
    "if Tri.isDeltaslim(delta):\n",
    "    print('Tri is delta-slim for delta =',delta)\n",
    "else:\n",
    "    print('Tri is not covered for delta =',delta)\n",
    "'''\n",
    "#print(IdealTri.isIdeal())\n",
    "print(np.log(1+2**0.5))\n",
    "#d.savePng('triangleDeltaNbh.png')\n",
    "d"
   ]
  },
  {
   "cell_type": "code",
   "execution_count": 51,
   "id": "1bd7a25c",
   "metadata": {},
   "outputs": [
    {
     "name": "stdout",
     "output_type": "stream",
     "text": [
      "PList = [Point(-0.042, 0.701), Point(-0.708, -0.012), Point(-0.599, -0.166)]\n",
      "k = 2\n",
      "Tri is CCW\n",
      "Tri is not covered for delta = 0.3\n"
     ]
    },
    {
     "data": {
      "image/svg+xml": "<?xml version=\"1.0\" encoding=\"UTF-8\"?>\n<svg xmlns=\"http://www.w3.org/2000/svg\" xmlns:xlink=\"http://www.w3.org/1999/xlink\"\n     width=\"750\" height=\"416.66666666666663\" viewBox=\"-4.5 -4.9 9 5\">\n<defs>\n<linearGradient x1=\"0\" y1=\"0\" x2=\"0\" y2=\"-10\" gradientUnits=\"userSpaceOnUse\" id=\"d0\">\n<stop offset=\"0\" stop-color=\"#ff9832\" stop-opacity=\"1\" />\n<stop offset=\"0.2\" stop-color=\"#ff7f00\" stop-opacity=\"1\" />\n</linearGradient>\n<linearGradient x1=\"0\" y1=\"0\" x2=\"0\" y2=\"-10\" gradientUnits=\"userSpaceOnUse\" id=\"d1\">\n<stop offset=\"0\" stop-color=\"#2c6493\" stop-opacity=\"1\" />\n<stop offset=\"0.2\" stop-color=\"#377eb8\" stop-opacity=\"1\" />\n</linearGradient>\n<linearGradient x1=\"0\" y1=\"0\" x2=\"0\" y2=\"-10\" gradientUnits=\"userSpaceOnUse\" id=\"d2\">\n<stop offset=\"0\" stop-color=\"#e41a1c\" stop-opacity=\"0.7\" />\n<stop offset=\"0.2\" stop-color=\"#e94749\" stop-opacity=\"0.4\" />\n</linearGradient>\n</defs>\n<rect x=\"-10\" y=\"-10\" width=\"20\" height=\"10\" stroke=\"#cc6500\" stroke-width=\"0.01\" fill=\"url(#d0)\" />\n<path d=\"M-0.9318129867665448,-5.560184155064914 A4000.229229957408,4000.229229957408,0,0,1,-0.9279620802053614,-0.3265651471416533 A0.3640062577866186,0.3640062577866186,0,0,1,-0.6976359433555329,-0.3573042004578956 A65.85460719342359,65.85460719342359,0,0,0,-0.9318129867668858,-5.560184155064911 Z\" stroke=\"black\" stroke-opacity=\"0.5\" stroke-width=\"0.005\" fill=\"url(#d1)\" />\n<path d=\"M-0.6697923999729444,-0.4786873265140665 A0.10880637997333359,0.10880637997333359,0,0,1,-0.7130966736257582,-0.265801501530062 A0.38050976064826925,0.38050976064826925,0,0,0,-0.894645242057931,-0.24767246818760477 A0.09944571443718574,0.09944571443718574,0,0,1,-1.0230923636713898,-0.3123939055283623 A4181.593679411676,4181.593679411676,0,0,0,-2.5509075987329197,-5.316874477203328 A1.693188910520526,1.693188910520526,0,1,1,0.6885933468773255,-5.321181983050889 A4181.593679413746,4181.593679413746,0,0,1,-0.7784040665255816,-0.49119102800045766 A0.38050976064825937,0.38050976064825937,0,0,1,-0.669792399972944,-0.4786873265140677 Z\" stroke=\"black\" stroke-opacity=\"0.5\" stroke-width=\"0.005\" fill=\"url(#d2)\" />\n</svg>",
      "text/plain": [
       "<drawSvg.drawing.Drawing at 0x1c83e913100>"
      ]
     },
     "execution_count": 51,
     "metadata": {},
     "output_type": "execute_result"
    }
   ],
   "source": [
    "backcolor = drawSvg.LinearGradient(0,0,0,10)\n",
    "backcolor.addStop(0, '#ff9832', opacity=1)\n",
    "backcolor.addStop(0.2, '#ff7f00', opacity=1)\n",
    "\n",
    "polycolor1 = drawSvg.LinearGradient(0,0,0,10)\n",
    "polycolor1.addStop(0, '#2c6493', opacity=1)\n",
    "polycolor1.addStop(0.2, '#377eb8', opacity=1)\n",
    "\n",
    "polycolor2 = drawSvg.LinearGradient(0,0,0,10)\n",
    "polycolor2.addStop(0, '#e41a1c', opacity=0.7)\n",
    "polycolor2.addStop(0.2, '#e94749', opacity=0.4)\n",
    "\n",
    "backgroundStyle = dict(stroke='#cc6500', stroke_width=0.01, fill=backcolor)\n",
    "polyStyle1 = dict(stroke='black', stroke_opacity=0.5, stroke_width=0.005,  fill=polycolor1)\n",
    "polyStyle2 = dict(stroke='black', stroke_opacity=0.5, stroke_width=0.005, fill=polycolor2)\n",
    "lineStyle1 = dict(hwidth=0.02, fill='#984ea3')\n",
    "lineStyle2 = dict(hwidth=0.02, fill='yellow')\n",
    "\n",
    "\n",
    "\n",
    "halfplane= Transform.diskToHalf()\n",
    "d = drawSvg.Drawing(9, 5, origin=(-9/2, -0.1))\n",
    "d.append(drawSvg.Rectangle(-10,0, 20, 10, **backgroundStyle))\n",
    "d.setRenderSize(w=750)\n",
    "\n",
    "\n",
    "PList=randomPoints(3)\n",
    "#PList=[Ideal.fromDegree(i/3*360) for i in range(2)]\n",
    "\n",
    "#PList = [Point(-0.564, 0.586), Point(0.129, -0.654), Point(0.58, 0.399)]\n",
    "k=2\n",
    "\n",
    "print('PList =', PList)\n",
    "print('k =', k)\n",
    "\n",
    "Tri=Triangle.fromVertices(PList)\n",
    "\n",
    "delta = Tri.approx()\n",
    "delta=0.3\n",
    "d.draw(Tri, transform=halfplane, **polyStyle1)\n",
    "d.draw(Tri.neigbourhood(delta, k), transform=halfplane, **polyStyle2)\n",
    "\n",
    "if Tri.isCCW():\n",
    "    print('Tri is CCW')\n",
    "else:\n",
    "    print('Tri is CW')\n",
    "\n",
    "if Tri.isDeltaslim(delta):\n",
    "    print('Tri is delta-slim for delta =',delta)\n",
    "else:\n",
    "    print('Tri is not covered for delta =',delta)\n",
    "\n",
    "d"
   ]
  }
 ],
 "metadata": {
  "kernelspec": {
   "display_name": "Python 3 (ipykernel)",
   "language": "python",
   "name": "python3"
  },
  "language_info": {
   "codemirror_mode": {
    "name": "ipython",
    "version": 3
   },
   "file_extension": ".py",
   "mimetype": "text/x-python",
   "name": "python",
   "nbconvert_exporter": "python",
   "pygments_lexer": "ipython3",
   "version": "3.9.7"
  }
 },
 "nbformat": 4,
 "nbformat_minor": 5
}
