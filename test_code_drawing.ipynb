{
 "cells": [
  {
   "cell_type": "markdown",
   "id": "2e77d643",
   "metadata": {},
   "source": [
    "new code specific for our usecase"
   ]
  },
  {
   "cell_type": "code",
   "execution_count": 5,
   "id": "388d6c6d",
   "metadata": {},
   "outputs": [
    {
     "data": {
      "application/vnd.jupyter.widget-view+json": {
       "model_id": "d3e125a60a3143e5a94302453427729e",
       "version_major": 2,
       "version_minor": 0
      },
      "text/plain": [
       "DrawingWidget()"
      ]
     },
     "metadata": {},
     "output_type": "display_data"
    }
   ],
   "source": [
    "import drawSvg as draw\n",
    "from drawSvg.widgets import DrawingWidget\n",
    "from hyperbolic import euclid, util\n",
    "from hyperbolic.poincare.shapes import *\n",
    "from hyperbolic.poincare import Transform\n",
    "import hyperbolic.poincare.shapes as hyper  # pip3 install hyperbolic\n",
    "\n",
    "delta=0.3\n",
    "click_list=[]\n",
    "lineStyle2 = dict(stroke_width=0.01, stroke='white', fill='none' #,stroke_dasharray='.02,.02'\n",
    "                 )\n",
    "\n",
    "# Create drawing\n",
    "d = draw.Drawing(2.2, 2.2, origin='center')\n",
    "d.setRenderSize(500)\n",
    "d.append(draw.Circle(0, 0, 1, fill='orange',stroke_width=0.01, stroke='black'))\n",
    "g=draw.Group()\n",
    "d.append(g)\n",
    "\n",
    "\n",
    "def draw_delta_neigbourhood_twosides(points,delta):\n",
    "    for i,x in enumerate(points):\n",
    "        p1=hyper.Point.fromEuclid(x[0],x[1])\n",
    "        g.draw(hyper.Circle.fromCenterRadius(p1, delta), fill='green',fill_opacity=1)\n",
    "        for y in points[i+1:]:\n",
    "            if i==0:\n",
    "                p2=hyper.Point.fromEuclid(y[0],y[1])\n",
    "                line = hyper.Line.fromPoints(*p1, *p2, segment=True)\n",
    "                g.draw(line, hwidth=2*delta, fill='green',fill_opacity=1)\n",
    "                \n",
    "def draw_thin_triangle(points):\n",
    "    for i,x in enumerate(points):\n",
    "        for y in points[i+1:]:\n",
    "            p1=hyper.Point.fromEuclid(x[0],x[1])\n",
    "            p2=hyper.Point.fromEuclid(y[0],y[1])\n",
    "            line=Line.fromPoints(*p1,*p2,segment=True)\n",
    "            g.draw(line, **lineStyle2)\n",
    "def draw_thick_line(points):\n",
    "    for i,x in enumerate(points):\n",
    "        for y in points[i+1:]:\n",
    "            p1=hyper.Point.fromEuclid(x[0],x[1])\n",
    "            p2=hyper.Point.fromEuclid(y[0],y[1])\n",
    "            line=hyper.Line.fromPoints(*p1,*p2,segment=True)\n",
    "            g.draw(line, hwidth=0.4,fill='red')\n",
    "    \n",
    "def redraw_Mousepoint(points):\n",
    "    for i,x in enumerate(points):\n",
    "        p=hyper.Point.fromEuclid(x[0],x[1])\n",
    "        g.draw(hyper.Circle.fromCenterRadius(p,0.02),fill='white')\n",
    "        \n",
    "def shift(seq, shift=1):\n",
    "    perm=shift%3 \n",
    "    return seq[-perm:] + seq[:-perm]\n",
    "\n",
    "clicks=0\n",
    "        \n",
    "widget = DrawingWidget(d)\n",
    "@widget.mousedown\n",
    "def mousedown(widget, x, y, info):\n",
    "        global clicks\n",
    "        clicks+=1\n",
    "        if (x**2 + y**2) ** 0.5 + 2e-10 < 1:\n",
    "            if clicks<3:\n",
    "                click_list.append((x, y))\n",
    "            elif clicks==3:\n",
    "                click_list.append((x,y))\n",
    "                g.children.clear()\n",
    "                draw_delta_neigbourhood_twosides(click_list,delta)\n",
    "                draw_thin_triangle(click_list)\n",
    "            else:\n",
    "                g.children.clear()\n",
    "                draw_delta_neigbourhood_twosides(shift(click_list,clicks),delta)\n",
    "                draw_thin_triangle(shift(click_list,clicks))\n",
    "        widget.refresh()\n",
    "        \n",
    "        \n",
    "@widget.mousemove\n",
    "def mousemove(widget, x, y, info):\n",
    "    if (x**2 + y**2) ** 0.5 + 2e-10 < 1:\n",
    "        if len(click_list)<3:\n",
    "            g.children.clear()\n",
    "            draw_thin_triangle(click_list + [(x, y)])\n",
    "            redraw_Mousepoint([(x,y)])\n",
    "    widget.refresh()\n",
    "    \n",
    "draw_thick_line([(0.5,0.4),(-0.2,-0.3)])\n",
    "widget"
   ]
  },
  {
   "cell_type": "code",
   "execution_count": 15,
   "id": "a719b7da",
   "metadata": {},
   "outputs": [
    {
     "ename": "TypeError",
     "evalue": "fromPoints() missing 2 required positional arguments: 'x2' and 'y2'",
     "output_type": "error",
     "traceback": [
      "\u001b[1;31m---------------------------------------------------------------------------\u001b[0m",
      "\u001b[1;31mTypeError\u001b[0m                                 Traceback (most recent call last)",
      "\u001b[1;32m~\\AppData\\Local\\Temp/ipykernel_11104/3139651006.py\u001b[0m in \u001b[0;36m<module>\u001b[1;34m\u001b[0m\n\u001b[0;32m     45\u001b[0m                     \u001b[0md\u001b[0m\u001b[1;33m.\u001b[0m\u001b[0mdraw\u001b[0m\u001b[1;33m(\u001b[0m\u001b[0mp\u001b[0m\u001b[1;33m,\u001b[0m \u001b[0mradius\u001b[0m\u001b[1;33m=\u001b[0m\u001b[1;36m0.015\u001b[0m\u001b[1;33m,\u001b[0m \u001b[0mfill\u001b[0m\u001b[1;33m=\u001b[0m\u001b[1;34m'blue'\u001b[0m\u001b[1;33m)\u001b[0m\u001b[1;33m\u001b[0m\u001b[1;33m\u001b[0m\u001b[0m\n\u001b[0;32m     46\u001b[0m \u001b[1;33m\u001b[0m\u001b[0m\n\u001b[1;32m---> 47\u001b[1;33m \u001b[0mtriangleIsCovered\u001b[0m\u001b[1;33m(\u001b[0m\u001b[0mTri\u001b[0m\u001b[1;33m,\u001b[0m \u001b[0mdelta\u001b[0m\u001b[1;33m)\u001b[0m\u001b[1;33m\u001b[0m\u001b[1;33m\u001b[0m\u001b[0m\n\u001b[0m\u001b[0;32m     48\u001b[0m \u001b[0md\u001b[0m\u001b[1;33m\u001b[0m\u001b[1;33m\u001b[0m\u001b[0m\n",
      "\u001b[1;32mc:\\Users\\HP\\Documents\\GitHub\\seminar-wise21-deltaslim\\constructions.py\u001b[0m in \u001b[0;36mtriangleIsCovered\u001b[1;34m(triangle, delta)\u001b[0m\n\u001b[0;32m     53\u001b[0m             \u001b[1;32mraise\u001b[0m \u001b[0mException\u001b[0m\u001b[1;33m(\u001b[0m\u001b[1;34m'Intersection with edge %s is ambiguous'\u001b[0m\u001b[1;33m%\u001b[0m\u001b[0mi\u001b[0m\u001b[1;33m)\u001b[0m\u001b[1;33m\u001b[0m\u001b[1;33m\u001b[0m\u001b[0m\n\u001b[0;32m     54\u001b[0m         \u001b[0mprint\u001b[0m\u001b[1;33m(\u001b[0m\u001b[1;34m'here we need to determine coverage'\u001b[0m\u001b[1;33m)\u001b[0m\u001b[1;33m\u001b[0m\u001b[1;33m\u001b[0m\u001b[0m\n",
      "\u001b[1;31mTypeError\u001b[0m: fromPoints() missing 2 required positional arguments: 'x2' and 'y2'"
     ]
    }
   ],
   "source": [
    "import drawSvg as draw\n",
    "import math\n",
    "from constructions import deltaLines_of_Line,is_on_Linesegment, triangleIsCovered\n",
    "from hyperbolic import util\n",
    "from hyperbolic.euclid import intersection\n",
    "from hyperbolic.euclid.shapes import  Arc, Line as ELine, OriginLine, Circle\n",
    "from hyperbolic.poincare.shapes import *\n",
    "from Triangle import Triangle\n",
    "\n",
    "delta=0.3\n",
    "\n",
    "d = draw.Drawing(2.2, 2.2, origin='center')\n",
    "\n",
    "\n",
    "d.setRenderSize(500)\n",
    "d.append(draw.Circle(0, 0, 1, fill='orange',stroke_width=0.01, stroke='black'))\n",
    "\n",
    "p1=Point.fromEuclid(-0.7,-0.1)\n",
    "p2=Point.fromEuclid(0.7,0.1)\n",
    "p3=Point.fromEuclid(-0.3,0.6)\n",
    "PList=[p1,p2,p3]\n",
    "#print(PList)\n",
    "\n",
    "Tri=Polygon.fromVertices(PList)\n",
    "deltaTri=Tri.offsetPolygon(delta)\n",
    "SList=Tri.edges\n",
    "\n",
    "\n",
    "for i,v in enumerate(PList):\n",
    "    d.draw(v, hradius=0.1, fill='#eee')\n",
    "    d.draw(draw.Text(str(i), 0.05, *v, center=0.7))\n",
    "\n",
    "#d.draw(deltaTri, stroke_width=0.02, stroke='black', fill='none')\n",
    "\n",
    "for i,l in enumerate(SList):\n",
    "    d.draw(l, hwidth=0.03)\n",
    "    d.draw(l.makeOffset(delta),hwidth=0.03, fill='green')\n",
    "    d.draw(l.makeOffset(-delta),hwidth=0.03, fill='red')\n",
    "    RestList = SList[:i] + SList[i+1:]\n",
    "    for y in RestList:\n",
    "        for h in deltaLines_of_Line(l,delta):\n",
    "            ips = y.intersectionsWithHcycle(h)\n",
    "            for p in ips:\n",
    "                if is_on_Linesegment(*p, y):\n",
    "                    d.draw(p, radius=0.015, fill='blue')\n",
    "\n",
    "triangleIsCovered(Tri, delta)\n",
    "d"
   ]
  },
  {
   "cell_type": "markdown",
   "id": "ca08a0c6",
   "metadata": {},
   "source": [
    "not our own code but something to work with...\n",
    "\n",
    "found on https://pypi.org/project/drawSvg/\n"
   ]
  },
  {
   "cell_type": "code",
   "execution_count": 6,
   "id": "a5675005",
   "metadata": {},
   "outputs": [
    {
     "data": {
      "application/vnd.jupyter.widget-view+json": {
       "model_id": "ed81110ec60e4d44825dedb96e1901c7",
       "version_major": 2,
       "version_minor": 0
      },
      "text/plain": [
       "DrawingWidget()"
      ]
     },
     "metadata": {},
     "output_type": "display_data"
    }
   ],
   "source": [
    "import drawSvg as draw\n",
    "from drawSvg.widgets import DrawingWidget\n",
    "import hyperbolic.poincare.shapes as hyper  # pip3 install hyperbolic\n",
    "\n",
    "# Create drawing\n",
    "d = draw.Drawing(2, 2, origin='center')\n",
    "d.setRenderSize(500)\n",
    "d.append(draw.Circle(0, 0, 1, fill='orange'))\n",
    "group = draw.Group()\n",
    "d.append(group)\n",
    "\n",
    "# Update the drawing based on user input\n",
    "click_list = []\n",
    "def redraw(points):\n",
    "    group.children.clear()\n",
    "    for x1, y1 in points:\n",
    "        for x2, y2 in points:\n",
    "            if (x1, y1) == (x2, y2): continue\n",
    "            p1 = hyper.Point.fromEuclid(x1, y1)\n",
    "            p2 = hyper.Point.fromEuclid(x2, y2)\n",
    "            if p1.distanceTo(p2) <= 1e9:\n",
    "                line = hyper.Line.fromPoints(*p1, *p2, segment=True)\n",
    "                group.draw(line, hwidth=0.1, fill='white')\n",
    "    for x, y in points:\n",
    "        p = hyper.Point.fromEuclid(x, y)\n",
    "        group.draw(hyper.Circle.fromCenterRadius(p, 0.05), fill='green')\n",
    "redraw(click_list)\n",
    "\n",
    "# Create interactive widget and register mouse events\n",
    "widget = DrawingWidget(d)\n",
    "@widget.mousedown\n",
    "def mousedown(widget, x, y, info):\n",
    "        if (x**2 + y**2) ** 0.5 + 1e-5 < 1:\n",
    "            if len(click_list)<3:\n",
    "                click_list.append((x, y))\n",
    "        redraw(click_list)\n",
    "        widget.refresh()\n",
    "        \n",
    "        \n",
    "@widget.mousemove\n",
    "def mousemove(widget, x, y, info):\n",
    "    if (x**2 + y**2) ** 0.5 + 1e-5 < 1:\n",
    "        if len(click_list)<3:\n",
    "            redraw(click_list + [(x, y)])\n",
    "    widget.refresh()\n",
    "widget"
   ]
  },
  {
   "cell_type": "code",
   "execution_count": null,
   "id": "f6110ef6",
   "metadata": {},
   "outputs": [],
   "source": []
  }
 ],
 "metadata": {
  "kernelspec": {
   "display_name": "Python 3 (ipykernel)",
   "language": "python",
   "name": "python3"
  },
  "language_info": {
   "codemirror_mode": {
    "name": "ipython",
    "version": 3
   },
   "file_extension": ".py",
   "mimetype": "text/x-python",
   "name": "python",
   "nbconvert_exporter": "python",
   "pygments_lexer": "ipython3",
   "version": "3.9.7"
  }
 },
 "nbformat": 4,
 "nbformat_minor": 5
}
