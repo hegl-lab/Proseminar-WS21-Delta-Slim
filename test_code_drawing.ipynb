{
 "cells": [
  {
   "cell_type": "markdown",
   "id": "b9fc48f8",
   "metadata": {},
   "source": [
    "v7 makes problems:\n",
    "[Ideal(0.997, -0.071), Ideal(0.799, 0.602), Point(0.039, -0.737)]\n",
    "[Ideal(0.995, 0.097), Ideal(-0.584, -0.812), Point(-0.437, -0.069)]\n",
    "k=2\n",
    "\n",
    "in approx the isCovered fails, multiple intersections with the edge that are not ideal:\n",
    "[Ideal(0.782, 0.623), Ideal(0.785, -0.62), Ideal(-0.781, -0.624)]"
   ]
  },
  {
   "cell_type": "markdown",
   "id": "d08fc52e",
   "metadata": {},
   "source": [
    "Nice looking triangles:\n",
    "PList = [Point(0.8, 0.516), Point(-0.215, -0.557), Point(-0.611, 0.639)]\n",
    "k = 2"
   ]
  },
  {
   "cell_type": "code",
   "execution_count": 3,
   "id": "a719b7da",
   "metadata": {},
   "outputs": [
    {
     "name": "stdout",
     "output_type": "stream",
     "text": [
      "PList = [Point(-0.793, 0.556), Point(0.189, 0.204), Point(-0.234, 0.911)]\n",
      "k = 1\n",
      "Tri is CCW\n",
      "Tri is not covered for delta = 0.3\n"
     ]
    },
    {
     "data": {
      "image/svg+xml": "<?xml version=\"1.0\" encoding=\"UTF-8\"?>\n<svg xmlns=\"http://www.w3.org/2000/svg\" xmlns:xlink=\"http://www.w3.org/1999/xlink\"\n     width=\"750\" height=\"750.0\" viewBox=\"-1.05 -1.05 2.1 2.1\">\n<defs>\n</defs>\n<circle cx=\"0\" cy=\"0\" r=\"1\" fill=\"#ff7f00\" stroke-width=\"0.01\" stroke=\"#001a30\" />\n<path d=\"M-0.7934704921865816,-0.5563726731806848 A2.0942026967798983,2.0942026967798983,0,0,0,0.18909440494575025,-0.20367885803792163 A1.660969766414592,1.660969766414592,0,0,1,-0.23425142880739536,-0.9113407476089082 A0.37298228650756987,0.37298228650756987,0,0,1,-0.7934704921865808,-0.5563726731806862 Z\" stroke=\"black\" stroke-width=\"0.005\" fill=\"#53565b\" fill-opacity=\"1\" />\n<path d=\"M0.2046367820875783,-0.33574943059741447 A0.1376205236838507,0.1376205236838507,0,0,1,0.17963726154948614,-0.06199830756422056 A1.3367004644740146,1.3367004644740146,0,0,1,-0.7995307194237096,-0.5497371586586195 A0.00925287852379969,0.00925287852379969,0,0,1,-0.7901326958065659,-0.5645826797679211 A0.4398513641642686,0.4398513641642686,0,0,0,-0.25076165973783987,-0.9121122549952567 A0.01740142291733679,0.01740142291733679,0,0,1,-0.21741226055237584,-0.915250443214919 A0.3501252830702277,0.3501252830702277,0,0,1,-0.4248317071303065,-0.4598623274969891 A6.04282423287111,6.04282423287111,0,0,0,0.20463678208757696,-0.33574943059741447 Z\" stroke=\"black\" stroke-width=\"0.005\" fill=\"#ff9e1b\" fill-opacity=\"0.5\" />\n<path d=\"M-0.8189094293669676,-0.5739227704960548 A2.1391053564733156,2.1391053564733156,0,0,0,0.9611387609960831,-0.2760657206371593 A2.0513473208800335,2.0513473208800335,0,0,1,-0.8189094293669679,-0.5739227704960552 Z\" fill=\"darkblue\" />\n<path d=\"M-0.818909429366971,-0.5739227704960559 A6.451135258888007,6.451135258888007,0,0,0,0.9611387609960882,-0.27606572063715884 A5.682625929103309,5.682625929103309,0,0,1,-0.8189094293669608,-0.5739227704960532 Z\" fill=\"yellow\" />\n<path d=\"M0.972694616899383,0.23208873788911744 A1.6339135531520166,1.6339135531520166,0,0,1,-0.25002804093900566,-0.9682385959794226 A1.6891088708572168,1.6891088708572168,0,0,0,0.9726946168993833,0.23208873788911766 Z\" fill=\"darkblue\" />\n<path d=\"M0.9726946168993823,0.23208873788911766 A1.1432740505855723,1.1432740505855723,0,0,1,-0.250028040939006,-0.9682385959794223 A1.1631504776555732,1.1631504776555732,0,0,0,0.9726946168993825,0.2320887378891172 Z\" fill=\"yellow\" />\n<path d=\"M-0.24410372308624467,-0.9697491285767851 A0.3716148550927024,0.3716148550927024,0,0,1,-0.8195334906566417,-0.5730312885804231 A0.3743973950159085,0.3743973950159085,0,0,0,-0.24410372308624456,-0.969749128576785 Z\" fill=\"darkblue\" />\n<path d=\"M-0.24410372308624484,-0.969749128576785 A0.3499357470278279,0.3499357470278279,0,0,1,-0.8195334906566416,-0.5730312885804228 A0.3503477029865327,0.3503477029865327,0,0,0,-0.24410372308624478,-0.969749128576785 Z\" fill=\"yellow\" />\n</svg>",
      "text/plain": [
       "<drawSvg.drawing.Drawing at 0x1801bd8d7c0>"
      ]
     },
     "execution_count": 3,
     "metadata": {},
     "output_type": "execute_result"
    }
   ],
   "source": [
    "import random\n",
    "import drawSvg as draw\n",
    "from constructions import *\n",
    "from deltaNeigbourhood import *\n",
    "from hyperbolic.poincare.shapes import *\n",
    "from Triangle import *\n",
    "\n",
    "d = draw.Drawing(2.1, 2.1, origin='center')\n",
    "d.setRenderSize(750)\n",
    "d.append(draw.Circle(0, 0, 1, fill='#ff7f00', stroke_width=0.01, stroke='#001a30'))\n",
    "\n",
    "PList=randomPoints(3)\n",
    "\n",
    "#PList=[Point(-0.381, -0.06), Point(-0.13, 0.123), Point(-0.182, 0.23)]\n",
    "\n",
    "k=random.randint(0,2)\n",
    "#k=0\n",
    "print('PList =', PList)\n",
    "print('k =', k)\n",
    "\n",
    "Tri=Triangle.fromVertices(PList)\n",
    "\n",
    "delta = Tri.approx()\n",
    "delta=0.3\n",
    "d.draw(Tri, stroke='black', stroke_width=0.005,  fill='#53565b', fill_opacity=1)\n",
    "d.draw(deltaNbh(Tri,delta,k), stroke='black',stroke_width=0.005, fill='#ff9e1b', fill_opacity=0.5)\n",
    "'''\n",
    "for i,e in enumerate(Tri.edges):\n",
    "    d.draw(Hypercycle(e.projShape), hwidth=0.02, fill='darkblue')\n",
    "    d.draw(Tri.offsetEdge(i, delta, inner=True), hwidth=0.02, fill='yellow')\n",
    "'''\n",
    "\n",
    "if Tri.isCCW():\n",
    "    print('Tri is CCW')\n",
    "else:\n",
    "    print('Tri is CW')\n",
    "\n",
    "if Tri.isDeltaslim(delta):\n",
    "    print('Tri is delta-slim for delta =',delta)\n",
    "else:\n",
    "    print('Tri is not covered for delta =',delta)\n",
    "\n",
    "#print(delta)\n",
    "#print(np.log(1+2**0.5))\n",
    "#d.savePng('triangleDeltaNbh.png')\n",
    "d"
   ]
  }
 ],
 "metadata": {
  "kernelspec": {
   "display_name": "Python 3 (ipykernel)",
   "language": "python",
   "name": "python3"
  },
  "language_info": {
   "codemirror_mode": {
    "name": "ipython",
    "version": 3
   },
   "file_extension": ".py",
   "mimetype": "text/x-python",
   "name": "python",
   "nbconvert_exporter": "python",
   "pygments_lexer": "ipython3",
   "version": "3.9.7"
  }
 },
 "nbformat": 4,
 "nbformat_minor": 5
}
