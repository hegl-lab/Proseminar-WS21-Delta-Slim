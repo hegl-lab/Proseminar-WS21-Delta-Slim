{
 "cells": [
  {
   "cell_type": "code",
   "execution_count": 4,
   "id": "e4804a6c",
   "metadata": {},
   "outputs": [
    {
     "name": "stdout",
     "output_type": "stream",
     "text": [
      "Tri is CCW: False\n",
      "Tri is covered: False\n"
     ]
    },
    {
     "data": {
      "image/svg+xml": "<?xml version=\"1.0\" encoding=\"UTF-8\"?>\n<svg xmlns=\"http://www.w3.org/2000/svg\" xmlns:xlink=\"http://www.w3.org/1999/xlink\"\n     width=\"500\" height=\"500.0\" viewBox=\"-1.1 -1.1 2.2 2.2\">\n<defs>\n</defs>\n<circle cx=\"0\" cy=\"0\" r=\"1\" fill=\"orange\" stroke-width=\"0.01\" stroke=\"black\" />\n<circle cx=\"0.6707651527218658\" cy=\"-0.19164718649196166\" r=\"0.1433651196517688\" fill=\"red\" fill-opacity=\"1\" />\n<circle cx=\"-0.2887537083953793\" cy=\"0.6737586529225514\" r=\"0.12868525796595487\" fill=\"red\" fill-opacity=\"1\" />\n<path d=\"M-0.48056590571667,-0.47778214084463233 A6.630673612671323,6.630673612671323,0,0,0,-0.4161162152300131,0.6921621164705338 A0.2779678321361654,0.2779678321361654,0,0,1,-0.19231676776183487,0.7589631838995283 A1.0830893110503634,1.0830893110503634,0,0,0,-0.12136257414254936,-0.5859084216758081 A0.585960064259164,0.585960064259164,0,0,1,-0.48056590571667096,-0.4777821408446289 Z\" fill=\"red\" fill-opacity=\"1\" />\n<circle cx=\"-0.28269789326458766\" cy=\"-0.4711631554409797\" r=\"0.1979786890539271\" fill=\"red\" fill-opacity=\"1\" />\n<path d=\"M0.717067473344601,-0.3273293615840345 A43.74733884491081,43.74733884491081,0,0,1,-0.2145411499057559,-0.6570400492557553 A0.6106690329984922,0.6106690329984922,0,0,1,-0.4469496897128386,-0.36063302976008704 A0.9116122069704619,0.9116122069704619,0,0,0,0.7382074595901635,-0.06513595071802603 A0.33047178182853515,0.33047178182853515,0,0,1,0.7170674733454598,-0.3273293615837414 Z\" fill=\"red\" fill-opacity=\"1\" />\n<path d=\"M-0.29729263128772354,0.7016055774139129 A2.292934067001646,2.292934067001646,0,0,1,0.7014677857577595,-0.19679833390226054 A0.3262760564823772,0.3262760564823772,0,0,1,0.6985646073138075,-0.2032224566961148 A2.1453694156042245,2.1453694156042245,0,0,0,-0.30272926882724027,0.698422972406405 A0.27790248444101634,0.27790248444101634,0,0,1,-0.29729263128772276,0.7016055774139119 Z\" fill=\"black\" />\n<path d=\"M-0.3047597129118911,-0.49866177626976155 A2.258263270919917,2.258263270919917,0,0,1,-0.30303135998030717,0.6991524316162492 A0.2779678321361654,0.2779678321361654,0,0,1,-0.29697407814222054,0.7008831371084571 A2.1149880232613136,2.1149880232613136,0,0,0,-0.2952409879363098,-0.501381510534525 A0.585960064259164,0.585960064259164,0,0,1,-0.3047597129118912,-0.49866177626976227 Z\" fill=\"black\" />\n<path d=\"M0.6997992794614322,-0.20351503891906342 A1.5415968188290954,1.5415968188290954,0,0,1,-0.2970439144321314,-0.5039601057129908 A0.6106690329984922,0.6106690329984922,0,0,1,-0.3029979208725279,-0.4960510323524498 A1.4734576026078614,1.4734576026078614,0,0,0,0.7002387587577867,-0.19647907395024422 A0.33047178182853515,0.33047178182853515,0,0,1,0.6997992794614325,-0.2035150389190636 Z\" fill=\"black\" />\n<circle cx=\"-0.07403683080225287\" cy=\"-0.042512188220157454\" r=\"0.03\" fill=\"yellow\" />\n<text x=\"-0.07403683080225287\" y=\"-0.042512188220157454\" font-size=\"0.05\" text-anchor=\"middle\" dy=\"0.35em\">0</text>\n<circle cx=\"0.7\" cy=\"-0.2\" r=\"0.025\" fill=\"#eee\" />\n<text x=\"0.7\" y=\"-0.2\" font-size=\"0.05\" text-anchor=\"middle\" dy=\"0.35em\">0</text>\n<circle cx=\"0.06192142077361251\" cy=\"-0.15032493570306982\" r=\"0.03\" fill=\"yellow\" />\n<text x=\"0.06192142077361251\" y=\"-0.15032493570306982\" font-size=\"0.05\" text-anchor=\"middle\" dy=\"0.35em\">1</text>\n<circle cx=\"-0.3\" cy=\"0.7\" r=\"0.025\" fill=\"#eee\" />\n<text x=\"-0.3\" y=\"0.7\" font-size=\"0.05\" text-anchor=\"middle\" dy=\"0.35em\">1</text>\n<circle cx=\"0.07870280861979895\" cy=\"0.012368254227041013\" r=\"0.03\" fill=\"yellow\" />\n<text x=\"0.07870280861979895\" y=\"0.012368254227041013\" font-size=\"0.05\" text-anchor=\"middle\" dy=\"0.35em\">2</text>\n<circle cx=\"-0.3\" cy=\"-0.5\" r=\"0.025\" fill=\"#eee\" />\n<text x=\"-0.3\" y=\"-0.5\" font-size=\"0.05\" text-anchor=\"middle\" dy=\"0.35em\">2</text>\n</svg>",
      "text/plain": [
       "<drawSvg.drawing.Drawing at 0x244406f3a00>"
      ]
     },
     "execution_count": 4,
     "metadata": {},
     "output_type": "execute_result"
    }
   ],
   "source": [
    "import drawSvg as draw\n",
    "from constructions import deltaLines_of_Line, shift, isPointOnSegment\n",
    "from deltaNeigbourhood import *\n",
    "from hyperbolic.poincare.shapes import *\n",
    "from Triangle import Triangle\n",
    "\n",
    "delta=0.6\n",
    "\n",
    "d = draw.Drawing(2.2, 2.2, origin='center')\n",
    "d.setRenderSize(500)\n",
    "d.append(draw.Circle(0, 0, 1, fill='orange',stroke_width=0.01, stroke='black'))\n",
    "\n",
    "p1=Point.fromEuclid(0.7,0.2)\n",
    "p2=Point.fromEuclid(-0.3,-0.7)\n",
    "p3=Point.fromEuclid(-0.3,0.5)\n",
    "Points=[p1,p2,p3]\n",
    "#Points=[Point.fromPolarEuclid(0.75,deg=i/3*360) for i in range(3)]\n",
    "IdealPoints=[Ideal(Points[i].theta) for i in range(3)]\n",
    "'''\n",
    "C1= Circle.fromCenterRadius(p1,delta)\n",
    "print(p1, C1.projShape.cx,C1.projShape.cy)\n",
    "d.draw(C1, fill='blue')\n",
    "'''\n",
    "\n",
    "Tri=Triangle.fromVertices(Points)\n",
    "#OffTri=Tri.offsetTriangle(delta)       #for ideal this doesn't work\n",
    "\n",
    "deltaNeigbourhood(Tri, d, delta, 0)\n",
    "\n",
    "for e in Tri.edges:\n",
    "    d.draw(e, hwidth=0.03, fill='black')\n",
    "\n",
    "for i,v in enumerate(Tri.vertices):\n",
    "    #d.draw(makeMidCap(Tri, i, delta), fill='red')\n",
    "    p = innerInterPoint(Tri,i,delta)\n",
    "    d.draw(p, radius=0.03,fill='yellow')\n",
    "    d.draw(draw.Text(str(i),0.05,*p, center=0.7))\n",
    "    d.draw(v, radius=0.025, fill='#eee')\n",
    "    d.draw(draw.Text(str(i), 0.05, *v, center=0.7))\n",
    "\n",
    "\n",
    "\n",
    "\n",
    "print('Tri is CCW:',Tri.isCCW())\n",
    "print('Tri is covered:',Tri.isCovered(delta))\n",
    "d"
   ]
  },
  {
   "cell_type": "code",
   "execution_count": 268,
   "id": "a719b7da",
   "metadata": {},
   "outputs": [
    {
     "name": "stdout",
     "output_type": "stream",
     "text": [
      "delta 0.7945556640625\n",
      "Point(-0.473, 0.842) 0 False\n",
      "Point(0.449, 0.212) 1 False\n",
      "Point(-0.197, -0.695) 2 False\n",
      "Tri is not Ideal\n",
      "Tri is CW\n",
      "Tri is covered\n"
     ]
    },
    {
     "data": {
      "image/svg+xml": "<?xml version=\"1.0\" encoding=\"UTF-8\"?>\n<svg xmlns=\"http://www.w3.org/2000/svg\" xmlns:xlink=\"http://www.w3.org/1999/xlink\"\n     width=\"500\" height=\"500.0\" viewBox=\"-1.1 -1.1 2.2 2.2\">\n<defs>\n</defs>\n<circle cx=\"0\" cy=\"0\" r=\"1\" fill=\"orange\" stroke-width=\"0.01\" stroke=\"black\" />\n<circle cx=\"-0.4682427684097574\" cy=\"-0.8327035842758411\" r=\"0.029150365117425525\" fill=\"red\" fill-opacity=\"1\" />\n<circle cx=\"0.3990428337503509\" cy=\"-0.18861758593458772\" r=\"0.2948366252394233\" fill=\"red\" fill-opacity=\"1\" />\n<path d=\"M-0.06318671492686367,0.7982133703092287 A2.6802934963147638,2.6802934963147638,0,0,0,0.6582155810780697,-0.048053996676292954 A0.7926544628009318,0.7926544628009318,0,0,1,0.29472870854814315,-0.4643841518302199 A1.0538843966430402,1.0538843966430402,0,0,0,-0.3755730018426935,0.6712351499250506 A0.3342017948960831,0.3342017948960831,0,0,1,-0.06318671492686412,0.7982133703092288 Z\" fill=\"red\" fill-opacity=\"1\" />\n<circle cx=\"-0.18228290618580978\" cy=\"0.6434599541734264\" r=\"0.19527550429607973\" fill=\"red\" fill-opacity=\"1\" />\n<path d=\"M-0.49682405914319405,-0.8384353908400927 A2.789578104401738,2.789578104401738,0,0,0,-0.3644820565366085,0.7137165708691893 A0.3344881773395506,0.3344881773395506,0,0,1,-0.03153047136696083,0.7675817732636929 A1.0378967243800614,1.0378967243800614,0,0,0,-0.457708355650389,-0.8598839068326924 A0.03464488834632017,0.03464488834632017,0,0,1,-0.49682405914319455,-0.8384353908400916 Z\" fill=\"red\" fill-opacity=\"1\" />\n<path d=\"M-0.4905328592465974,-0.8714226953662373 A0.8166937540155241,0.8166937540155241,0,0,0,0.9732824732017712,-0.22961103492263513 A0.8154282299993165,0.8154282299993165,0,0,1,-0.49053285924659756,-0.8714226953662365 Z\" fill=\"yellow\" />\n<path d=\"M-0.4905328592465983,-0.871422695366233 A9.878779476379385,9.878779476379385,0,0,1,0.9732824732017695,-0.22961103492263213 A10.885501707535822,10.885501707535822,0,0,0,-0.4905328592465992,-0.8714226953662347 Z\" fill=\"blue\" />\n<path d=\"M0.44998207234756815,-0.21780625095491501 A1.3566981872589239,1.3566981872589239,0,0,1,-0.47302543094270555,-0.8422321297746828 A0.03465327552075479,0.03465327552075479,0,0,1,-0.47388726853921254,-0.8417175009703846 A1.3036426766742135,1.3036426766742135,0,0,0,0.44812108415731094,-0.20666106761806957 A0.9233084905590786,0.9233084905590786,0,0,1,0.4499820723475685,-0.21780625095491474 Z\" />\n<path d=\"M0.8569502711316621,-0.5153991005108282 A1.055969740739648,1.055969740739648,0,0,0,-0.29233236822608055,0.9563167814523235 A1.0518288661575368,1.0518288661575368,0,0,1,0.8569502711316623,-0.5153991005108278 Z\" fill=\"yellow\" />\n<path d=\"M0.8569502711316623,-0.5153991005108294 A2.653564594745675,2.653564594745675,0,0,1,-0.2923323682260821,0.9563167814523235 A2.7076961231967323,2.7076961231967323,0,0,0,0.856950271131663,-0.5153991005108282 Z\" fill=\"blue\" />\n<path d=\"M-0.19350269121691088,0.6961122102463664 A2.712938818106348,2.712938818106348,0,0,1,0.4528432731611767,-0.20808193924900786 A0.7926544628009318,0.7926544628009318,0,0,1,0.44525133625165936,-0.2164508804471742 A2.508769949121707,2.508769949121707,0,0,0,-0.20010582461646997,0.6932926614328874 A0.3342017948960831,0.3342017948960831,0,0,1,-0.19350269121691155,0.6961122102463678 Z\" />\n<path d=\"M-0.2516503294878617,0.9678182224305605 A1.0398670061820863,1.0398670061820863,0,0,0,-0.4899287802254446,-0.8717624620886171 A1.0359548909750256,1.0359548909750256,0,0,1,-0.25165032948786237,0.9678182224305607 Z\" fill=\"yellow\" />\n<path d=\"M-0.2516503294878625,0.9678182224305605 A2.7602686138179706,2.7602686138179706,0,0,1,-0.48992878022544506,-0.8717624620886177 A2.8196570739062934,2.8196570739062934,0,0,0,-0.2516503294878629,0.9678182224305607 Z\" fill=\"blue\" />\n<path d=\"M-0.47389696663592273,-0.8417350935526324 A2.5767898181882227,2.5767898181882227,0,0,1,-0.2003483793717038,0.6941969479070029 A0.3344881773395506,0.3344881773395506,0,0,1,-0.1932407560168376,0.6952132778882505 A2.391900907510854,2.391900907510854,0,0,0,-0.4730152290931833,-0.8422148285339907 A0.03464488834632017,0.03464488834632017,0,0,1,-0.47389696663592473,-0.8417350935526362 Z\" />\n<circle cx=\"-0.47345440490379115\" cy=\"-0.841971743191062\" r=\"0.025\" fill=\"lightgray\" />\n<text x=\"-0.47345440490379115\" y=\"-0.841971743191062\" font-size=\"0.05\" text-anchor=\"middle\" dy=\"0.35em\">0</text>\n<circle cx=\"0.44903650587050314\" cy=\"-0.212248346719551\" r=\"0.025\" fill=\"lightgray\" />\n<text x=\"0.44903650587050314\" y=\"-0.212248346719551\" font-size=\"0.05\" text-anchor=\"middle\" dy=\"0.35em\">1</text>\n<circle cx=\"-0.19679441223602412\" cy=\"0.6946856736522462\" r=\"0.025\" fill=\"lightgray\" />\n<text x=\"-0.19679441223602412\" y=\"0.6946856736522462\" font-size=\"0.05\" text-anchor=\"middle\" dy=\"0.35em\">2</text>\n</svg>",
      "text/plain": [
       "<drawSvg.drawing.Drawing at 0x12b0b332940>"
      ]
     },
     "execution_count": 268,
     "metadata": {},
     "output_type": "execute_result"
    }
   ],
   "source": [
    "import math\n",
    "import drawSvg as draw\n",
    "from constructions import *\n",
    "from deltaNeigbourhood import *\n",
    "from hyperbolic.poincare.shapes import *\n",
    "from Triangle import *\n",
    "\n",
    "d = draw.Drawing(2.2, 2.2, origin='center')\n",
    "d.setRenderSize(500)\n",
    "d.append(draw.Circle(0, 0, 1, fill='orange',stroke_width=0.01, stroke='black'))\n",
    "\n",
    "p1=Point.fromEuclid(0.155, -0.872)\n",
    "p2=Point.fromEuclid(-0.884, -0.271)\n",
    "p3=Point.fromEuclid(-0.2, -0.6)\n",
    "\n",
    "PList=[p1,p2, p3]\n",
    "PList=randomPoints(3)\n",
    "\n",
    "#p1=Ideal(PList[0].theta)\n",
    "#p2=Ideal(PList[1].theta)\n",
    "#p3=Ideal(PList[2].theta)\n",
    "#PList=[p1,p2, p3]\n",
    "\n",
    "#PList=[Ideal.fromDegree(i/3*360) for i in range(2)]\n",
    "#PList=[Ideal(p.theta) for p in PList]\n",
    "\n",
    "#print(PList)\n",
    "\n",
    "Tri=Triangle.fromVertices(PList)\n",
    "\n",
    "#d.draw(Tri, stroke_width=0.003, stroke='blue')\n",
    "\n",
    "delta = Tri.approx()\n",
    "#delta=0.3\n",
    "print('delta',delta)\n",
    "#d.draw(Tri.offsetPolygon(delta), fill='black')\n",
    "\n",
    "deltaNeigbourhood(Tri, d, delta, 0)\n",
    "\n",
    "for i,l in enumerate(Tri.edges):\n",
    "    d.draw(Tri.offsetEdge(i,delta, inner=True), hwidth=0.01, fill='yellow')\n",
    "    d.draw(Tri.offsetEdge(i,delta, inner=False), hwidth=0.01, fill='blue')\n",
    "    #d.draw(Hypercycle.fromHypercycleOffset(l,delta), hwidth=0.03,fill='yellow')\n",
    "    d.draw(l, hwidth=0.03)\n",
    "\n",
    "for i,v in enumerate(Tri.vertices):\n",
    "    print(v,i, v.isIdeal())\n",
    "    d.draw(v, radius=0.025, fill='lightgray')\n",
    "    d.draw(draw.Text(str(i), 0.05, *v, center=0.7))\n",
    "\n",
    "\n",
    "if Tri.isIdeal():\n",
    "    print('Tri is Ideal')\n",
    "else:\n",
    "    print('Tri is not Ideal')\n",
    "\n",
    "if Tri.isCCW():\n",
    "    print('Tri is CCW')\n",
    "else:\n",
    "    print('Tri is CW')\n",
    "\n",
    "if Tri.isCovered(delta):\n",
    "    print('Tri is covered')\n",
    "else:\n",
    "    print('Tri is not covered')\n",
    "\n",
    "d"
   ]
  },
  {
   "cell_type": "code",
   "execution_count": null,
   "id": "5f3b2137",
   "metadata": {},
   "outputs": [],
   "source": [
    "look into these to optimise code:\n",
    "\n",
    "0.37420654296875\n",
    "Point(0.466, 0.378)\n",
    "Point(-0.045, 0.616)\n",
    "Point(-0.436, 0.781)"
   ]
  }
 ],
 "metadata": {
  "kernelspec": {
   "display_name": "Python 3 (ipykernel)",
   "language": "python",
   "name": "python3"
  },
  "language_info": {
   "codemirror_mode": {
    "name": "ipython",
    "version": 3
   },
   "file_extension": ".py",
   "mimetype": "text/x-python",
   "name": "python",
   "nbconvert_exporter": "python",
   "pygments_lexer": "ipython3",
   "version": "3.9.7"
  }
 },
 "nbformat": 4,
 "nbformat_minor": 5
}
