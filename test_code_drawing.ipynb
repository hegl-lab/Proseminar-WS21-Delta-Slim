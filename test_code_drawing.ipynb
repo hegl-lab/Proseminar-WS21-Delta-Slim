{
 "cells": [
  {
   "cell_type": "markdown",
   "id": "b9fc48f8",
   "metadata": {},
   "source": [
    "nearly ideal Triangle, wrong part of segment is choosen:\n",
    "[Ideal(0.993, 0.119), Ideal(1.0, 0.019), Point(0.856, -0.508)]\n",
    "[Ideal(0.998, -0.069), Ideal(0.731, -0.682), Point(0.082, -0.913)]\n",
    "[Ideal(0.852, 0.524), Ideal(0.995, -0.099), Point(0.77, 0.618)]\n",
    "\n",
    "intersection with cap didn't work...\n",
    "[Ideal(0.525, 0.851), Ideal(0.513, -0.859), Point(0.269, 0.616)]"
   ]
  },
  {
   "cell_type": "code",
   "execution_count": 280,
   "id": "a719b7da",
   "metadata": {},
   "outputs": [
    {
     "name": "stdout",
     "output_type": "stream",
     "text": [
      "Tri is CCW\n",
      "Tri is delta-slim for delta = 0.6561823883645843\n",
      "[Point(-0.11, -0.667), Point(-0.646, -0.715), Point(-0.238, -0.963)]\n",
      "2\n"
     ]
    },
    {
     "data": {
      "image/svg+xml": "<?xml version=\"1.0\" encoding=\"UTF-8\"?>\n<svg xmlns=\"http://www.w3.org/2000/svg\" xmlns:xlink=\"http://www.w3.org/1999/xlink\"\n     width=\"1000\" height=\"1000.0\" viewBox=\"-1.05 -1.05 2.1 2.1\">\n<defs>\n</defs>\n<circle cx=\"0\" cy=\"0\" r=\"1\" fill=\"orange\" stroke-width=\"0.01\" stroke=\"black\" />\n<path d=\"M-0.2342343718057445,0.9652523559989797 A0.005656543651437148,0.005656543651437148,0,0,1,-0.24329887535123965,0.9632588450150009 A0.3759097785653047,0.3759097785653047,0,0,0,-0.6382670777366566,0.7340662288969033 A0.024676458334595974,0.024676458334595974,0,0,1,-0.6655096136320505,0.7043661077222492 A0.4094463834874883,0.4094463834874883,0,0,1,0.02401159393997876,0.5013227558722149 A0.18031743153232307,0.18031743153232307,0,0,1,-0.15160876402604448,0.8026606048556946 A0.26234000242085276,0.26234000242085276,0,0,1,-0.2342343718057445,0.9652523559989797 Z\" fill=\"red\" />\n<path d=\"M-0.2342343718057445,0.9652523559989797 A0.005656543651437148,0.005656543651437148,0,0,1,-0.24329887535123965,0.9632588450150009\" stroke-width=\"0.005\" stroke=\"black\" fill=\"none\" />\n<path d=\"M-0.2432988753512355,0.9632588450149993 A0.3759097785653047,0.3759097785653047,0,0,0,-0.6382670777366566,0.7340662288969033\" stroke-width=\"0.005\" stroke=\"black\" fill=\"none\" />\n<path d=\"M-0.6382670777366566,0.7340662288969035 A0.024676458334595974,0.024676458334595974,0,0,1,-0.6655096136320505,0.7043661077222492\" stroke-width=\"0.005\" stroke=\"black\" fill=\"none\" />\n<path d=\"M-0.6655096136320505,0.7043661077222492 A0.4094463834874883,0.4094463834874883,0,0,1,0.02401159393997876,0.5013227558722149\" stroke-width=\"0.005\" stroke=\"black\" fill=\"none\" />\n<path d=\"M0.024011593939978745,0.5013227558722148 A0.18031743153232307,0.18031743153232307,0,0,1,-0.15160876402604448,0.8026606048556946\" stroke-width=\"0.005\" stroke=\"black\" fill=\"none\" />\n<path d=\"M-0.1516087640260445,0.8026606048556949 A0.26234000242085276,0.26234000242085276,0,0,1,-0.2342343718057445,0.9652523559989797\" stroke-width=\"0.005\" stroke=\"black\" fill=\"none\" />\n<path d=\"M-0.10968137380040258,0.6670056485335913 A0.43802639709488683,0.43802639709488683,0,0,0,-0.6464457575903382,0.7151794433497647\" fill=\"none\" stroke=\"yellow\" stroke-width=\"0.01\" />\n<path d=\"M-0.6464457575903383,0.7151794433497648 A0.2526486072342309,0.2526486072342309,0,0,1,-0.2384992853824282,0.9628220397426676\" fill=\"none\" stroke=\"yellow\" stroke-width=\"0.01\" />\n<path d=\"M-0.23849928538242804,0.9628220397426676 A1.0133648074311703,1.0133648074311703,0,0,1,-0.10968137380040244,0.6670056485335915\" fill=\"none\" stroke=\"yellow\" stroke-width=\"0.01\" />\n<circle cx=\"-0.10968137380040253\" cy=\"0.6670056485335913\" r=\"0.02\" fill=\"lightgray\" />\n<text x=\"-0.10968137380040253\" y=\"0.6670056485335913\" font-size=\"0.04\" text-anchor=\"middle\" dy=\"0.35em\">0</text>\n<circle cx=\"-0.6464457575903383\" cy=\"0.7151794433497648\" r=\"0.02\" fill=\"lightgray\" />\n<text x=\"-0.6464457575903383\" y=\"0.7151794433497648\" font-size=\"0.04\" text-anchor=\"middle\" dy=\"0.35em\">1</text>\n<circle cx=\"-0.23849928538242807\" cy=\"0.9628220397426676\" r=\"0.02\" fill=\"lightgray\" />\n<text x=\"-0.23849928538242807\" y=\"0.9628220397426676\" font-size=\"0.04\" text-anchor=\"middle\" dy=\"0.35em\">2</text>\n</svg>",
      "text/plain": [
       "<drawSvg.drawing.Drawing at 0x22e49002b80>"
      ]
     },
     "execution_count": 280,
     "metadata": {},
     "output_type": "execute_result"
    }
   ],
   "source": [
    "import random\n",
    "import drawSvg as draw\n",
    "from constructions import *\n",
    "from deltaNeigbourhood import *\n",
    "from hyperbolic.poincare.shapes import *\n",
    "from Triangle import *\n",
    "\n",
    "d = draw.Drawing(2.1, 2.1, origin='center')\n",
    "d.setRenderSize(1000)\n",
    "d.append(draw.Circle(0, 0, 1, fill='orange',stroke_width=0.01, stroke='black'))\n",
    "\n",
    "\n",
    "\n",
    "p1=Point.fromEuclid(-0.104, 0.069)\n",
    "p2=Point.fromEuclid(-0.182, 0.212)\n",
    "p3=Point.fromEuclid(-0.622, -0.316)\n",
    "\n",
    "PList=[p1,p2, p3]\n",
    "PList=randomPoints(3)\n",
    "#PList=[Ideal.fromDegree(i/3*360) for i in range(2)]\n",
    "\n",
    "#PList=[Point(0.992, 0.118), Point(1.0, 0), Point(0.856, -0.508)]\n",
    "\n",
    "numOfIdealPts=0\n",
    "PList=[Ideal(p.theta)if i<numOfIdealPts else p for i,p in enumerate(PList)]\n",
    "\n",
    "\n",
    "\n",
    "Tri=Triangle.fromVertices(PList)\n",
    "\n",
    "\n",
    "delta = Tri.approx()\n",
    "#delta=0.3\n",
    "\n",
    "k=random.randint(0,2)\n",
    "#d.draw(Tri, stroke='none',  fill='lightblue')\n",
    "#d.draw(Tri.offsetPolygon(delta), fill='black')\n",
    "d.draw(deltaNbh(Tri,delta,k), fill='red')\n",
    "\n",
    "for l in deltaNbh(Tri,delta,k).edges:\n",
    "    d.draw(l, stroke_width=0.005, stroke='black', fill='none')\n",
    "\n",
    "for i,l in enumerate(Tri.edges):\n",
    "    #outer=Tri.offsetEdge(i,delta, inner=False).trimmed(*Tri.offsetVertice(i,i,delta,inner=False), *Tri.offsetVertice(i+1,i,delta,inner=False))\n",
    "    #d.draw(outer, fill='none', stroke='lightblue', stroke_width=0.005)\n",
    "    #inner=Tri.offsetEdge(i,delta).trimmed(*Tri.offsetVertice(i,i,delta, inner=True), *Tri.offsetVertice(i+1,i,delta, inner=True))\n",
    "    #d.draw(inner, fill='none', stroke='lightyellow', stroke_width=0.005)\n",
    "    #d.draw(Tri.offsetEdge(i,delta, inner=True), hwidth=0.01, fill='darkorange')\n",
    "    #d.draw(Tri.offsetEdge(i,delta, inner=False), hwidth=0.01, fill='blue')\n",
    "    #d.draw(Hypercycle.fromHypercycleOffset(l,delta), hwidth=0.03,fill='yellow')\n",
    "    d.draw(l, fill='none', stroke='yellow', stroke_width=0.01)\n",
    "\n",
    "\n",
    "\n",
    "\n",
    "\n",
    "for i,v in enumerate(Tri.vertices):\n",
    "    d.draw(v, radius=0.02, fill='lightgray')\n",
    "    d.draw(draw.Text(str(i), 0.04, *v, center=0.7))\n",
    "    #d.draw(Tri.endCap(i,i-1,delta), fill='none', stroke='lightblue', stroke_width=0.005)\n",
    "    #d.draw(Tri.offsetVertice(i,i,delta,onEdge=True), radius=0.01, fill='orange')\n",
    "\n",
    "\n",
    "\n",
    "#d.draw(Tri, fill='white')\n",
    "#d.draw(deltaNbh(Tri,delta,0), stroke='none', fill='red')\n",
    "\n",
    "\n",
    "if Tri.isCCW():\n",
    "    print('Tri is CCW')\n",
    "else:\n",
    "    print('Tri is CW')\n",
    "\n",
    "if Tri.isCovered(delta):\n",
    "    print('Tri is delta-slim for delta =',delta)\n",
    "else:\n",
    "    print('Tri is not covered for delta =',delta)\n",
    "\n",
    "print(PList)\n",
    "print(k)\n",
    "#print(delta)\n",
    "#print(np.log(1+2**0.5))\n",
    "\n",
    "d"
   ]
  }
 ],
 "metadata": {
  "kernelspec": {
   "display_name": "Python 3 (ipykernel)",
   "language": "python",
   "name": "python3"
  },
  "language_info": {
   "codemirror_mode": {
    "name": "ipython",
    "version": 3
   },
   "file_extension": ".py",
   "mimetype": "text/x-python",
   "name": "python",
   "nbconvert_exporter": "python",
   "pygments_lexer": "ipython3",
   "version": "3.9.7"
  }
 },
 "nbformat": 4,
 "nbformat_minor": 5
}
