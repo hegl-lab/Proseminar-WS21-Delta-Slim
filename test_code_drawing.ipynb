{
 "cells": [
  {
   "cell_type": "markdown",
   "id": "b9fc48f8",
   "metadata": {},
   "source": [
    "v7 makes problems:\n",
    "[Ideal(0.997, -0.071), Ideal(0.799, 0.602), Point(0.039, -0.737)]\n",
    "[Ideal(0.995, 0.097), Ideal(-0.584, -0.812), Point(-0.437, -0.069)]\n",
    "k=2\n",
    "\n",
    "in approx the isCovered fails, multiple intersections with the edge that are not ideal:\n",
    "[Ideal(0.782, 0.623), Ideal(0.785, -0.62), Ideal(-0.781, -0.624)]"
   ]
  },
  {
   "cell_type": "code",
   "execution_count": 44,
   "id": "a719b7da",
   "metadata": {},
   "outputs": [
    {
     "name": "stdout",
     "output_type": "stream",
     "text": [
      "PList = [Point(-0.335, 0.733), Point(0.827, -0.228), Point(-0.755, 0.238)]\n",
      "k = 1\n",
      "Tri is CW\n",
      "Tri is not covered for delta = 0.3\n"
     ]
    },
    {
     "data": {
      "image/svg+xml": "<?xml version=\"1.0\" encoding=\"UTF-8\"?>\n<svg xmlns=\"http://www.w3.org/2000/svg\" xmlns:xlink=\"http://www.w3.org/1999/xlink\"\n     width=\"750\" height=\"750.0\" viewBox=\"-1.05 -1.05 2.1 2.1\">\n<defs>\n</defs>\n<circle cx=\"0\" cy=\"0\" r=\"1\" fill=\"#ff7f00\" stroke-width=\"0.01\" stroke=\"#001a30\" />\n<path d=\"M-0.3346836522047647,-0.7330623815191244 A2.1861097022190745,2.1861097022190745,0,0,0,0.8273201341151848,0.22751039322694822 A54.41171270979917,54.41171270979917,0,0,1,-0.7551645280287342,-0.2384359092060393 A0.5091130935070228,0.5091130935070228,0,0,0,-0.3346836522047638,-0.7330623815191244 Z\" stroke=\"black\" stroke-width=\"0.005\" fill=\"#53565b\" fill-opacity=\"1\" />\n<path d=\"M0.8190939107168653,0.26594522084288585 A0.039924508119961476,0.039924508119961476,0,0,0,0.8446148252168653,0.19298312043148635 A6.836152032069633,6.836152032069633,0,0,1,-0.2937589210959288,-0.7638774331985934 A0.052962436827357295,0.052962436827357295,0,0,0,-0.3837438228394289,-0.7387800673774096 A0.6298434774063222,0.6298434774063222,0,0,1,-0.7693252310152416,-0.28887415148537043 A0.05629810342090426,0.05629810342090426,0,0,0,-0.7513869431233319,-0.1801971274652781 A0.4607612764242699,0.4607612764242699,0,0,0,-0.29518265538127886,-0.4894866311736274 A1.3719183570345734,1.3719183570345734,0,0,0,0.8190939107168653,0.26594522084288585 Z\" stroke=\"black\" stroke-width=\"0.005\" fill=\"#ff9e1b\" fill-opacity=\"0.5\" />\n</svg>",
      "text/plain": [
       "<drawSvg.drawing.Drawing at 0x1e6ef88fb20>"
      ]
     },
     "execution_count": 44,
     "metadata": {},
     "output_type": "execute_result"
    }
   ],
   "source": [
    "import random\n",
    "import drawSvg as draw\n",
    "from constructions import *\n",
    "from deltaNeigbourhood import *\n",
    "from hyperbolic.poincare.shapes import *\n",
    "from Triangle import *\n",
    "\n",
    "d = draw.Drawing(2.1, 2.1, origin='center')\n",
    "d.setRenderSize(750)\n",
    "d.append(draw.Circle(0, 0, 1, fill='#ff7f00', stroke_width=0.01, stroke='#001a30'))\n",
    "\n",
    "PList=randomPoints(3)\n",
    "#PList=[Ideal.fromDegree(i/3*360) for i in range(2)]\n",
    "\n",
    "#PList=[Point(-0.381, -0.06), Point(-0.13, 0.123), Point(-0.182, 0.23)]\n",
    "\n",
    "k=random.randint(0,2)\n",
    "#k=0\n",
    "print('PList =', PList)\n",
    "print('k =', k)\n",
    "\n",
    "Tri=Triangle.fromVertices(PList)\n",
    "\n",
    "delta = Tri.approx()\n",
    "delta=0.3\n",
    "d.draw(Tri, stroke='black', stroke_width=0.005,  fill='#53565b', fill_opacity=1)\n",
    "d.draw(deltaNbh(Tri,delta,k), stroke='black',stroke_width=0.005, fill='#ff9e1b', fill_opacity=0.5)\n",
    "\n",
    "\n",
    "if Tri.isCCW():\n",
    "    print('Tri is CCW')\n",
    "else:\n",
    "    print('Tri is CW')\n",
    "\n",
    "if Tri.isDeltaslim(delta):\n",
    "    print('Tri is delta-slim for delta =',delta)\n",
    "else:\n",
    "    print('Tri is not covered for delta =',delta)\n",
    "\n",
    "#print(delta)\n",
    "#print(np.log(1+2**0.5))\n",
    "\n",
    "d"
   ]
  }
 ],
 "metadata": {
  "kernelspec": {
   "display_name": "Python 3 (ipykernel)",
   "language": "python",
   "name": "python3"
  },
  "language_info": {
   "codemirror_mode": {
    "name": "ipython",
    "version": 3
   },
   "file_extension": ".py",
   "mimetype": "text/x-python",
   "name": "python",
   "nbconvert_exporter": "python",
   "pygments_lexer": "ipython3",
   "version": "3.9.7"
  }
 },
 "nbformat": 4,
 "nbformat_minor": 5
}
