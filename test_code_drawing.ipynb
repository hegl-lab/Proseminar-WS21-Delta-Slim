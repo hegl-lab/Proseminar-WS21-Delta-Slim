{
 "cells": [
  {
   "cell_type": "markdown",
   "id": "2e77d643",
   "metadata": {},
   "source": [
    "new code specific for our usecase"
   ]
  },
  {
   "cell_type": "code",
   "execution_count": 5,
   "id": "388d6c6d",
   "metadata": {},
   "outputs": [
    {
     "data": {
      "application/vnd.jupyter.widget-view+json": {
       "model_id": "d3e125a60a3143e5a94302453427729e",
       "version_major": 2,
       "version_minor": 0
      },
      "text/plain": [
       "DrawingWidget()"
      ]
     },
     "metadata": {},
     "output_type": "display_data"
    }
   ],
   "source": [
    "import drawSvg as draw\n",
    "from drawSvg.widgets import DrawingWidget\n",
    "from hyperbolic import euclid, util\n",
    "from hyperbolic.poincare.shapes import *\n",
    "from hyperbolic.poincare import Transform\n",
    "import hyperbolic.poincare.shapes as hyper  # pip3 install hyperbolic\n",
    "\n",
    "delta=0.3\n",
    "click_list=[]\n",
    "lineStyle2 = dict(stroke_width=0.01, stroke='white', fill='none' #,stroke_dasharray='.02,.02'\n",
    "                 )\n",
    "\n",
    "# Create drawing\n",
    "d = draw.Drawing(2.2, 2.2, origin='center')\n",
    "d.setRenderSize(500)\n",
    "d.append(draw.Circle(0, 0, 1, fill='orange',stroke_width=0.01, stroke='black'))\n",
    "g=draw.Group()\n",
    "d.append(g)\n",
    "\n",
    "\n",
    "def draw_delta_neigbourhood_twosides(points,delta):\n",
    "    for i,x in enumerate(points):\n",
    "        p1=hyper.Point.fromEuclid(x[0],x[1])\n",
    "        g.draw(hyper.Circle.fromCenterRadius(p1, delta), fill='green',fill_opacity=1)\n",
    "        for y in points[i+1:]:\n",
    "            if i==0:\n",
    "                p2=hyper.Point.fromEuclid(y[0],y[1])\n",
    "                line = hyper.Line.fromPoints(*p1, *p2, segment=True)\n",
    "                g.draw(line, hwidth=2*delta, fill='green',fill_opacity=1)\n",
    "                \n",
    "def draw_thin_triangle(points):\n",
    "    for i,x in enumerate(points):\n",
    "        for y in points[i+1:]:\n",
    "            p1=hyper.Point.fromEuclid(x[0],x[1])\n",
    "            p2=hyper.Point.fromEuclid(y[0],y[1])\n",
    "            line=Line.fromPoints(*p1,*p2,segment=True)\n",
    "            g.draw(line, **lineStyle2)\n",
    "def draw_thick_line(points):\n",
    "    for i,x in enumerate(points):\n",
    "        for y in points[i+1:]:\n",
    "            p1=hyper.Point.fromEuclid(x[0],x[1])\n",
    "            p2=hyper.Point.fromEuclid(y[0],y[1])\n",
    "            line=hyper.Line.fromPoints(*p1,*p2,segment=True)\n",
    "            g.draw(line, hwidth=0.4,fill='red')\n",
    "    \n",
    "def redraw_Mousepoint(points):\n",
    "    for i,x in enumerate(points):\n",
    "        p=hyper.Point.fromEuclid(x[0],x[1])\n",
    "        g.draw(hyper.Circle.fromCenterRadius(p,0.02),fill='white')\n",
    "        \n",
    "def shift(seq, shift=1):\n",
    "    perm=shift%3 \n",
    "    return seq[-perm:] + seq[:-perm]\n",
    "\n",
    "clicks=0\n",
    "        \n",
    "widget = DrawingWidget(d)\n",
    "@widget.mousedown\n",
    "def mousedown(widget, x, y, info):\n",
    "        global clicks\n",
    "        clicks+=1\n",
    "        if (x**2 + y**2) ** 0.5 + 2e-10 < 1:\n",
    "            if clicks<3:\n",
    "                click_list.append((x, y))\n",
    "            elif clicks==3:\n",
    "                click_list.append((x,y))\n",
    "                g.children.clear()\n",
    "                draw_delta_neigbourhood_twosides(click_list,delta)\n",
    "                draw_thin_triangle(click_list)\n",
    "            else:\n",
    "                g.children.clear()\n",
    "                draw_delta_neigbourhood_twosides(shift(click_list,clicks),delta)\n",
    "                draw_thin_triangle(shift(click_list,clicks))\n",
    "        widget.refresh()\n",
    "        \n",
    "        \n",
    "@widget.mousemove\n",
    "def mousemove(widget, x, y, info):\n",
    "    if (x**2 + y**2) ** 0.5 + 2e-10 < 1:\n",
    "        if len(click_list)<3:\n",
    "            g.children.clear()\n",
    "            draw_thin_triangle(click_list + [(x, y)])\n",
    "            redraw_Mousepoint([(x,y)])\n",
    "    widget.refresh()\n",
    "    \n",
    "draw_thick_line([(0.5,0.4),(-0.2,-0.3)])\n",
    "widget"
   ]
  },
  {
   "cell_type": "code",
   "execution_count": null,
   "id": "a719b7da",
   "metadata": {},
   "outputs": [
    {
     "data": {
      "image/svg+xml": "<?xml version=\"1.0\" encoding=\"UTF-8\"?>\n<svg xmlns=\"http://www.w3.org/2000/svg\" xmlns:xlink=\"http://www.w3.org/1999/xlink\"\n     width=\"500\" height=\"500.0\" viewBox=\"-1.1 -1.1 2.2 2.2\">\n<defs>\n</defs>\n<circle cx=\"0\" cy=\"0\" r=\"1\" fill=\"orange\" stroke-width=\"0.01\" stroke=\"black\" />\n<path d=\"M0.6009973691583826,0.195609803543082 A4.312111854240222,4.312111854240222,0,0,0,-0.7002639362333452,0.09625789329545853 A0.35459786374203334,0.35459786374203334,0,0,1,-0.6997758332307551,0.10374164367054825 A4.952770864177918,4.952770864177918,0,0,1,0.5990450341772835,0.20439511988857095 A0.47687298917032217,0.47687298917032217,0,0,1,0.6009973691583845,0.1956098035430825 Z\" />\n<path d=\"M-0.9917271673994733,0.12836364532770417 A1.954749045237092,1.954749045237092,0,0,1,0.9557721112196977,0.294108264784654 A2.0578869123737045,2.0578869123737045,0,0,0,-0.9917271673994739,0.12836364532770417 Z\" fill=\"red\" />\n<path d=\"M-0.9917271673994461,0.12836364532770972 A14.46814746665004,14.46814746665004,0,0,0,0.9557721112196682,0.294108264784656 A10.164334027527913,10.164334027527913,0,0,1,-0.991727167399471,0.12836364532770617 Z\" fill=\"green\" />\n<path d=\"M-0.3048676590874735,-0.5008180167182423 A0.8865086924508808,0.8865086924508808,0,0,1,-0.7019965024932674,0.09683526685720989 A0.38652953810685253,0.38652953810685253,0,0,1,-0.6980258493049274,0.10319763070823362 A0.8635442307533152,0.8635442307533152,0,0,0,-0.2950993419155361,-0.4992100074711978 A0.7421994784487469,0.7421994784487469,0,0,1,-0.30486765908747343,-0.5008180167182422 Z\" />\n<path d=\"M-0.9771257680515575,0.21266225196224697 A1.2759846814283635,1.2759846814283635,0,0,0,-0.3407243692571911,-0.9401632327390226 A1.2184474932562943,1.2184474932562943,0,0,1,-0.9771257680515574,0.21266225196224664 Z\" fill=\"red\" />\n<path d=\"M-0.9771257680515575,0.21266225196224697 A0.7268660884088808,0.7268660884088808,0,0,0,-0.3407243692571914,-0.9401632327390224 A0.7175318710764992,0.7175318710764992,0,0,1,-0.9771257680515575,0.21266225196224708 Z\" fill=\"green\" />\n<path d=\"M-0.30372397908814674,-0.49673314229349375 A2.9566031000289517,2.9566031000289517,0,0,0,0.5979565566901814,0.20401280722407167 A0.4800183929294103,0.4800183929294103,0,0,1,0.6020779458017005,0.19601232966572352 A3.2443490973685396,3.2443490973685396,0,0,1,-0.2963101574591267,-0.5032934834445308 A0.5756611554303839,0.5756611554303839,0,0,1,-0.30372397908814935,-0.4967331422934967 Z\" />\n<path d=\"M0.9371324080342707,0.34897399589638334 A1.6317423848240304,1.6317423848240304,0,0,1,-0.5555292542891992,-0.8314969919542032 A1.7004159619969281,1.7004159619969281,0,0,0,0.9371324080342714,0.34897399589638334 Z\" fill=\"red\" />\n<path d=\"M0.9371324080342696,0.3489739958963831 A30.26753726395255,30.26753726395255,0,0,1,-0.5555292542891976,-0.8314969919542037 A346.7420993694446,346.7420993694446,0,0,0,0.9371324080371437,0.3489739958985183 Z\" fill=\"green\" />\n<circle cx=\"-0.5575178954979794\" cy=\"-0.010887671209080185\" r=\"0.015\" fill=\"blue\" />\n<circle cx=\"0.26037816807662884\" cy=\"-0.0034542701603030856\" r=\"0.015\" fill=\"blue\" />\n<circle cx=\"-0.5147882897919018\" cy=\"0.09165716894601506\" r=\"0.015\" fill=\"blue\" />\n<circle cx=\"-0.20480232167109413\" cy=\"-0.3972064710478964\" r=\"0.015\" fill=\"blue\" />\n<circle cx=\"0.20868082127820675\" cy=\"0.13059000988004055\" r=\"0.015\" fill=\"blue\" />\n<circle cx=\"-0.33245780462498065\" cy=\"-0.36792864608077\" r=\"0.015\" fill=\"blue\" />\n</svg>",
      "text/plain": [
       "<drawSvg.drawing.Drawing at 0x1ab608e6d90>"
      ]
     },
     "metadata": {},
     "output_type": "display_data"
    }
   ],
   "source": [
    "import drawSvg as draw\n",
    "import math\n",
    "from constructions import deltaLines_of_Line,is_on_Linesegment,ips_with_deltaneigbourhood\n",
    "from hyperbolic import util\n",
    "from hyperbolic.euclid import intersection\n",
    "from hyperbolic.euclid.shapes import  Arc, Line as ELine, OriginLine, Circle\n",
    "from hyperbolic.poincare.shapes import *\n",
    "\n",
    "delta=0.3\n",
    "\n",
    "d = draw.Drawing(2.2, 2.2, origin='center')\n",
    "\n",
    "\n",
    "d.setRenderSize(500)\n",
    "d.append(draw.Circle(0, 0, 1, fill='orange',stroke_width=0.01, stroke='black'))\n",
    "\n",
    "p2=(0.6,-0.2)\n",
    "p1=(-0.7,-0.1)\n",
    "p3=(-0.3,0.5)\n",
    "PList=[p1,p2,p3]\n",
    "\n",
    "def triangle_sides_from_Points(Points):\n",
    "    L=[]\n",
    "    for i,x in enumerate(Points):\n",
    "        for y in Points[i+1:]:\n",
    "            L.append(Line.fromPoints(x[0],x[1],y[0],y[1],segment=True))\n",
    "    return L\n",
    "\n",
    "\n",
    "SList=triangle_sides_from_Points(PList)\n",
    "\n",
    "for l in SList:\n",
    "    d.draw(l, hwidth=0.03)\n",
    "    hcl=deltaLines_of_Line(l,delta)\n",
    "    d.draw(hcl[0],hwidth=0.03, fill='red')\n",
    "    d.draw(hcl[1],hwidth=0.03, fill='green')\n",
    "\n",
    "\n",
    "for i,x in enumerate(SList):\n",
    "    RestList=SList[:i]+SList[i+1:]\n",
    "    for y in RestList:\n",
    "        for h in deltaLines_of_Line(x,delta):\n",
    "            ip=intersection.circleCircle(y.projShape,h.projShape)\n",
    "            if is_on_Linesegment(ip[0],ip[1],x):\n",
    "                ip1=Point.fromEuclid(ip[0],ip[1])\n",
    "                d.draw(ip1, radius=0.015, fill='blue')\n",
    "            elif is_on_Linesegment(ip[2],ip[3],x):\n",
    "                ip2=Point.fromEuclid(ip[2],ip[3])\n",
    "                d.draw(ip2, radius=0.015, fill='blue')      \n",
    "        #perpl1=l.makePerpendicular(ip[0],ip[1])\n",
    "        #perpl2=l.makePerpendicular(ip[2],ip[3])\n",
    "        #d.draw(perpl1, hwidth=0.03, fill='red')\n",
    "        #d.draw(perpl2, hwidth=0.03, fill='green')\n",
    "\n",
    "d"
   ]
  },
  {
   "cell_type": "markdown",
   "id": "ca08a0c6",
   "metadata": {},
   "source": [
    "not our own code but something to work with...\n",
    "\n",
    "found on https://pypi.org/project/drawSvg/\n"
   ]
  },
  {
   "cell_type": "code",
   "execution_count": 6,
   "id": "a5675005",
   "metadata": {},
   "outputs": [
    {
     "data": {
      "application/vnd.jupyter.widget-view+json": {
       "model_id": "ed81110ec60e4d44825dedb96e1901c7",
       "version_major": 2,
       "version_minor": 0
      },
      "text/plain": [
       "DrawingWidget()"
      ]
     },
     "metadata": {},
     "output_type": "display_data"
    }
   ],
   "source": [
    "import drawSvg as draw\n",
    "from drawSvg.widgets import DrawingWidget\n",
    "import hyperbolic.poincare.shapes as hyper  # pip3 install hyperbolic\n",
    "\n",
    "# Create drawing\n",
    "d = draw.Drawing(2, 2, origin='center')\n",
    "d.setRenderSize(500)\n",
    "d.append(draw.Circle(0, 0, 1, fill='orange'))\n",
    "group = draw.Group()\n",
    "d.append(group)\n",
    "\n",
    "# Update the drawing based on user input\n",
    "click_list = []\n",
    "def redraw(points):\n",
    "    group.children.clear()\n",
    "    for x1, y1 in points:\n",
    "        for x2, y2 in points:\n",
    "            if (x1, y1) == (x2, y2): continue\n",
    "            p1 = hyper.Point.fromEuclid(x1, y1)\n",
    "            p2 = hyper.Point.fromEuclid(x2, y2)\n",
    "            if p1.distanceTo(p2) <= 1e9:\n",
    "                line = hyper.Line.fromPoints(*p1, *p2, segment=True)\n",
    "                group.draw(line, hwidth=0.1, fill='white')\n",
    "    for x, y in points:\n",
    "        p = hyper.Point.fromEuclid(x, y)\n",
    "        group.draw(hyper.Circle.fromCenterRadius(p, 0.05), fill='green')\n",
    "redraw(click_list)\n",
    "\n",
    "# Create interactive widget and register mouse events\n",
    "widget = DrawingWidget(d)\n",
    "@widget.mousedown\n",
    "def mousedown(widget, x, y, info):\n",
    "        if (x**2 + y**2) ** 0.5 + 1e-5 < 1:\n",
    "            if len(click_list)<3:\n",
    "                click_list.append((x, y))\n",
    "        redraw(click_list)\n",
    "        widget.refresh()\n",
    "        \n",
    "        \n",
    "@widget.mousemove\n",
    "def mousemove(widget, x, y, info):\n",
    "    if (x**2 + y**2) ** 0.5 + 1e-5 < 1:\n",
    "        if len(click_list)<3:\n",
    "            redraw(click_list + [(x, y)])\n",
    "    widget.refresh()\n",
    "widget"
   ]
  },
  {
   "cell_type": "code",
   "execution_count": null,
   "id": "f6110ef6",
   "metadata": {},
   "outputs": [],
   "source": []
  }
 ],
 "metadata": {
  "kernelspec": {
   "display_name": "Python 3 (ipykernel)",
   "language": "python",
   "name": "python3"
  },
  "language_info": {
   "codemirror_mode": {
    "name": "ipython",
    "version": 3
   },
   "file_extension": ".py",
   "mimetype": "text/x-python",
   "name": "python",
   "nbconvert_exporter": "python",
   "pygments_lexer": "ipython3",
   "version": "3.9.7"
  }
 },
 "nbformat": 4,
 "nbformat_minor": 5
}
