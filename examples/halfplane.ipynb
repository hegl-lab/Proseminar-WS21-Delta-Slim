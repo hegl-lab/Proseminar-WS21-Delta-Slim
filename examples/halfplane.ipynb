{
 "cells": [
  {
   "cell_type": "code",
   "execution_count": 61,
   "metadata": {},
   "outputs": [
    {
     "name": "stdout",
     "output_type": "stream",
     "text": [
      "PList = [Point(0.125, 0.727), Point(0.306, -0.806), Point(-0.602, 0.797)]\n",
      "k = 1\n",
      "Tri is CW\n",
      "Tri is not covered for delta = 0.3\n"
     ]
    },
    {
     "data": {
      "image/svg+xml": "<?xml version=\"1.0\" encoding=\"UTF-8\"?>\n<svg xmlns=\"http://www.w3.org/2000/svg\" xmlns:xlink=\"http://www.w3.org/1999/xlink\"\n     width=\"750\" height=\"416.66666666666663\" viewBox=\"-4.5 -4.7 9 5\">\n<defs>\n</defs>\n<rect x=\"-10\" y=\"-10\" width=\"20\" height=\"10\" stroke=\"#cc6500\" stroke-width=\"0.01\" fill=\"#ff7f00\" />\n<path d=\"M2.773032810524348,-5.056303658184987 A6.229011280771772,6.229011280771772,0,0,0,0.18239951932361986,-0.07651481012569275 A1.583657804383109,1.583657804383109,0,0,0,-2.983055550737909,-0.005914081076658898 A5.0988414988531945,5.0988414988531945,0,0,1,2.773032810524333,-5.056303658184869 Z\" stroke=\"#793e82\" stroke-width=\"0.005\" fill=\"#377eb8\" fill-opacity=\"1\" />\n<path d=\"M0.16003143039913478,-0.07345906702265417 A0.023300312432529027,0.023300312432529027,0,0,0,0.2046080962857806,-0.07293521360044748 A6.51142539673389,6.51142539673389,0,0,1,3.468764800865528,-3.911948556725205 A1.5397470737483487,1.5397470737483487,0,0,0,3.040032169965671,-6.801969868600217 A5.330015396189791,5.330015396189791,0,0,0,-2.9847789783162764,-0.005659487314034983 A0.0018009577048579298,0.0018009577048579298,0,0,0,-2.981333287423241,-0.0056556640401075 A5.330015396189747,5.330015396189747,0,0,1,0.06792967368947656,-3.3682100650216875 A6.511425396733921,6.511425396733921,0,0,0,0.16003143039913503,-0.07345906702265337 Z\" stroke=\"#e94749\" stroke-width=\"0.005\" fill=\"#e41a1c\" fill-opacity=\"0.75\" />\n</svg>",
      "text/plain": [
       "<drawSvg.drawing.Drawing at 0x1b4d65e9ca0>"
      ]
     },
     "execution_count": 61,
     "metadata": {},
     "output_type": "execute_result"
    }
   ],
   "source": [
    "import random\n",
    "import drawSvg as draw\n",
    "from drawSvg import Drawing\n",
    "from hyperbolic.poincare.shapes import *\n",
    "import sys\n",
    "sys.path.insert(0,\"..\")\n",
    "from constructions import *\n",
    "from deltaNeigbourhood import *\n",
    "from Triangle import *\n",
    "\n",
    "backgroundStyle = dict(stroke='#cc6500', stroke_width=0.01, fill='#ff7f00')\n",
    "polyStyle1 = dict(stroke='#793e82', stroke_width=0.005,  fill='#377eb8', fill_opacity=1)\n",
    "polyStyle2 = dict(stroke='#e94749', stroke_width=0.005, fill='#e41a1c', fill_opacity=0.75)\n",
    "lineStyle1 = dict(hwidth=0.02, fill='#984ea3')\n",
    "lineStyle2 = dict(hwidth=0.02, fill='#4daf4a')\n",
    "\n",
    "halfplane= Transform.diskToHalf()\n",
    "\n",
    "d = Drawing(9, 5, origin=(-9/2, -0.3))\n",
    "d.append(draw.Rectangle(-10, 0, 20, 10, **backgroundStyle))\n",
    "d.setRenderSize(w=750)\n",
    "\n",
    "\n",
    "PList=randomPoints(3,1)\n",
    "k=random.randint(0,2)\n",
    "#PList=[Ideal.fromDegree(i/3*360) for i in range(2)]\n",
    "\n",
    "#PList = [Point(0.125, 0.727), Point(0.306, -0.806), Point(-0.602, 0.797)]\n",
    "#k=0\n",
    "\n",
    "print('PList =', PList)\n",
    "print('k =', k)\n",
    "\n",
    "Tri=Triangle.fromVertices(PList)\n",
    "\n",
    "delta = Tri.approx()\n",
    "delta=0.3\n",
    "d.draw(Tri, transform=halfplane, **polyStyle1)\n",
    "d.draw(deltaNbh(Tri,delta,k), transform=halfplane, **polyStyle2)\n",
    "\n",
    "if Tri.isCCW():\n",
    "    print('Tri is CCW')\n",
    "else:\n",
    "    print('Tri is CW')\n",
    "\n",
    "if Tri.isDeltaslim(delta):\n",
    "    print('Tri is delta-slim for delta =',delta)\n",
    "else:\n",
    "    print('Tri is not covered for delta =',delta)\n",
    "\n",
    "d"
   ]
  }
 ],
 "metadata": {
  "interpreter": {
   "hash": "b3ba2566441a7c06988d0923437866b63cedc61552a5af99d1f4fb67d367b25f"
  },
  "kernelspec": {
   "display_name": "Python 3.9.7 64-bit ('base': conda)",
   "language": "python",
   "name": "python3"
  },
  "language_info": {
   "codemirror_mode": {
    "name": "ipython",
    "version": 3
   },
   "file_extension": ".py",
   "mimetype": "text/x-python",
   "name": "python",
   "nbconvert_exporter": "python",
   "pygments_lexer": "ipython3",
   "version": "3.9.7"
  },
  "orig_nbformat": 4
 },
 "nbformat": 4,
 "nbformat_minor": 2
}
