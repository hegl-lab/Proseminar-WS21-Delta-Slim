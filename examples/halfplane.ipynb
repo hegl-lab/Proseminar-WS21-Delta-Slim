{
 "cells": [
  {
   "cell_type": "code",
   "execution_count": 38,
   "metadata": {},
   "outputs": [
    {
     "name": "stdout",
     "output_type": "stream",
     "text": [
      "PList = [Ideal(-0.125, 0.992), Ideal(-0.628, -0.778), Ideal(0.545, -0.839)]\n",
      "k = 0\n",
      "Tri is CCW\n",
      "Tri is delta-slim for delta = 0.8813735870082837\n"
     ]
    },
    {
     "data": {
      "image/svg+xml": "<?xml version=\"1.0\" encoding=\"UTF-8\"?>\n<svg xmlns=\"http://www.w3.org/2000/svg\" xmlns:xlink=\"http://www.w3.org/1999/xlink\"\n     width=\"750\" height=\"416.66666666666663\" viewBox=\"-4.5 -4.9 9 5\">\n<defs>\n</defs>\n<rect x=\"-10\" y=\"-10\" width=\"20\" height=\"10\" fill=\"#ff7f00\" />\n<path d=\"M-15.87712960298034,-1.129164570761276e-14 A7.762009294868848,7.762009294868848,0,0,1,-0.3531110132426427,-1.665334536937736e-16 A0.32466649197143027,0.32466649197143027,0,1,1,0.29622197070021605,-6.93889390390723e-17 A8.086675786840292,8.086675786840292,0,1,0,-15.877129602980368,2.2588507687077318e-13 Z\" stroke=\"black\" stroke-width=\"0.005\" fill=\"#53565b\" fill-opacity=\"1\" />\n<path d=\"M-15.877129602980482,-0.0 A11.436286572172666,11.436286572172666,0,1,1,0.2962219707002163,-0.0 A0.4591477561904363,0.4591477561904363,0,0,0,-0.3531110132426449,3.3306690738754696e-16 A0.4591477561904365,0.4591477561904365,0,0,1,-0.3780937238462007,-0.6222603379264697 A11.436286572172671,11.436286572172671,0,0,0,-15.87712960298044,-2.3092638912203256e-14 Z\" stroke=\"black\" stroke-width=\"0.005\" fill=\"#ff9e1b\" fill-opacity=\"0.5\" />\n</svg>",
      "text/plain": [
       "<drawSvg.drawing.Drawing at 0x27d30432760>"
      ]
     },
     "execution_count": 38,
     "metadata": {},
     "output_type": "execute_result"
    }
   ],
   "source": [
    "import random\n",
    "import drawSvg as draw\n",
    "from drawSvg import Drawing\n",
    "from hyperbolic.poincare.shapes import *\n",
    "import sys\n",
    "sys.path.insert(0,\"..\")\n",
    "from constructions import *\n",
    "from deltaNeigbourhood import *\n",
    "from Triangle import *\n",
    "\n",
    "trans= Transform.diskToHalf()\n",
    "\n",
    "d = Drawing(9, 5, origin=(-9/2, -0.1))\n",
    "d.append(draw.Rectangle(-10, 0, 20, 10, fill='#ff7f00'))\n",
    "d.setRenderSize(w=750)\n",
    "\n",
    "\n",
    "PList=randomPoints(3,3)\n",
    "k=random.randint(0,2)\n",
    "#PList=[Ideal.fromDegree(i/3*360) for i in range(2)]\n",
    "\n",
    "#PList=[Point(-0.381, -0.06), Point(-0.13, 0.123), Point(-0.182, 0.23)]\n",
    "#k=0\n",
    "\n",
    "print('PList =', PList)\n",
    "print('k =', k)\n",
    "\n",
    "Tri=Triangle.fromVertices(PList)\n",
    "\n",
    "delta = Tri.approx()\n",
    "#delta=0.3\n",
    "d.draw(Tri, transform=trans, stroke='black', stroke_width=0.005,  fill='#53565b', fill_opacity=1)\n",
    "d.draw(deltaNbh(Tri,delta,k), transform=trans, stroke='black', stroke_width=0.005, fill='#ff9e1b', fill_opacity=0.5)\n",
    "\n",
    "if Tri.isCCW():\n",
    "    print('Tri is CCW')\n",
    "else:\n",
    "    print('Tri is CW')\n",
    "\n",
    "if Tri.isDeltaslim(delta):\n",
    "    print('Tri is delta-slim for delta =',delta)\n",
    "else:\n",
    "    print('Tri is not covered for delta =',delta)\n",
    "\n",
    "d"
   ]
  }
 ],
 "metadata": {
  "interpreter": {
   "hash": "b3ba2566441a7c06988d0923437866b63cedc61552a5af99d1f4fb67d367b25f"
  },
  "kernelspec": {
   "display_name": "Python 3.9.7 64-bit ('base': conda)",
   "language": "python",
   "name": "python3"
  },
  "language_info": {
   "codemirror_mode": {
    "name": "ipython",
    "version": 3
   },
   "file_extension": ".py",
   "mimetype": "text/x-python",
   "name": "python",
   "nbconvert_exporter": "python",
   "pygments_lexer": "ipython3",
   "version": "3.9.7"
  },
  "orig_nbformat": 4
 },
 "nbformat": 4,
 "nbformat_minor": 2
}
