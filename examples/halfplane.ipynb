{
 "cells": [
  {
   "cell_type": "code",
   "execution_count": 81,
   "metadata": {},
   "outputs": [
    {
     "name": "stdout",
     "output_type": "stream",
     "text": [
      "PList = [Ideal(0.707, -0.708), Point(-0.86, 0.407), Ideal(-0.098, 0.995)]\n",
      "k = 1\n",
      "Tri is CW\n",
      "Tri is not covered for delta = 0.3\n"
     ]
    },
    {
     "data": {
      "image/svg+xml": "<?xml version=\"1.0\" encoding=\"UTF-8\"?>\n<svg xmlns=\"http://www.w3.org/2000/svg\" xmlns:xlink=\"http://www.w3.org/1999/xlink\"\n     width=\"750\" height=\"416.66666666666663\" viewBox=\"-4.5 -4.7 9 5\">\n<defs>\n</defs>\n<rect x=\"-10\" y=\"-10\" width=\"20\" height=\"10\" stroke=\"#cc6500\" stroke-width=\"0.01\" fill=\"#ff7f00\" />\n<path d=\"M0.4138702837718008,5.55111512312578e-17 A0.9973933656909812,0.9973933656909812,0,0,0,-1.5770979860091177,-0.08719194852195769 A9.433342320164629,9.433342320164629,0,0,0,-20.443379662149802,1.3215117049603821e-14 A10.428624972960844,10.428624972960844,0,0,1,0.4138702837718,-7.771561172376102e-16 Z\" stroke=\"#793e82\" stroke-width=\"0.005\" fill=\"#377eb8\" fill-opacity=\"1\" />\n<path d=\"M-1.6030620717702297,-0.08558992720070327 A0.026551717750070463,0.026551717750070463,0,0,0,-1.5524234875579217,-0.08133883648290587 A1.0426136988933923,1.0426136988933923,0,0,1,0.4138702837717999,-6.661338147750939e-16 A10.901443333641945,10.901443333641945,0,1,0,-20.44337966214979,-1.305622276959184e-13 A10.901443333641977,10.901443333641977,0,0,1,-0.02236847969672162,-1.1824465199044094 A1.0426136988933932,1.0426136988933932,0,0,0,-1.6030620717702293,-0.08558992720070224 Z\" stroke=\"#e94749\" stroke-width=\"0.005\" fill=\"#e41a1c\" fill-opacity=\"0.75\" />\n</svg>",
      "text/plain": [
       "<drawSvg.drawing.Drawing at 0x18bd71a7370>"
      ]
     },
     "execution_count": 81,
     "metadata": {},
     "output_type": "execute_result"
    }
   ],
   "source": [
    "import random\n",
    "import drawSvg as draw\n",
    "from drawSvg import Drawing\n",
    "from hyperbolic.poincare.shapes import *\n",
    "import sys\n",
    "sys.path.insert(0,\"..\")\n",
    "from constructions import *\n",
    "from deltaNeigbourhood import *\n",
    "from Triangle import *\n",
    "\n",
    "backgroundStyle = dict(stroke='#cc6500', stroke_width=0.01, fill='#ff7f00')\n",
    "polyStyle1 = dict(stroke='#793e82', stroke_width=0.005,  fill='#377eb8', fill_opacity=1)\n",
    "polyStyle2 = dict(stroke='#e94749', stroke_width=0.005, fill='#e41a1c', fill_opacity=0.75)\n",
    "lineStyle1 = dict(hwidth=0.02, fill='#984ea3')\n",
    "lineStyle2 = dict(hwidth=0.02, fill='#4daf4a')\n",
    "\n",
    "halfplane= Transform.diskToHalf()\n",
    "\n",
    "d = Drawing(9, 5, origin=(-9/2, -0.3))\n",
    "d.append(draw.Rectangle(-10, 0, 20, 10, **backgroundStyle))\n",
    "d.setRenderSize(w=750)\n",
    "\n",
    "\n",
    "PList=randomPoints(3,2)\n",
    "k=random.randint(0,2)\n",
    "#PList=[Ideal.fromDegree(i/3*360) for i in range(2)]\n",
    "\n",
    "#PList = [Point(0.125, 0.727), Point(0.306, -0.806), Point(-0.602, 0.797)]\n",
    "#k=0\n",
    "\n",
    "print('PList =', PList)\n",
    "print('k =', k)\n",
    "\n",
    "Tri=Triangle.fromVertices(PList)\n",
    "\n",
    "delta = Tri.approx()\n",
    "delta=0.3\n",
    "d.draw(Tri, transform=halfplane, **polyStyle1)\n",
    "d.draw(deltaNbh(Tri,delta,k), transform=halfplane, **polyStyle2)\n",
    "\n",
    "if Tri.isCCW():\n",
    "    print('Tri is CCW')\n",
    "else:\n",
    "    print('Tri is CW')\n",
    "\n",
    "if Tri.isDeltaslim(delta):\n",
    "    print('Tri is delta-slim for delta =',delta)\n",
    "else:\n",
    "    print('Tri is not covered for delta =',delta)\n",
    "\n",
    "d"
   ]
  }
 ],
 "metadata": {
  "interpreter": {
   "hash": "b3ba2566441a7c06988d0923437866b63cedc61552a5af99d1f4fb67d367b25f"
  },
  "kernelspec": {
   "display_name": "Python 3.9.7 64-bit ('base': conda)",
   "language": "python",
   "name": "python3"
  },
  "language_info": {
   "codemirror_mode": {
    "name": "ipython",
    "version": 3
   },
   "file_extension": ".py",
   "mimetype": "text/x-python",
   "name": "python",
   "nbconvert_exporter": "python",
   "pygments_lexer": "ipython3",
   "version": "3.9.7"
  },
  "orig_nbformat": 4
 },
 "nbformat": 4,
 "nbformat_minor": 2
}
