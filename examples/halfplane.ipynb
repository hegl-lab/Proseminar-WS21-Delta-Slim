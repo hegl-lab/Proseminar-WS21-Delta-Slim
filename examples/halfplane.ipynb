{
 "cells": [
  {
   "cell_type": "code",
   "execution_count": 1,
   "metadata": {},
   "outputs": [
    {
     "name": "stderr",
     "output_type": "stream",
     "text": [
      "C:\\ProgramData\\Anaconda3\\lib\\site-packages\\drawSvg\\raster.py:18: RuntimeWarning: Failed to import CairoSVG. drawSvg will be unable to output PNG or other raster image formats. See https://github.com/cduck/drawSvg#prerequisites for more details.\n",
      "Original OSError: no library called \"cairo-2\" was found\n",
      "no library called \"cairo\" was found\n",
      "no library called \"libcairo-2\" was found\n",
      "cannot load library 'libcairo.so.2': error 0x7e\n",
      "cannot load library 'libcairo.2.dylib': error 0x7e\n",
      "cannot load library 'libcairo-2.dll': error 0x7e\n",
      "  warnings.warn(msg, RuntimeWarning)\n"
     ]
    },
    {
     "name": "stdout",
     "output_type": "stream",
     "text": [
      "PList = [Ideal(-0.181, 0.984), Ideal(-0.998, -0.064), Ideal(-0.426, -0.905)]\n",
      "k = 1\n",
      "Tri is CCW\n",
      "Tri is delta-slim for delta = 0.8813735870090795\n"
     ]
    },
    {
     "data": {
      "image/svg+xml": "<?xml version=\"1.0\" encoding=\"UTF-8\"?>\n<svg xmlns=\"http://www.w3.org/2000/svg\" xmlns:xlink=\"http://www.w3.org/1999/xlink\"\n     width=\"750\" height=\"416.66666666666663\" viewBox=\"-4.5 -4.9 9 5\">\n<defs>\n</defs>\n<rect x=\"-10\" y=\"-10\" width=\"20\" height=\"10\" fill=\"#ff7f00\" />\n<path d=\"M-10.966646919471195,6.14076283029998e-16 A5.01431337964172,5.01431337964172,0,1,1,-0.9380201601877545,-0.0 A0.35707317492553414,0.35707317492553414,0,1,1,-0.22387381033668496,-3.469446951953612e-17 A5.3713865545672554,5.3713865545672554,0,1,0,-10.966646919471195,1.3628976087218443e-15 Z\" stroke=\"black\" stroke-width=\"0.005\" fill=\"#53565b\" fill-opacity=\"1\" />\n<path d=\"M-0.9380201601877527,1.7763568394002505e-15 A7.091309987425579,7.091309987425579,0,0,0,-10.96664691947107,7.72715225139109e-14 A7.59628771416126,7.59628771416126,0,1,1,-0.22387381033668596,-8.881784197001252e-16 A7.596287714161595,7.596287714161595,0,0,0,-0.6054712283464276,-0.3562300012019106 A7.091309987425823,7.091309987425823,0,0,1,-0.9380201601877536,-0.0 Z\" stroke=\"black\" stroke-width=\"0.005\" fill=\"#ff9e1b\" fill-opacity=\"0.5\" />\n</svg>",
      "text/plain": [
       "<drawSvg.drawing.Drawing at 0x1a55863eb80>"
      ]
     },
     "execution_count": 1,
     "metadata": {},
     "output_type": "execute_result"
    }
   ],
   "source": [
    "import random\n",
    "import drawSvg as draw\n",
    "from drawSvg import Drawing\n",
    "from hyperbolic.poincare.shapes import *\n",
    "import sys\n",
    "sys.path.insert(0,\"..\")\n",
    "from constructions import *\n",
    "from deltaNeigbourhood import *\n",
    "from Triangle import *\n",
    "\n",
    "backgroundStyle = dict( fill='#ff7f00', stroke_width=0.01, stroke='#001a30')\n",
    "polyStyle1 = dict(stroke='black', stroke_width=0.005,  fill='#53565b', fill_opacity=1)\n",
    "polyStyle2 = dict(stroke='black', stroke_width=0.005, fill='#ff9e1b', fill_opacity=0.5)\n",
    "\n",
    "trans= Transform.diskToHalf()\n",
    "\n",
    "d = Drawing(9, 5, origin=(-9/2, -0.1))\n",
    "d.append(draw.Rectangle(-10, 0, 20, 10, fill='#ff7f00'))\n",
    "d.setRenderSize(w=750)\n",
    "\n",
    "\n",
    "PList=randomPoints(3,3)\n",
    "k=random.randint(0,2)\n",
    "#PList=[Ideal.fromDegree(i/3*360) for i in range(2)]\n",
    "\n",
    "#PList=[Point(-0.381, -0.06), Point(-0.13, 0.123), Point(-0.182, 0.23)]\n",
    "#k=0\n",
    "\n",
    "print('PList =', PList)\n",
    "print('k =', k)\n",
    "\n",
    "Tri=Triangle.fromVertices(PList)\n",
    "\n",
    "delta = Tri.approx()\n",
    "#delta=0.3\n",
    "d.draw(Tri, transform=trans, stroke='black', stroke_width=0.005,  fill='#53565b', fill_opacity=1)\n",
    "d.draw(deltaNbh(Tri,delta,k), transform=trans, stroke='black', stroke_width=0.005, fill='#ff9e1b', fill_opacity=0.5)\n",
    "\n",
    "if Tri.isCCW():\n",
    "    print('Tri is CCW')\n",
    "else:\n",
    "    print('Tri is CW')\n",
    "\n",
    "if Tri.isDeltaslim(delta):\n",
    "    print('Tri is delta-slim for delta =',delta)\n",
    "else:\n",
    "    print('Tri is not covered for delta =',delta)\n",
    "\n",
    "d"
   ]
  }
 ],
 "metadata": {
  "interpreter": {
   "hash": "b3ba2566441a7c06988d0923437866b63cedc61552a5af99d1f4fb67d367b25f"
  },
  "kernelspec": {
   "display_name": "Python 3.9.7 64-bit ('base': conda)",
   "language": "python",
   "name": "python3"
  },
  "language_info": {
   "codemirror_mode": {
    "name": "ipython",
    "version": 3
   },
   "file_extension": ".py",
   "mimetype": "text/x-python",
   "name": "python",
   "nbconvert_exporter": "python",
   "pygments_lexer": "ipython3",
   "version": "3.9.7"
  },
  "orig_nbformat": 4
 },
 "nbformat": 4,
 "nbformat_minor": 2
}
