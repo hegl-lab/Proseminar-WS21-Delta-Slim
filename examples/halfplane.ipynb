{
 "cells": [
  {
   "cell_type": "code",
   "execution_count": 73,
   "metadata": {},
   "outputs": [
    {
     "name": "stdout",
     "output_type": "stream",
     "text": [
      "PList = [Point(-0.197, 0.872), Ideal(-0.3, -0.954), Ideal(0.139, -0.99)]\n",
      "k = 0\n",
      "Tri is CCW\n",
      "Tri is not covered for delta = 0.3\n"
     ]
    },
    {
     "data": {
      "image/svg+xml": "<?xml version=\"1.0\" encoding=\"UTF-8\"?>\n<svg xmlns=\"http://www.w3.org/2000/svg\" xmlns:xlink=\"http://www.w3.org/1999/xlink\"\n     width=\"750\" height=\"416.66666666666663\" viewBox=\"-4.5 -4.9 9 5\">\n<defs>\n<linearGradient x1=\"0\" y1=\"0\" x2=\"0\" y2=\"-10\" gradientUnits=\"userSpaceOnUse\" id=\"d0\">\n<stop offset=\"0\" stop-color=\"#ff9832\" stop-opacity=\"1\" />\n<stop offset=\"0.2\" stop-color=\"#ff7f00\" stop-opacity=\"1\" />\n</linearGradient>\n<linearGradient x1=\"0\" y1=\"0\" x2=\"0\" y2=\"-10\" gradientUnits=\"userSpaceOnUse\" id=\"d1\">\n<stop offset=\"0\" stop-color=\"#2c6493\" stop-opacity=\"1\" />\n<stop offset=\"0.2\" stop-color=\"#377eb8\" stop-opacity=\"1\" />\n</linearGradient>\n<linearGradient x1=\"0\" y1=\"0\" x2=\"0\" y2=\"-10\" gradientUnits=\"userSpaceOnUse\" id=\"d2\">\n<stop offset=\"0\" stop-color=\"#e41a1c\" stop-opacity=\"0.75\" />\n<stop offset=\"0.2\" stop-color=\"#e94749\" stop-opacity=\"0.5\" />\n</linearGradient>\n</defs>\n<rect x=\"-10\" y=\"-10\" width=\"20\" height=\"10\" stroke=\"#cc6500\" stroke-width=\"0.01\" fill=\"url(#d0)\" />\n<path d=\"M-7.1557248556339825,-3.6432625051891714 A4.448838267976464,4.448838267976464,0,0,1,-0.15369246011950732,-2.7755575615628914e-17 A0.11172153256872391,0.11172153256872391,0,0,1,0.06975060501794109,-1.3010426069826053e-17 A4.531249027887252,4.531249027887252,0,0,0,-7.155724855634226,-3.6432625051895227 Z\" stroke=\"black\" stroke-opacity=\"0.5\" stroke-width=\"0.005\" fill=\"url(#d1)\" />\n<path d=\"M-6.644429502551461,-2.8238358280441833 A1.1094473671898717,1.1094473671898717,0,0,1,-7.979795215763597,-4.551262579905184 A4.736689125959242,4.736689125959242,0,0,1,0.06975060501793351,-1.5543122344752192e-15 A0.11678682085158897,0.11678682085158897,0,0,0,-0.15369246011950682,1.3183898417423734e-16 A0.11678682085158901,0.11678682085158901,0,0,1,0.029258212382511035,-0.1265718447565676 A4.736689125959627,4.736689125959627,0,0,0,-6.644429502551461,-2.8238358280441838 Z\" stroke=\"black\" stroke-opacity=\"0.5\" stroke-width=\"0.005\" fill=\"url(#d2)\" />\n</svg>",
      "text/plain": [
       "<drawSvg.drawing.Drawing at 0x2789a908c40>"
      ]
     },
     "execution_count": 73,
     "metadata": {},
     "output_type": "execute_result"
    }
   ],
   "source": [
    "import random\n",
    "import drawSvg\n",
    "from drawSvg import Drawing\n",
    "from hyperbolic.poincare.shapes import *\n",
    "import sys\n",
    "sys.path.insert(0,\"..\")\n",
    "from constructions import *\n",
    "from deltaNeigbourhood import *\n",
    "from Triangle import *\n",
    "\n",
    "backcolor = drawSvg.LinearGradient(0,0,0,10)\n",
    "backcolor.addStop(0, '#ff9832', opacity=1)\n",
    "backcolor.addStop(0.2, '#ff7f00', opacity=1)\n",
    "\n",
    "polycolor1 = drawSvg.LinearGradient(0,0,0,10)\n",
    "polycolor1.addStop(0, '#2c6493', opacity=1)\n",
    "polycolor1.addStop(0.2, '#377eb8', opacity=1)\n",
    "\n",
    "polycolor2 = drawSvg.LinearGradient(0,0,0,10)\n",
    "polycolor2.addStop(0, '#e41a1c', opacity=0.75)\n",
    "polycolor2.addStop(0.2, '#e94749', opacity=0.5)\n",
    "\n",
    "backgroundStyle = dict(stroke='#cc6500', stroke_width=0.01, fill=backcolor)\n",
    "polyStyle1 = dict(stroke='black', stroke_opacity=0.5, stroke_width=0.005,  fill=polycolor1)\n",
    "polyStyle2 = dict(stroke='black', stroke_opacity=0.5, stroke_width=0.005, fill=polycolor2)\n",
    "lineStyle1 = dict(hwidth=0.02, fill='#984ea3')\n",
    "lineStyle2 = dict(hwidth=0.02, fill='yellow')\n",
    "\n",
    "\n",
    "\n",
    "halfplane= Transform.diskToHalf()\n",
    "d = drawSvg.Drawing(9, 5, origin=(-9/2, -0.1))\n",
    "d.append(drawSvg.Rectangle(-10,0, 20, 10, **backgroundStyle))\n",
    "d.setRenderSize(w=750)\n",
    "\n",
    "\n",
    "PList=randomPoints(3,2)\n",
    "k=random.randint(0,2)\n",
    "#PList=[Ideal.fromDegree(i/3*360) for i in range(2)]\n",
    "\n",
    "#PList = [Point(0.125, 0.727), Point(0.306, -0.806), Point(-0.602, 0.797)]\n",
    "#k=0\n",
    "\n",
    "print('PList =', PList)\n",
    "print('k =', k)\n",
    "\n",
    "Tri=Triangle.fromVertices(PList)\n",
    "\n",
    "delta = Tri.approx()\n",
    "delta=0.3\n",
    "d.draw(Tri, transform=halfplane, **polyStyle1)\n",
    "d.draw(deltaNbh(Tri,delta,k), transform=halfplane, **polyStyle2)\n",
    "\n",
    "if Tri.isCCW():\n",
    "    print('Tri is CCW')\n",
    "else:\n",
    "    print('Tri is CW')\n",
    "\n",
    "if Tri.isDeltaslim(delta):\n",
    "    print('Tri is delta-slim for delta =',delta)\n",
    "else:\n",
    "    print('Tri is not covered for delta =',delta)\n",
    "\n",
    "d"
   ]
  }
 ],
 "metadata": {
  "interpreter": {
   "hash": "b3ba2566441a7c06988d0923437866b63cedc61552a5af99d1f4fb67d367b25f"
  },
  "kernelspec": {
   "display_name": "Python 3.9.7 64-bit ('base': conda)",
   "language": "python",
   "name": "python3"
  },
  "language_info": {
   "codemirror_mode": {
    "name": "ipython",
    "version": 3
   },
   "file_extension": ".py",
   "mimetype": "text/x-python",
   "name": "python",
   "nbconvert_exporter": "python",
   "pygments_lexer": "ipython3",
   "version": "3.9.7"
  },
  "orig_nbformat": 4
 },
 "nbformat": 4,
 "nbformat_minor": 2
}
