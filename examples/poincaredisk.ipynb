{
 "cells": [
  {
   "cell_type": "code",
   "execution_count": 1,
   "metadata": {},
   "outputs": [
    {
     "name": "stderr",
     "output_type": "stream",
     "text": [
      "C:\\ProgramData\\Anaconda3\\lib\\site-packages\\drawSvg\\raster.py:18: RuntimeWarning: Failed to import CairoSVG. drawSvg will be unable to output PNG or other raster image formats. See https://github.com/cduck/drawSvg#prerequisites for more details.\n",
      "Original OSError: no library called \"cairo-2\" was found\n",
      "no library called \"cairo\" was found\n",
      "no library called \"libcairo-2\" was found\n",
      "cannot load library 'libcairo.so.2': error 0x7e\n",
      "cannot load library 'libcairo.2.dylib': error 0x7e\n",
      "cannot load library 'libcairo-2.dll': error 0x7e\n",
      "  warnings.warn(msg, RuntimeWarning)\n"
     ]
    }
   ],
   "source": [
    "import sys\n",
    "sys.path.insert(0,\"..\")\n",
    "import drawSvg as draw\n",
    "from hyperbolic.poincare.shapes import *\n",
    "from constructions import randomPoints\n",
    "from deltaNeigbourhood import *\n",
    "from Triangle import *\n",
    "\n",
    "backgroundStyle = dict(stroke='#cc6500', stroke_width=0.01, fill='#ff7f00')\n",
    "polyStyle1 = dict(stroke='#793e82', stroke_width=0.005,  fill='#377eb8', fill_opacity=1)\n",
    "polyStyle2 = dict(stroke='#e94749', stroke_width=0.005, fill='#e41a1c', fill_opacity=0.75)\n",
    "lineStyle1 = dict(hwidth=0.02, fill='#984ea3')\n",
    "lineStyle2 = dict(hwidth=0.02, fill='#4daf4a')\n"
   ]
  },
  {
   "cell_type": "markdown",
   "metadata": {},
   "source": [
    "By default 3 Points within the unit circle are randomly choosen in a uniform manor.\\\n",
    "You can also set the Points yourself and adjust the delta and change the edge of the deltneigbourhood `edgeNumber` to see how it reacts."
   ]
  },
  {
   "cell_type": "code",
   "execution_count": 13,
   "id": "a719b7da",
   "metadata": {},
   "outputs": [
    {
     "name": "stdout",
     "output_type": "stream",
     "text": [
      "[Point(-0.518, 0.557), Point(0.686, 0.213), Point(-0.281, -0.726)]\n"
     ]
    },
    {
     "data": {
      "image/svg+xml": "<?xml version=\"1.0\" encoding=\"UTF-8\"?>\n<svg xmlns=\"http://www.w3.org/2000/svg\" xmlns:xlink=\"http://www.w3.org/1999/xlink\"\n     width=\"500\" height=\"500.0\" viewBox=\"-1.05 -1.05 2.1 2.1\">\n<defs>\n</defs>\n<circle cx=\"0\" cy=\"0\" r=\"1\" stroke=\"#cc6500\" stroke-width=\"0.01\" fill=\"#ff7f00\" />\n<path d=\"M-0.5180000000000003,-0.5570000000000008 A1.6924302560204167,1.6924302560204167,0,0,0,0.6860000000000003,-0.2130000000000003 A2.179200631834136,2.179200631834136,0,0,0,-0.2809999999999999,0.726 A1.6742306487956575,1.6742306487956575,0,0,0,-0.518,-0.5569999999999998 Z\" stroke=\"#793e82\" stroke-width=\"0.005\" fill=\"#377eb8\" fill-opacity=\"1\" />\n<path d=\"M-0.4119925045001988,-0.6867470615521095 A0.18341379980783035,0.18341379980783035,0,0,0,-0.663719532634901,-0.510755750393879 A4.018544064541116,4.018544064541116,0,0,0,-0.42374209657839623,0.7353793911720646 A0.1722758799142513,0.1722758799142513,0,0,0,-0.1776542132037473,0.8268043039718758 A2.859069411921851,2.859069411921851,0,0,0,0.8027268088348964,-0.07967419144537424 A0.20841450535713565,0.20841450535713565,0,0,0,0.6533707120627616,-0.4024636488940222 A0.9814012366051322,0.9814012366051322,0,0,0,0.04490786301341243,-0.274604830666333 A0.892961551886899,0.892961551886899,0,0,0,-0.41199250450019903,-0.6867470615521095 Z\" stroke=\"#e94749\" stroke-width=\"0.005\" fill=\"#e41a1c\" fill-opacity=\"0.75\" />\n</svg>",
      "text/plain": [
       "<drawSvg.drawing.Drawing at 0x191735d7880>"
      ]
     },
     "execution_count": 13,
     "metadata": {},
     "output_type": "execute_result"
    }
   ],
   "source": [
    "d = draw.Drawing(2.1, 2.1, origin='center')\n",
    "d.append(draw.Circle(0, 0, 1, **backgroundStyle))\n",
    "\n",
    "\n",
    "listOfPoints=randomPoints(3)\n",
    "#listOfPoints=[Ideal.fromDegree(10), Ideal.fromDegree(136), Ideal.fromDegree(-98)]\n",
    "listOfPoints=[Point(-0.518, 0.557), Point(0.686, 0.213), Point(-0.281, -0.726)]\n",
    "print(listOfPoints)\n",
    "\n",
    "Tri=Triangle.fromVertices(listOfPoints)\n",
    "\n",
    "\n",
    "delta=0.3\n",
    "delta=Tri.approx()\n",
    "edgeNumber=0\n",
    "\n",
    "d.draw(Tri, **polyStyle1)\n",
    "d.draw(deltaNbh(Tri, delta, edgeNumber), **polyStyle2)\n",
    "\n",
    "d.setRenderSize(500)\n",
    "d"
   ]
  },
  {
   "cell_type": "markdown",
   "metadata": {},
   "source": [
    "In the next cell the delta is set to the approximated minimal delta for which the triangle is deltaslim.\\\n",
    "If you what to adjust the edge of the deltaneigbourhood for a specific triangle, copy the printed list of Points and adjust `edgeNumber`.\\\n",
    "Also the lines drawn are Hypercycles of the edges offset by delta to the inside of the triangle."
   ]
  },
  {
   "cell_type": "code",
   "execution_count": 3,
   "id": "a719b7da",
   "metadata": {},
   "outputs": [
    {
     "name": "stdout",
     "output_type": "stream",
     "text": [
      "[Point(-0.904, 0.175), Point(0.251, -0.044), Point(-0.257, 0.357)]\n"
     ]
    },
    {
     "data": {
      "image/svg+xml": "<?xml version=\"1.0\" encoding=\"UTF-8\"?>\n<svg xmlns=\"http://www.w3.org/2000/svg\" xmlns:xlink=\"http://www.w3.org/1999/xlink\"\n     width=\"500\" height=\"500.0\" viewBox=\"-1.05 -1.05 2.1 2.1\">\n<defs>\n</defs>\n<circle cx=\"0\" cy=\"0\" r=\"1\" stroke=\"#cc6500\" stroke-width=\"0.01\" fill=\"#ff7f00\" />\n<path d=\"M-0.9039840835064155,-0.17505115447221442 A182.4308802691234,182.4308802691234,0,0,0,0.25079584456991455,0.044165940869106635 A4.483547323993859,4.483547323993859,0,0,1,-0.2566342770534602,-0.35653892758365835 A0.9188009135819017,0.9188009135819017,0,0,1,-0.9039840835055927,-0.17505115448031572 Z\" stroke=\"#793e82\" stroke-width=\"0.005\" fill=\"#377eb8\" fill-opacity=\"1\" />\n<path d=\"M-0.917573407327406,-0.13729360244136668 A0.043022762392910134,0.043022762392910134,0,0,1,-0.9090850879488355,-0.2132068347835451 A2.2309929867031046,2.2309929867031046,0,0,0,-0.372171273809609,-0.509984583818001 A0.21746568796720303,0.21746568796720303,0,0,1,-0.1340729895089336,-0.524838238003067 A3.301331982974407,3.301331982974407,0,0,1,0.3980988698581167,-0.14710513141701487 A0.2497015838733664,0.2497015838733664,0,0,1,0.12119872467143639,0.2639289289021015 A1.4490340499029972,1.4490340499029972,0,0,1,-0.3009127060245541,-0.059605771411458175 A0.6938402972622484,0.6938402972622484,0,0,1,-0.917573407327406,-0.13729360244136668 Z\" stroke=\"#e94749\" stroke-width=\"0.005\" fill=\"#e41a1c\" fill-opacity=\"0.75\" />\n<path d=\"M-0.9817658734257628,-0.1900941076849767 A2.0029067189492387,2.0029067189492387,0,0,1,0.9837908264412552,0.17931985336273026 A2.065442590142804,2.065442590142804,0,0,0,-0.9817658734257637,-0.19009410768497692 Z\" fill=\"#4daf4a\" />\n<path d=\"M0.9100482555003356,0.41450231924658243 A1.435449111388253,1.435449111388253,0,0,1,-0.6476595505352976,-0.7619298567456302 A1.4630597175617719,1.4630597175617719,0,0,0,0.9100482555003356,0.41450231924658243 Z\" fill=\"#4daf4a\" />\n<path d=\"M0.10279314398928918,-0.9947027543687598 A0.6925031690863349,0.6925031690863349,0,0,1,-0.9824621629545169,-0.1864620560938135 A0.6952419087570972,0.6952419087570972,0,0,0,0.10279314398928918,-0.9947027543687599 Z\" fill=\"#4daf4a\" />\n</svg>",
      "text/plain": [
       "<drawSvg.drawing.Drawing at 0x191735dfc70>"
      ]
     },
     "execution_count": 3,
     "metadata": {},
     "output_type": "execute_result"
    }
   ],
   "source": [
    "d = draw.Drawing(2.1, 2.1, origin='center')\n",
    "d.append(draw.Circle(0, 0, 1, **backgroundStyle))\n",
    "\n",
    "\n",
    "listOfPoints=randomPoints(3)\n",
    "#listOfPoints=[Ideal.fromDegree(10), Ideal.fromDegree(136), Ideal.fromDegree(-98)]\n",
    "#listOfPoints=[Point(0.125, 0.727), Point(0.306, -0.806), Point(-0.602, 0.797)]\n",
    "print(listOfPoints)\n",
    "\n",
    "Tri=Triangle.fromVertices(listOfPoints)\n",
    "\n",
    "\n",
    "delta=Tri.approx()\n",
    "edgeNumber=0\n",
    "\n",
    "\n",
    "d.draw(Tri, **polyStyle1)\n",
    "d.draw(deltaNbh(Tri, delta, edgeNumber), **polyStyle2)\n",
    "\n",
    "\n",
    "for i in range(3):\n",
    "    d.draw(Tri.offsetEdge(i, delta, inner=True), **lineStyle2)\n",
    "\n",
    "d.setRenderSize(500)\n",
    "d"
   ]
  }
 ],
 "metadata": {
  "interpreter": {
   "hash": "b3ba2566441a7c06988d0923437866b63cedc61552a5af99d1f4fb67d367b25f"
  },
  "kernelspec": {
   "display_name": "Python 3.9.7 64-bit ('base': conda)",
   "language": "python",
   "name": "python3"
  },
  "language_info": {
   "codemirror_mode": {
    "name": "ipython",
    "version": 3
   },
   "file_extension": ".py",
   "mimetype": "text/x-python",
   "name": "python",
   "nbconvert_exporter": "python",
   "pygments_lexer": "ipython3",
   "version": "3.9.7"
  },
  "orig_nbformat": 4
 },
 "nbformat": 4,
 "nbformat_minor": 2
}
