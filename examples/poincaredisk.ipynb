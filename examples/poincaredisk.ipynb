{
 "cells": [
  {
   "cell_type": "code",
   "execution_count": 61,
   "id": "a719b7da",
   "metadata": {},
   "outputs": [
    {
     "name": "stdout",
     "output_type": "stream",
     "text": [
      "[Point(0.237, 0.175), Point(0.163, -0.232), Ideal(-0.999, 0.046)]\n"
     ]
    },
    {
     "data": {
      "image/svg+xml": "<?xml version=\"1.0\" encoding=\"UTF-8\"?>\n<svg xmlns=\"http://www.w3.org/2000/svg\" xmlns:xlink=\"http://www.w3.org/1999/xlink\"\n     width=\"500\" height=\"500.0\" viewBox=\"-1.05 -1.05 2.1 2.1\">\n<defs>\n<radialGradient cx=\"0\" cy=\"0\" r=\"1\" gradientUnits=\"userSpaceOnUse\" id=\"d0\">\n<stop offset=\"0\" stop-color=\"#ff9832\" stop-opacity=\"1\" />\n<stop offset=\"1\" stop-color=\"#ff7f00\" stop-opacity=\"1\" />\n</radialGradient>\n<radialGradient cx=\"0\" cy=\"0\" r=\"1\" gradientUnits=\"userSpaceOnUse\" id=\"d1\">\n<stop offset=\"0\" stop-color=\"#2c6493\" stop-opacity=\"1\" />\n<stop offset=\"1\" stop-color=\"#377eb8\" stop-opacity=\"1\" />\n</radialGradient>\n<radialGradient cx=\"0\" cy=\"0\" r=\"1\" gradientUnits=\"userSpaceOnUse\" id=\"d2\">\n<stop offset=\"0\" stop-color=\"#e41a1c\" stop-opacity=\"0.75\" />\n<stop offset=\"1\" stop-color=\"#e94749\" stop-opacity=\"0.5\" />\n</radialGradient>\n</defs>\n<circle cx=\"0\" cy=\"0\" r=\"1\" stroke=\"#cc6500\" stroke-width=\"0.01\" fill=\"url(#d0)\" />\n<path d=\"M0.23743524899201107,-0.1753187391133521 A2.4911071229008765,2.4911071229008765,0,0,0,0.16259272518328283,0.23173380274270022 A3.181994967305335,3.181994967305335,0,0,0,-0.9989622741237266,-0.04554530576856797 A4.155721350763876,4.155721350763876,0,0,0,0.23743524899201152,-0.17531873911335172 Z\" stroke=\"black\" stroke-opacity=\"0.5\" stroke-width=\"0.005\" fill=\"url(#d1)\" />\n<path d=\"M0.2777266951295186,-0.04327280924345822 A0.13617829652128421,0.13617829652128421,0,0,0,0.20897875702078975,-0.3058744205386877 A16.362001057564907,16.362001057564907,0,0,0,-0.9989622741237274,-0.04554530576856841 A107.23664673060242,107.23664673060242,0,0,1,0.11194662362849073,0.35577729244153034 A0.13719755562859093,0.13719755562859093,0,0,0,0.22470214268957545,0.10641003907134484 A1.6893307412170298,1.6893307412170298,0,0,0,0.045160521314355884,0.022233884834729878 A1.917516104175422,1.917516104175422,0,0,0,0.2777266951295186,-0.04327280924345822 Z\" stroke=\"black\" stroke-opacity=\"0.5\" stroke-width=\"0.005\" fill=\"url(#d2)\" />\n</svg>",
      "text/plain": [
       "<drawSvg.drawing.Drawing at 0x17d020a8310>"
      ]
     },
     "execution_count": 61,
     "metadata": {},
     "output_type": "execute_result"
    }
   ],
   "source": [
    "import drawSvg\n",
    "import sys\n",
    "sys.path.insert(0,\"..\")\n",
    "from hyperbolic.poincare.shapes import *\n",
    "from constructions import randomPoints\n",
    "from Triangle import Triangle\n",
    "\n",
    "backcolor = drawSvg.RadialGradient(0,0,1)\n",
    "backcolor.addStop(0, '#ff9832', opacity=1)\n",
    "backcolor.addStop(1, '#ff7f00', opacity=1)\n",
    "\n",
    "polycolor1 = drawSvg.RadialGradient(0,0,1)\n",
    "polycolor1.addStop(0, '#2c6493', opacity=1)\n",
    "polycolor1.addStop(1, '#377eb8', opacity=1)\n",
    "\n",
    "polycolor2 = drawSvg.RadialGradient(0,0,1)\n",
    "polycolor2.addStop(0, '#e41a1c', opacity=0.75)\n",
    "polycolor2.addStop(1, '#e94749', opacity=0.5)\n",
    "\n",
    "backgroundStyle = dict(stroke='#cc6500', stroke_width=0.01, fill=backcolor)\n",
    "polyStyle1 = dict(stroke='black', stroke_opacity=0.5, stroke_width=0.005,  fill=polycolor1)\n",
    "polyStyle2 = dict(stroke='black', stroke_opacity=0.5, stroke_width=0.005, fill=polycolor2)\n",
    "lineStyle1 = dict(hwidth=0.02, fill='#984ea3')\n",
    "lineStyle2 = dict(hwidth=0.02, fill='yellow')\n",
    "\n",
    "d = drawSvg.Drawing(2.1, 2.1, origin='center')\n",
    "d.setRenderSize(500)\n",
    "d.append(drawSvg.Circle(0, 0, 1, **backgroundStyle))\n",
    "\n",
    "idealNumber=1\n",
    "\n",
    "listOfPoints=randomPoints(3,idealNumber)\n",
    "#listOfPoints=[Ideal.fromDegree(10), Ideal.fromDegree(136), Ideal.fromDegree(-98)]\n",
    "#listOfPoints=[Point(-0.518, 0.557), Point(0.686, 0.213), Point(-0.281, -0.726)]\n",
    "print(listOfPoints)\n",
    "\n",
    "Tri=Triangle.fromVertices(listOfPoints)\n",
    "\n",
    "\n",
    "delta=0.3\n",
    "#delta=Tri.approx()\n",
    "edgeNumber=0\n",
    "\n",
    "d.draw(Tri, **polyStyle1)\n",
    "d.draw(Tri.neigbourhood(delta, edgeNumber), **polyStyle2)\n",
    "'''\n",
    "#outer offsetEdges are drawn\n",
    "for i in range(3):\n",
    "    d.draw(Tri.offsetEdge(i, delta, inner=False), **lineStyle1)\n",
    "\n",
    "#inner offsetEdges are drawn\n",
    "for i in range(3):\n",
    "    d.draw(Tri.offsetEdge(i, delta, inner=True), **lineStyle2)\n",
    "'''\n",
    "\n",
    "if Tri.isCCW():\n",
    "    print('Tri is CCW')\n",
    "else:\n",
    "    print('Tri is CW')\n",
    "\n",
    "if Tri.isDeltaslim(delta):\n",
    "    print('Tri is delta-slim for delta =',delta)\n",
    "else:\n",
    "    print('Tri is not covered for delta =',delta)\n",
    "\n",
    "d"
   ]
  }
 ],
 "metadata": {
  "interpreter": {
   "hash": "b3ba2566441a7c06988d0923437866b63cedc61552a5af99d1f4fb67d367b25f"
  },
  "kernelspec": {
   "display_name": "Python 3.9.7 64-bit ('base': conda)",
   "language": "python",
   "name": "python3"
  },
  "language_info": {
   "codemirror_mode": {
    "name": "ipython",
    "version": 3
   },
   "file_extension": ".py",
   "mimetype": "text/x-python",
   "name": "python",
   "nbconvert_exporter": "python",
   "pygments_lexer": "ipython3",
   "version": "3.9.7"
  },
  "orig_nbformat": 4
 },
 "nbformat": 4,
 "nbformat_minor": 2
}
