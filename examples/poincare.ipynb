{
 "cells": [
  {
   "cell_type": "code",
   "execution_count": 1,
   "metadata": {},
   "outputs": [
    {
     "name": "stderr",
     "output_type": "stream",
     "text": [
      "C:\\ProgramData\\Anaconda3\\lib\\site-packages\\drawSvg\\raster.py:18: RuntimeWarning: Failed to import CairoSVG. drawSvg will be unable to output PNG or other raster image formats. See https://github.com/cduck/drawSvg#prerequisites for more details.\n",
      "Original OSError: no library called \"cairo-2\" was found\n",
      "no library called \"cairo\" was found\n",
      "no library called \"libcairo-2\" was found\n",
      "cannot load library 'libcairo.so.2': error 0x7e\n",
      "cannot load library 'libcairo.2.dylib': error 0x7e\n",
      "cannot load library 'libcairo-2.dll': error 0x7e\n",
      "  warnings.warn(msg, RuntimeWarning)\n"
     ]
    }
   ],
   "source": [
    "import sys\n",
    "sys.path.insert(0,\"..\")\n",
    "import drawSvg as draw\n",
    "from hyperbolic.poincare.shapes import *\n",
    "from constructions import randomPoints\n",
    "from deltaNeigbourhood import *\n",
    "from Triangle import *\n",
    "\n",
    "backgroundStyle = dict(stroke='#cc6500', stroke_width=0.01, fill='#ff7f00')\n",
    "polyStyle1 = dict(stroke='#793e82', stroke_width=0.005,  fill='#377eb8', fill_opacity=1)\n",
    "polyStyle2 = dict(stroke='#e94749', stroke_width=0.005, fill='#e41a1c', fill_opacity=0.75)\n",
    "lineStyle1 = dict(hwidth=0.02, fill='#984ea3')\n",
    "lineStyle2 = dict(hwidth=0.02, fill='#4daf4a')\n"
   ]
  },
  {
   "cell_type": "markdown",
   "metadata": {},
   "source": [
    "By default 3 Points within the unit circle are randomly choosen in a uniform manor.\\\n",
    "You can also set the Points yourself and adjust the delta and change the edge of the deltneigbourhood `edgeNumber` to see how it reacts."
   ]
  },
  {
   "cell_type": "code",
   "execution_count": 11,
   "id": "a719b7da",
   "metadata": {},
   "outputs": [
    {
     "name": "stdout",
     "output_type": "stream",
     "text": [
      "[Point(0.036, -0.493), Point(-0.518, -0.214), Point(-0.388, 0.918)]\n"
     ]
    },
    {
     "data": {
      "image/svg+xml": "<?xml version=\"1.0\" encoding=\"UTF-8\"?>\n<svg xmlns=\"http://www.w3.org/2000/svg\" xmlns:xlink=\"http://www.w3.org/1999/xlink\"\n     width=\"500\" height=\"500.0\" viewBox=\"-1.05 -1.05 2.1 2.1\">\n<defs>\n</defs>\n<circle cx=\"0\" cy=\"0\" r=\"1\" stroke=\"#cc6500\" stroke-width=\"0.01\" fill=\"#ff7f00\" />\n<path d=\"M0.03627708782606798,0.4931863747180074 A1.1212325543948756,1.1212325543948756,0,0,0,-0.5176402875300239,0.2135190223186767 A1.1645635810822195,1.1645635810822195,0,0,0,-0.387529562676461,-0.9175622527946876 A6.883033385836983,6.883033385836983,0,0,1,0.03627708782607275,0.4931863747180023 Z\" stroke=\"#793e82\" stroke-width=\"0.005\" fill=\"#377eb8\" fill-opacity=\"1\" />\n<path d=\"M-0.07133739675380113,0.5214775993646132 A0.1130884089454295,0.1130884089454295,0,0,0,0.14867585015494916,0.48066039584963144 A2.323981148421691,2.323981148421691,0,0,0,-0.3865352951989516,-0.9181667662910858 A0.0012026930991537177,0.0012026930991537177,0,0,0,-0.3886566225655602,-0.9172755868365401 A1.8863121645170977,1.8863121645170977,0,0,1,-0.6005329140796074,0.16184098335296138 A0.10291865189574964,0.10291865189574964,0,0,0,-0.4360574088225373,0.2821344734075804 A0.8986662399909522,0.8986662399909522,0,0,0,-0.23509722365047714,-0.037104807501167736 A6.564732325710758,6.564732325710758,0,0,0,-0.07133739675380113,0.5214775993646132 Z\" stroke=\"#e94749\" stroke-width=\"0.005\" fill=\"#e41a1c\" fill-opacity=\"0.75\" />\n</svg>",
      "text/plain": [
       "<drawSvg.drawing.Drawing at 0x212bda025e0>"
      ]
     },
     "execution_count": 11,
     "metadata": {},
     "output_type": "execute_result"
    }
   ],
   "source": [
    "d = draw.Drawing(2.1, 2.1, origin='center')\n",
    "d.append(draw.Circle(0, 0, 1, **backgroundStyle))\n",
    "\n",
    "\n",
    "listOfPoints=randomPoints(3)\n",
    "#listOfPoints=[Ideal.fromDegree(10), Ideal.fromDegree(136), Ideal.fromDegree(-98)]\n",
    "#listOfPoints=[Point(0.125, 0.727), Point(0.306, -0.806), Point(-0.602, 0.797)]\n",
    "print(listOfPoints)\n",
    "\n",
    "Tri=Triangle.fromVertices(listOfPoints)\n",
    "\n",
    "\n",
    "delta=0.3\n",
    "edgeNumber=0\n",
    "\n",
    "d.draw(Tri, **polyStyle1)\n",
    "d.draw(deltaNbh(Tri, delta, edgeNumber), **polyStyle2)\n",
    "\n",
    "d.setRenderSize(500)\n",
    "d"
   ]
  },
  {
   "cell_type": "markdown",
   "metadata": {},
   "source": [
    "In the next cell the delta is set to the approximated minimal delta for which the triangle is deltaslim.\\\n",
    "If you what to adjust the edge of the deltaneigbourhood for a specific triangle, copy the printed list of Points and adjust `edgeNumber`.\\\n",
    "Also the lines drawn are Hypercycles of the edges offset by delta to the inside of the triangle."
   ]
  },
  {
   "cell_type": "code",
   "execution_count": 12,
   "id": "a719b7da",
   "metadata": {},
   "outputs": [
    {
     "name": "stdout",
     "output_type": "stream",
     "text": [
      "[Point(-0.367, 0.639), Point(0.672, -0.375), Point(0.347, -0.85)]\n"
     ]
    },
    {
     "data": {
      "image/svg+xml": "<?xml version=\"1.0\" encoding=\"UTF-8\"?>\n<svg xmlns=\"http://www.w3.org/2000/svg\" xmlns:xlink=\"http://www.w3.org/1999/xlink\"\n     width=\"500\" height=\"500.0\" viewBox=\"-1.05 -1.05 2.1 2.1\">\n<defs>\n</defs>\n<circle cx=\"0\" cy=\"0\" r=\"1\" stroke=\"#cc6500\" stroke-width=\"0.01\" fill=\"#ff7f00\" />\n<path d=\"M-0.3672434424708162,-0.6387531450859854 A3.7729537601154983,3.7729537601154983,0,0,0,0.6720373305994864,0.37521270359807257 A0.4100883667702676,0.4100883667702676,0,0,0,0.34693877042320453,0.8502827463580414 A15.238720484462304,15.238720484462304,0,0,0,-0.3672434424708175,-0.6387531450859836 Z\" stroke=\"#793e82\" stroke-width=\"0.005\" fill=\"#377eb8\" fill-opacity=\"1\" />\n<path d=\"M-0.2456721958527921,-0.7592257836880224 A0.19271424041312452,0.19271424041312452,0,0,0,-0.532296900716769,-0.6009653057155621 A1.5999988006890853,1.5999988006890853,0,0,0,0.3045760194994652,0.888504443592748 A0.06944800203266438,0.06944800203266438,0,0,0,0.4001854124089269,0.8575334457071938 A0.885752186203633,0.885752186203633,0,0,1,0.720416563157354,0.49589436765866257 A0.17322820429037974,0.17322820429037974,0,0,0,0.687459867824967,0.18772410123130776 A0.4038774880080967,0.4038774880080967,0,0,0,0.43573506286052766,0.1777425596346235 A1.3850147933290717,1.3850147933290717,0,0,0,-0.2456721958527921,-0.7592257836880224 Z\" stroke=\"#e94749\" stroke-width=\"0.005\" fill=\"#e41a1c\" fill-opacity=\"0.75\" />\n<path d=\"M-0.5092116105346338,-0.8606413513750801 A1.1557478237561896,1.1557478237561896,0,0,0,0.8686361002478059,0.4954506285658369 A1.144780856151222,1.144780856151222,0,0,1,-0.509211610534634,-0.8606413513750796 Z\" fill=\"#4daf4a\" />\n<path d=\"M0.9155212975432925,0.4022695038710319 A0.40279885533136867,0.40279885533136867,0,1,0,0.3694863086098378,0.9292361743657399 A0.40497672627210024,0.40497672627210024,0,1,1,0.9155212975432925,0.40226950387103183 Z\" fill=\"#4daf4a\" />\n<path d=\"M0.3780098575322457,0.9258015703207958 A1.3950120954903684,1.3950120954903684,0,0,0,-0.49575365136951394,-0.86846319274555 A1.3752998056415775,1.3752998056415775,0,0,1,0.3780098575322455,0.9258015703207958 Z\" fill=\"#4daf4a\" />\n</svg>",
      "text/plain": [
       "<drawSvg.drawing.Drawing at 0x212bd9ea7f0>"
      ]
     },
     "execution_count": 12,
     "metadata": {},
     "output_type": "execute_result"
    }
   ],
   "source": [
    "d = draw.Drawing(2.1, 2.1, origin='center')\n",
    "d.append(draw.Circle(0, 0, 1, **backgroundStyle))\n",
    "\n",
    "\n",
    "listOfPoints=randomPoints(3)\n",
    "#listOfPoints=[Ideal.fromDegree(10), Ideal.fromDegree(136), Ideal.fromDegree(-98)]\n",
    "#listOfPoints=[Point(0.125, 0.727), Point(0.306, -0.806), Point(-0.602, 0.797)]\n",
    "print(listOfPoints)\n",
    "\n",
    "Tri=Triangle.fromVertices(listOfPoints)\n",
    "\n",
    "\n",
    "delta=Tri.approx()\n",
    "edgeNumber=0\n",
    "\n",
    "\n",
    "d.draw(Tri, **polyStyle1)\n",
    "d.draw(deltaNbh(Tri, delta, edgeNumber), **polyStyle2)\n",
    "\n",
    "\n",
    "for i in range(3):\n",
    "    d.draw(Tri.offsetEdge(i, delta, inner=True), **lineStyle2)\n",
    "\n",
    "d.setRenderSize(500)\n",
    "d"
   ]
  }
 ],
 "metadata": {
  "interpreter": {
   "hash": "b3ba2566441a7c06988d0923437866b63cedc61552a5af99d1f4fb67d367b25f"
  },
  "kernelspec": {
   "display_name": "Python 3.9.7 64-bit ('base': conda)",
   "language": "python",
   "name": "python3"
  },
  "language_info": {
   "codemirror_mode": {
    "name": "ipython",
    "version": 3
   },
   "file_extension": ".py",
   "mimetype": "text/x-python",
   "name": "python",
   "nbconvert_exporter": "python",
   "pygments_lexer": "ipython3",
   "version": "3.9.7"
  },
  "orig_nbformat": 4
 },
 "nbformat": 4,
 "nbformat_minor": 2
}
