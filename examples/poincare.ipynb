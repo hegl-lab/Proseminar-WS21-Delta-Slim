{
 "cells": [
  {
   "cell_type": "code",
   "execution_count": 1,
   "id": "a719b7da",
   "metadata": {},
   "outputs": [
    {
     "name": "stderr",
     "output_type": "stream",
     "text": [
      "C:\\ProgramData\\Anaconda3\\lib\\site-packages\\drawSvg\\raster.py:18: RuntimeWarning: Failed to import CairoSVG. drawSvg will be unable to output PNG or other raster image formats. See https://github.com/cduck/drawSvg#prerequisites for more details.\n",
      "Original OSError: no library called \"cairo-2\" was found\n",
      "no library called \"cairo\" was found\n",
      "no library called \"libcairo-2\" was found\n",
      "cannot load library 'libcairo.so.2': error 0x7e\n",
      "cannot load library 'libcairo.2.dylib': error 0x7e\n",
      "cannot load library 'libcairo-2.dll': error 0x7e\n",
      "  warnings.warn(msg, RuntimeWarning)\n"
     ]
    },
    {
     "name": "stdout",
     "output_type": "stream",
     "text": [
      "PList = [Point(0.423, 0.438), Point(-0.64, 0.156), Point(-0.157, -0.262)]\n",
      "k = 2\n",
      "Tri is CCW\n",
      "Tri is not covered for delta = 0.3\n"
     ]
    },
    {
     "data": {
      "image/svg+xml": "<?xml version=\"1.0\" encoding=\"UTF-8\"?>\n<svg xmlns=\"http://www.w3.org/2000/svg\" xmlns:xlink=\"http://www.w3.org/1999/xlink\"\n     width=\"750\" height=\"750.0\" viewBox=\"-1.05 -1.05 2.1 2.1\">\n<defs>\n</defs>\n<circle cx=\"0\" cy=\"0\" r=\"1\" fill=\"#ff7f00\" stroke-width=\"0.01\" stroke=\"#001a30\" />\n<path d=\"M0.4229216733977401,-0.4379912051698176 A1.9864486540121709,1.9864486540121709,0,0,1,-0.6395467363212943,-0.15606688645433198 A1.5939287070260826,1.5939287070260826,0,0,1,-0.15704454584683059,0.262413939066122 A12.737516464611069,12.737516464611069,0,0,1,0.422921673397747,-0.4379912051698067 Z\" stroke=\"black\" stroke-width=\"0.005\" fill=\"#53565b\" fill-opacity=\"1\" />\n<path d=\"M-0.04378318590394284,0.17859153805678707 A0.1352410717202074,0.1352410717202074,0,0,1,-0.2584642293401336,0.3428785335506572 A3.23774210841452,3.23774210841452,0,0,0,-0.6860563301100457,-0.08872520464126099 A0.085179985691403,0.085179985691403,0,0,1,-0.6455005692263394,-0.23809846025287512 A5.255845311903152,5.255845311903152,0,0,0,0.382890217502047,-0.5199380437119565 A0.09446977138816955,0.09446977138816955,0,0,1,0.4791597799504481,-0.36071561263133256 A1.293845887555738,1.293845887555738,0,0,1,-0.2564444804696019,-0.04607325270044771 A1.1217270906020171,1.1217270906020171,0,0,1,-0.04378318590394392,0.17859153805678785 Z\" stroke=\"black\" stroke-width=\"0.005\" fill=\"#ff9e1b\" fill-opacity=\"0.5\" />\n</svg>",
      "text/plain": [
       "<drawSvg.drawing.Drawing at 0x1d0962e77c0>"
      ]
     },
     "execution_count": 1,
     "metadata": {},
     "output_type": "execute_result"
    }
   ],
   "source": [
    "import random\n",
    "import drawSvg as draw\n",
    "import sys\n",
    "sys.path.insert(0,\"..\")\n",
    "from constructions import *\n",
    "from deltaNeigbourhood import *\n",
    "from hyperbolic.poincare.shapes import *\n",
    "from Triangle import *\n",
    "\n",
    "d = draw.Drawing(2.1, 2.1, origin='center')\n",
    "d.setRenderSize(750)\n",
    "d.append(draw.Circle(0, 0, 1, fill='#ff7f00', stroke_width=0.01, stroke='#001a30'))\n",
    "\n",
    "PList=randomPoints(3)\n",
    "k=random.randint(0,2)\n",
    "#PList=[Ideal.fromDegree(i/3*360) for i in range(2)]\n",
    "\n",
    "#PList=[Point(-0.381, -0.06), Point(-0.13, 0.123), Point(-0.182, 0.23)]\n",
    "#k=0\n",
    "\n",
    "print('PList =', PList)\n",
    "print('k =', k)\n",
    "\n",
    "Tri=Triangle.fromVertices(PList)\n",
    "\n",
    "delta = Tri.approx()\n",
    "delta=0.3\n",
    "d.draw(Tri, stroke='black', stroke_width=0.005,  fill='#53565b', fill_opacity=1)\n",
    "d.draw(deltaNbh(Tri,delta,k), stroke='black', stroke_width=0.005, fill='#ff9e1b', fill_opacity=0.5)\n",
    "\n",
    "if Tri.isCCW():\n",
    "    print('Tri is CCW')\n",
    "else:\n",
    "    print('Tri is CW')\n",
    "\n",
    "if Tri.isDeltaslim(delta):\n",
    "    print('Tri is delta-slim for delta =',delta)\n",
    "else:\n",
    "    print('Tri is not covered for delta =',delta)\n",
    "\n",
    "d"
   ]
  }
 ],
 "metadata": {
  "interpreter": {
   "hash": "b3ba2566441a7c06988d0923437866b63cedc61552a5af99d1f4fb67d367b25f"
  },
  "kernelspec": {
   "display_name": "Python 3.9.7 64-bit ('base': conda)",
   "language": "python",
   "name": "python3"
  },
  "language_info": {
   "codemirror_mode": {
    "name": "ipython",
    "version": 3
   },
   "file_extension": ".py",
   "mimetype": "text/x-python",
   "name": "python",
   "nbconvert_exporter": "python",
   "pygments_lexer": "ipython3",
   "version": "3.9.7"
  },
  "orig_nbformat": 4
 },
 "nbformat": 4,
 "nbformat_minor": 2
}
