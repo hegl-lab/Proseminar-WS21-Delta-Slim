{
 "cells": [
  {
   "cell_type": "code",
   "execution_count": null,
   "id": "a719b7da",
   "metadata": {},
   "outputs": [
    {
     "name": "stdout",
     "output_type": "stream",
     "text": [
      "PList = [Point(-0.084, 0.134), Point(0.797, 0.335), Point(-0.45, -0.86)]\n",
      "k = 0\n",
      "Tri is CW\n",
      "Tri is delta-slim for delta = 0.3\n"
     ]
    },
    {
     "data": {
      "image/svg+xml": "<?xml version=\"1.0\" encoding=\"UTF-8\"?>\n<svg xmlns=\"http://www.w3.org/2000/svg\" xmlns:xlink=\"http://www.w3.org/1999/xlink\"\n     width=\"750\" height=\"750.0\" viewBox=\"-1.05 -1.05 2.1 2.1\">\n<defs>\n</defs>\n<circle cx=\"0\" cy=\"0\" r=\"1\" fill=\"#ff7f00\" stroke-width=\"0.01\" stroke=\"#001a30\" />\n<path d=\"M-0.0844416420053456,-0.13408079992560662 A3.4493066427441796,3.4493066427441796,0,0,0,0.7969971712481276,-0.3349491732542549 A2.7968772665587607,2.7968772665587607,0,0,0,-0.4504064405958528,0.8604427844624243 A4.323054417116918,4.323054417116918,0,0,0,-0.08444164200534665,-0.1340807999256065 Z\" stroke=\"black\" stroke-width=\"0.005\" fill=\"#53565b\" fill-opacity=\"1\" />\n<path d=\"M0.05983083288589598,-0.10289706058176407 A0.14522764896448012,0.14522764896448012,0,0,0,-0.2228750972545353,-0.1688434172952702 A14.280119767428138,14.280119767428138,0,0,0,-0.4583075463426489,0.8577186407624735 A0.008633040969441896,0.008633040969441896,0,0,0,-0.443686829797712,0.8654048889835647 A19.715438773263728,19.715438773263728,0,0,1,0.8172154634501094,-0.30389366930094575 A0.03824261652113506,0.03824261652113506,0,0,0,0.7851345110168179,-0.3705766484567561 A1.5789135565275407,1.5789135565275407,0,0,0,0.03620261105983236,0.0011248947499216122 A1.9508472295480974,1.9508472295480974,0,0,0,0.059830832885894525,-0.1028970605817644 Z\" stroke=\"black\" stroke-width=\"0.005\" fill=\"#ff9e1b\" fill-opacity=\"0.5\" />\n</svg>",
      "text/plain": [
       "<drawSvg.drawing.Drawing at 0x1f1c78f9df0>"
      ]
     },
     "metadata": {},
     "output_type": "display_data"
    }
   ],
   "source": [
    "import random\n",
    "import drawSvg as draw\n",
    "from constructions import *\n",
    "from deltaNeigbourhood import *\n",
    "from hyperbolic.poincare.shapes import *\n",
    "from Triangle import *\n",
    "\n",
    "d = draw.Drawing(2.1, 2.1, origin='center')\n",
    "d.setRenderSize(750)\n",
    "d.append(draw.Circle(0, 0, 1, fill='#ff7f00', stroke_width=0.01, stroke='#001a30'))\n",
    "\n",
    "PList=randomPoints(3)\n",
    "k=random.randint(0,2)\n",
    "#PList=[Ideal.fromDegree(i/3*360) for i in range(2)]\n",
    "\n",
    "#PList=[Point(-0.381, -0.06), Point(-0.13, 0.123), Point(-0.182, 0.23)]\n",
    "#k=0\n",
    "\n",
    "print('PList =', PList)\n",
    "print('k =', k)\n",
    "\n",
    "Tri=Triangle.fromVertices(PList)\n",
    "\n",
    "delta = Tri.approx()\n",
    "delta=0.3\n",
    "d.draw(Tri, stroke='black', stroke_width=0.005,  fill='#53565b', fill_opacity=1)\n",
    "d.draw(deltaNbh(Tri,delta,k), stroke='black', stroke_width=0.005, fill='#ff9e1b', fill_opacity=0.5)\n",
    "\n",
    "if Tri.isCCW():\n",
    "    print('Tri is CCW')\n",
    "else:\n",
    "    print('Tri is CW')\n",
    "\n",
    "if Tri.isDeltaslim(delta):\n",
    "    print('Tri is delta-slim for delta =',delta)\n",
    "else:\n",
    "    print('Tri is not covered for delta =',delta)\n",
    "\n",
    "d"
   ]
  }
 ],
 "metadata": {
  "language_info": {
   "name": "python"
  },
  "orig_nbformat": 4
 },
 "nbformat": 4,
 "nbformat_minor": 2
}
