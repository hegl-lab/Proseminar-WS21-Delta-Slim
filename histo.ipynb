{
 "cells": [
  {
   "cell_type": "code",
   "execution_count": 1,
   "metadata": {},
   "outputs": [
    {
     "name": "stderr",
     "output_type": "stream",
     "text": [
      "/Library/Frameworks/Python.framework/Versions/3.10/lib/python3.10/site-packages/drawSvg/raster.py:18: RuntimeWarning: Failed to import CairoSVG. drawSvg will be unable to output PNG or other raster image formats. See https://github.com/cduck/drawSvg#prerequisites for more details.\n",
      "Original OSError: no library called \"cairo-2\" was found\n",
      "no library called \"cairo\" was found\n",
      "no library called \"libcairo-2\" was found\n",
      "cannot load library 'libcairo.so.2': dlopen(libcairo.so.2, 0x0002): tried: 'libcairo.so.2' (no such file), '/usr/lib/libcairo.so.2' (no such file), '/Users/denizaydin/untitled/proseminar-wise21-deltaslim/libcairo.so.2' (no such file), '/usr/lib/libcairo.so.2' (no such file)\n",
      "cannot load library 'libcairo.2.dylib': dlopen(libcairo.2.dylib, 0x0002): tried: 'libcairo.2.dylib' (no such file), '/usr/lib/libcairo.2.dylib' (no such file), '/Users/denizaydin/untitled/proseminar-wise21-deltaslim/libcairo.2.dylib' (no such file), '/usr/lib/libcairo.2.dylib' (no such file)\n",
      "cannot load library 'libcairo-2.dll': dlopen(libcairo-2.dll, 0x0002): tried: 'libcairo-2.dll' (no such file), '/usr/lib/libcairo-2.dll' (no such file), '/Users/denizaydin/untitled/proseminar-wise21-deltaslim/libcairo-2.dll' (no such file), '/usr/lib/libcairo-2.dll' (no such file)\n",
      "  warnings.warn(msg, RuntimeWarning)\n"
     ]
    },
    {
     "data": {
      "image/png": "[encoded data removed]",
      "text/plain": [
       "<Figure size 432x288 with 1 Axes>"
      ]
     },
     "metadata": {
      "needs_background": "light"
     },
     "output_type": "display_data"
    }
   ],
   "source": [
    "import math\n",
    "import drawSvg as draw\n",
    "from constructions import *\n",
    "from deltaNeigbourhood import *\n",
    "from hyperbolic.poincare.shapes import *\n",
    "from Triangle import *\n",
    "import matplotlib.pyplot as plt\n",
    "import random\n",
    "import numpy as np\n",
    "\n",
    "\n",
    "\n",
    "#no ideals\n",
    "i=0\n",
    "DList = []\n",
    "while i<100:\n",
    "    PList=randomPoints(3)\n",
    "    p1=PList[0]\n",
    "    p2=PList[1]\n",
    "    p3=PList[2]\n",
    "    #p1=Ideal(PList[0].theta)\n",
    "    #p2=Ideal(PList[1].theta)\n",
    "    #p3=Ideal(PList[2].theta)\n",
    "    PList=[p1,p2, p3]\n",
    "    Tri=Triangle.fromVertices(PList)\n",
    "    delta = Tri.approx()\n",
    "    DList.append(delta)\n",
    "    i=i+1\n",
    "j=0\n",
    "k=0\n",
    "l=0\n",
    "m=0.1\n",
    "CList=[]\n",
    "while k<10:\n",
    "    CList.append(0)\n",
    "    k=k+1  \n",
    "k=0\n",
    "while k<10:\n",
    "    j=0\n",
    "    while j<100:\n",
    "        if DList[j]<m and DList[j]>l: \n",
    "            CList[k]=CList[k]+1\n",
    "        j=j+1\n",
    "    l=l+0.1\n",
    "    m=m+0.1  \n",
    "    k=k+1    \n",
    "fig = plt.figure()\n",
    "ax = fig.add_axes([0,0,1,1])\n",
    "interval = ['0.0-0.1','0.1-0.2','0.2-0.3','0.3-0.4','0.4-0.5','0.5-0.6','0.6-0.7','0.7-0.8','0.8-0.9','0.9-1.0' ]\n",
    "ax.bar(interval,CList)\n",
    "plt.show()\n"
   ]
  },
  {
   "cell_type": "code",
   "execution_count": 2,
   "metadata": {},
   "outputs": [
    {
     "data": {
      "image/png": "[encoded data removed]",
      "text/plain": [
       "<Figure size 432x288 with 1 Axes>"
      ]
     },
     "metadata": {
      "needs_background": "light"
     },
     "output_type": "display_data"
    }
   ],
   "source": [
    "from matplotlib import pyplot as plt\n",
    "import numpy as np\n",
    "import math\n",
    "import drawSvg as draw\n",
    "from constructions import *\n",
    "from deltaNeigbourhood import *\n",
    "from hyperbolic.poincare.shapes import *\n",
    "from Triangle import *\n",
    "import random\n",
    "\n",
    "\n",
    "\n",
    "\n",
    "#three ideals\n",
    "i=0\n",
    "DList = []\n",
    "while i<100:\n",
    "    PList=randomPoints(3,2)\n",
    "    Tri=Triangle.fromVertices(PList)\n",
    "    delta = Tri.approx()\n",
    "    DList.append(delta)\n",
    "    i=i+1\n",
    "fig,ax = plt.subplots(1,1)\n",
    "a = np.array(DList)\n",
    "\n",
    "ax.hist(a, range=[0,1], bins=20)\n",
    "ax.set_title(\"histogram of result\")\n",
    "ax.set_xlabel('marks')\n",
    "ax.set_ylabel('no. of students')\n",
    "plt.show()\n"
   ]
  }
 ],
 "metadata": {
  "interpreter": {
   "hash": "aee8b7b246df8f9039afb4144a1f6fd8d2ca17a180786b69acc140d282b71a49"
  },
  "kernelspec": {
   "display_name": "Python 3.10.0 64-bit",
   "language": "python",
   "name": "python3"
  },
  "language_info": {
   "codemirror_mode": {
    "name": "ipython",
    "version": 3
   },
   "file_extension": ".py",
   "mimetype": "text/x-python",
   "name": "python",
   "nbconvert_exporter": "python",
   "pygments_lexer": "ipython3",
   "version": "3.10.0"
  },
  "orig_nbformat": 4
 },
 "nbformat": 4,
 "nbformat_minor": 2
}
